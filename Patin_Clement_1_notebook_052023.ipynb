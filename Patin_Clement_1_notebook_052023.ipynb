{
 "cells": [
  {
   "cell_type": "markdown",
   "id": "27327271",
   "metadata": {},
   "source": [
    "# PRÉPAREZ DES DONNÉES POUR UN ORGANISME DE SANTÉ PUBLIQUE\n",
    "\n",
    "![](Logo-Sante-Publique-France-.png)"
   ]
  },
  {
   "cell_type": "markdown",
   "id": "f57bef0c",
   "metadata": {},
   "source": [
    "# Table des matières"
   ]
  },
  {
   "cell_type": "markdown",
   "id": "075cef66",
   "metadata": {},
   "source": [
    "# Introduction"
   ]
  },
  {
   "cell_type": "markdown",
   "id": "3843f044",
   "metadata": {},
   "source": [
    "L'agence \"Santé publique France\" a lancé un **appel à projets pour rendre les données de santé plus accessibles**. L’agence souhaite faire explorer et visualiser des données, pour que ses agents puissent les exploiter.\n",
    "\n",
    "Le jeu de données à analyser est issu de la plateforme **Open Food Facts**, qui est une association donnant accès à une base données de produits alimentaires :\n",
    "- ouverte à tous\n",
    "- où tout le monde peut contribuer\n",
    "\n",
    "Dans le cadre de cet appel à projets, nous :\n",
    "- proposerons une idée d'application\n",
    "- mènerons à bien le nettoyage nécessaire à l'exploration des données\n",
    "- explorerons les données traitées"
   ]
  },
  {
   "cell_type": "markdown",
   "id": "ec155dd9",
   "metadata": {},
   "source": [
    "# Partie 1 - Imports & Proposition d'application"
   ]
  },
  {
   "cell_type": "markdown",
   "id": "115d5ea2",
   "metadata": {},
   "source": [
    "## P1.1. Imports des librairies & du dataset\n",
    "\n",
    "Commençons par importer les principales librairies dont nous aurons besoin :"
   ]
  },
  {
   "cell_type": "code",
   "execution_count": 1,
   "id": "b0af5441",
   "metadata": {},
   "outputs": [],
   "source": [
    "import pandas as pd # to manipulate the dataset with dataframes\n",
    "import numpy as np # for statistics and calculations\n",
    "import matplotlib.pyplot as plt # for data visualisation\n",
    "%matplotlib inline\n",
    "import seaborn as sns # for data visualisation, with different proporties\n",
    "import missingno as ms # for visualisation of missing data"
   ]
  },
  {
   "cell_type": "markdown",
   "id": "c7eab489",
   "metadata": {},
   "source": [
    "## P1.2. Import du dataset"
   ]
  },
  {
   "cell_type": "code",
   "execution_count": 2,
   "id": "c633cca4",
   "metadata": {
    "scrolled": false
   },
   "outputs": [],
   "source": [
    "foodRaw=pd.read_csv('fr.openfoodfacts.org.products.csv', sep='\\t',low_memory=False)"
   ]
  },
  {
   "cell_type": "markdown",
   "id": "11cb9fbd",
   "metadata": {},
   "source": [
    "Nous pouvons regarder les dimensions du tableau généré :"
   ]
  },
  {
   "cell_type": "code",
   "execution_count": 3,
   "id": "a562f496",
   "metadata": {},
   "outputs": [
    {
     "name": "stdout",
     "output_type": "stream",
     "text": [
      "Le tableau mis à disposition comporte  162 variables et  320772 lignes / produits\n"
     ]
    }
   ],
   "source": [
    "print(\"Le tableau mis à disposition comporte \", foodRaw.shape[1], \"variables et \", foodRaw.shape[0], \"lignes / produits\")"
   ]
  },
  {
   "cell_type": "markdown",
   "id": "d98ceb60",
   "metadata": {},
   "source": [
    "Nous pouvons affihcer les premières lignes :"
   ]
  },
  {
   "cell_type": "code",
   "execution_count": 4,
   "id": "60a04e98",
   "metadata": {},
   "outputs": [
    {
     "data": {
      "text/html": [
       "<div>\n",
       "<style scoped>\n",
       "    .dataframe tbody tr th:only-of-type {\n",
       "        vertical-align: middle;\n",
       "    }\n",
       "\n",
       "    .dataframe tbody tr th {\n",
       "        vertical-align: top;\n",
       "    }\n",
       "\n",
       "    .dataframe thead th {\n",
       "        text-align: right;\n",
       "    }\n",
       "</style>\n",
       "<table border=\"1\" class=\"dataframe\">\n",
       "  <thead>\n",
       "    <tr style=\"text-align: right;\">\n",
       "      <th></th>\n",
       "      <th>code</th>\n",
       "      <th>url</th>\n",
       "      <th>creator</th>\n",
       "      <th>created_t</th>\n",
       "      <th>created_datetime</th>\n",
       "      <th>last_modified_t</th>\n",
       "      <th>last_modified_datetime</th>\n",
       "      <th>product_name</th>\n",
       "      <th>generic_name</th>\n",
       "      <th>quantity</th>\n",
       "      <th>...</th>\n",
       "      <th>ph_100g</th>\n",
       "      <th>fruits-vegetables-nuts_100g</th>\n",
       "      <th>collagen-meat-protein-ratio_100g</th>\n",
       "      <th>cocoa_100g</th>\n",
       "      <th>chlorophyl_100g</th>\n",
       "      <th>carbon-footprint_100g</th>\n",
       "      <th>nutrition-score-fr_100g</th>\n",
       "      <th>nutrition-score-uk_100g</th>\n",
       "      <th>glycemic-index_100g</th>\n",
       "      <th>water-hardness_100g</th>\n",
       "    </tr>\n",
       "  </thead>\n",
       "  <tbody>\n",
       "    <tr>\n",
       "      <th>0</th>\n",
       "      <td>0000000003087</td>\n",
       "      <td>http://world-fr.openfoodfacts.org/produit/0000...</td>\n",
       "      <td>openfoodfacts-contributors</td>\n",
       "      <td>1474103866</td>\n",
       "      <td>2016-09-17T09:17:46Z</td>\n",
       "      <td>1474103893</td>\n",
       "      <td>2016-09-17T09:18:13Z</td>\n",
       "      <td>Farine de blé noir</td>\n",
       "      <td>NaN</td>\n",
       "      <td>1kg</td>\n",
       "      <td>...</td>\n",
       "      <td>NaN</td>\n",
       "      <td>NaN</td>\n",
       "      <td>NaN</td>\n",
       "      <td>NaN</td>\n",
       "      <td>NaN</td>\n",
       "      <td>NaN</td>\n",
       "      <td>NaN</td>\n",
       "      <td>NaN</td>\n",
       "      <td>NaN</td>\n",
       "      <td>NaN</td>\n",
       "    </tr>\n",
       "    <tr>\n",
       "      <th>1</th>\n",
       "      <td>0000000004530</td>\n",
       "      <td>http://world-fr.openfoodfacts.org/produit/0000...</td>\n",
       "      <td>usda-ndb-import</td>\n",
       "      <td>1489069957</td>\n",
       "      <td>2017-03-09T14:32:37Z</td>\n",
       "      <td>1489069957</td>\n",
       "      <td>2017-03-09T14:32:37Z</td>\n",
       "      <td>Banana Chips Sweetened (Whole)</td>\n",
       "      <td>NaN</td>\n",
       "      <td>NaN</td>\n",
       "      <td>...</td>\n",
       "      <td>NaN</td>\n",
       "      <td>NaN</td>\n",
       "      <td>NaN</td>\n",
       "      <td>NaN</td>\n",
       "      <td>NaN</td>\n",
       "      <td>NaN</td>\n",
       "      <td>14.0</td>\n",
       "      <td>14.0</td>\n",
       "      <td>NaN</td>\n",
       "      <td>NaN</td>\n",
       "    </tr>\n",
       "    <tr>\n",
       "      <th>2</th>\n",
       "      <td>0000000004559</td>\n",
       "      <td>http://world-fr.openfoodfacts.org/produit/0000...</td>\n",
       "      <td>usda-ndb-import</td>\n",
       "      <td>1489069957</td>\n",
       "      <td>2017-03-09T14:32:37Z</td>\n",
       "      <td>1489069957</td>\n",
       "      <td>2017-03-09T14:32:37Z</td>\n",
       "      <td>Peanuts</td>\n",
       "      <td>NaN</td>\n",
       "      <td>NaN</td>\n",
       "      <td>...</td>\n",
       "      <td>NaN</td>\n",
       "      <td>NaN</td>\n",
       "      <td>NaN</td>\n",
       "      <td>NaN</td>\n",
       "      <td>NaN</td>\n",
       "      <td>NaN</td>\n",
       "      <td>0.0</td>\n",
       "      <td>0.0</td>\n",
       "      <td>NaN</td>\n",
       "      <td>NaN</td>\n",
       "    </tr>\n",
       "    <tr>\n",
       "      <th>3</th>\n",
       "      <td>0000000016087</td>\n",
       "      <td>http://world-fr.openfoodfacts.org/produit/0000...</td>\n",
       "      <td>usda-ndb-import</td>\n",
       "      <td>1489055731</td>\n",
       "      <td>2017-03-09T10:35:31Z</td>\n",
       "      <td>1489055731</td>\n",
       "      <td>2017-03-09T10:35:31Z</td>\n",
       "      <td>Organic Salted Nut Mix</td>\n",
       "      <td>NaN</td>\n",
       "      <td>NaN</td>\n",
       "      <td>...</td>\n",
       "      <td>NaN</td>\n",
       "      <td>NaN</td>\n",
       "      <td>NaN</td>\n",
       "      <td>NaN</td>\n",
       "      <td>NaN</td>\n",
       "      <td>NaN</td>\n",
       "      <td>12.0</td>\n",
       "      <td>12.0</td>\n",
       "      <td>NaN</td>\n",
       "      <td>NaN</td>\n",
       "    </tr>\n",
       "    <tr>\n",
       "      <th>4</th>\n",
       "      <td>0000000016094</td>\n",
       "      <td>http://world-fr.openfoodfacts.org/produit/0000...</td>\n",
       "      <td>usda-ndb-import</td>\n",
       "      <td>1489055653</td>\n",
       "      <td>2017-03-09T10:34:13Z</td>\n",
       "      <td>1489055653</td>\n",
       "      <td>2017-03-09T10:34:13Z</td>\n",
       "      <td>Organic Polenta</td>\n",
       "      <td>NaN</td>\n",
       "      <td>NaN</td>\n",
       "      <td>...</td>\n",
       "      <td>NaN</td>\n",
       "      <td>NaN</td>\n",
       "      <td>NaN</td>\n",
       "      <td>NaN</td>\n",
       "      <td>NaN</td>\n",
       "      <td>NaN</td>\n",
       "      <td>NaN</td>\n",
       "      <td>NaN</td>\n",
       "      <td>NaN</td>\n",
       "      <td>NaN</td>\n",
       "    </tr>\n",
       "  </tbody>\n",
       "</table>\n",
       "<p>5 rows × 162 columns</p>\n",
       "</div>"
      ],
      "text/plain": [
       "            code                                                url  \\\n",
       "0  0000000003087  http://world-fr.openfoodfacts.org/produit/0000...   \n",
       "1  0000000004530  http://world-fr.openfoodfacts.org/produit/0000...   \n",
       "2  0000000004559  http://world-fr.openfoodfacts.org/produit/0000...   \n",
       "3  0000000016087  http://world-fr.openfoodfacts.org/produit/0000...   \n",
       "4  0000000016094  http://world-fr.openfoodfacts.org/produit/0000...   \n",
       "\n",
       "                      creator   created_t      created_datetime  \\\n",
       "0  openfoodfacts-contributors  1474103866  2016-09-17T09:17:46Z   \n",
       "1             usda-ndb-import  1489069957  2017-03-09T14:32:37Z   \n",
       "2             usda-ndb-import  1489069957  2017-03-09T14:32:37Z   \n",
       "3             usda-ndb-import  1489055731  2017-03-09T10:35:31Z   \n",
       "4             usda-ndb-import  1489055653  2017-03-09T10:34:13Z   \n",
       "\n",
       "  last_modified_t last_modified_datetime                    product_name  \\\n",
       "0      1474103893   2016-09-17T09:18:13Z              Farine de blé noir   \n",
       "1      1489069957   2017-03-09T14:32:37Z  Banana Chips Sweetened (Whole)   \n",
       "2      1489069957   2017-03-09T14:32:37Z                         Peanuts   \n",
       "3      1489055731   2017-03-09T10:35:31Z          Organic Salted Nut Mix   \n",
       "4      1489055653   2017-03-09T10:34:13Z                 Organic Polenta   \n",
       "\n",
       "  generic_name quantity  ... ph_100g fruits-vegetables-nuts_100g  \\\n",
       "0          NaN      1kg  ...     NaN                         NaN   \n",
       "1          NaN      NaN  ...     NaN                         NaN   \n",
       "2          NaN      NaN  ...     NaN                         NaN   \n",
       "3          NaN      NaN  ...     NaN                         NaN   \n",
       "4          NaN      NaN  ...     NaN                         NaN   \n",
       "\n",
       "  collagen-meat-protein-ratio_100g cocoa_100g chlorophyl_100g  \\\n",
       "0                              NaN        NaN             NaN   \n",
       "1                              NaN        NaN             NaN   \n",
       "2                              NaN        NaN             NaN   \n",
       "3                              NaN        NaN             NaN   \n",
       "4                              NaN        NaN             NaN   \n",
       "\n",
       "  carbon-footprint_100g nutrition-score-fr_100g nutrition-score-uk_100g  \\\n",
       "0                   NaN                     NaN                     NaN   \n",
       "1                   NaN                    14.0                    14.0   \n",
       "2                   NaN                     0.0                     0.0   \n",
       "3                   NaN                    12.0                    12.0   \n",
       "4                   NaN                     NaN                     NaN   \n",
       "\n",
       "  glycemic-index_100g water-hardness_100g  \n",
       "0                 NaN                 NaN  \n",
       "1                 NaN                 NaN  \n",
       "2                 NaN                 NaN  \n",
       "3                 NaN                 NaN  \n",
       "4                 NaN                 NaN  \n",
       "\n",
       "[5 rows x 162 columns]"
      ]
     },
     "metadata": {},
     "output_type": "display_data"
    }
   ],
   "source": [
    "display(foodRaw.head())"
   ]
  },
  {
   "cell_type": "markdown",
   "id": "c6b7e08a",
   "metadata": {},
   "source": [
    "Nous avons à disposition 4 types de variables :\n",
    "- Les informations générales sur la fiche du produit : nom, date de modification, etc.\n",
    "- Un ensemble de tags : catégorie du produit, localisation, origine, etc.\n",
    "- Les ingrédients composant les produits et leurs additifs éventuels.\n",
    "- Des informations nutritionnelles : \n",
    "    - quantité en grammes d’un nutriment pour 100 grammes du produit.\n",
    "    - des scores nutritionnels (comme le nutriscore)"
   ]
  },
  {
   "cell_type": "markdown",
   "id": "802c8d6a",
   "metadata": {},
   "source": [
    "## P1.3. Proposition d'application"
   ]
  },
  {
   "cell_type": "markdown",
   "id": "d1e07ae1",
   "metadata": {},
   "source": [
    "Afin d'aider à améliorer la santé de nos concitoyens, nous pourrions utiliser les données mises à notre disposition pour aider les malades et les médecins.\n",
    "\n",
    "En effet, un des principaux maux du 21$^{ème}$ est la multiplications de maladies chroniques dans nos sociétés industrialisées. Mes maladies cardiovasculaires représentent **la dépense la plus importante** pour l'Assurance Maladie.\n",
    "\n",
    "**Hypertension, Diabètes, Cholestérol, Obésites, etc.** : Toutes ses pathologies sont, à des degrès différents, liées au régime alimentaire des malades.\n",
    "\n",
    "En plus des médicaments, les médecins prescrivent également un **régime alimentaire adapté** aux pathologies chroniques des patients affectés.\n",
    "\n",
    "Mais devant le nombre de produits disponibles en grandes surfaces, chacun avec une étiquette nutritionnelle qui lui est propre, le patient peut se retrouver démuni au moment de faire ses choix.\n",
    "\n",
    "**MyHealthScore** : Une application **proposée par le médecin** à son patient pour l'aider à adapter son régime alimentaire à sa (ou ses) pathologie(s).\n",
    "\n",
    "L'idée :\n",
    "- le médecin configure le **profil** de son patient :\n",
    "    - données biométriques : sexe, age, poids, taille, etc.\n",
    "    - pathologie(s) : hypertension, diabètes, cholestérol, obésité, autre\n",
    "    \n",
    "    \n",
    "- le profil permet de créé un score nutritionnel **adapté au patient** : *MyHealthScore*\n",
    "    - ce score est basé sur les **mêmes données** nutritionnelles que le Nutri-Score :\n",
    "        - La valeur énergétique (KJ)\n",
    "        - Les lipides (g)\n",
    "        - Les acides gras saturés (g)\n",
    "        - Les sucres (g)\n",
    "        - Les protéines (g)\n",
    "        - Le sodium (mg)\n",
    "        - Les fibres (g)\n",
    "        - Fruits, légumes, etc. (%)\n",
    "        \n",
    "   mais **personnalisé** pour le profil du patient.\n",
    "\n",
    "\n",
    "- l'**application** pourrait fonctionner ainsi :\n",
    "    - le patient **scanne / rentre une référence** d'un produit\n",
    "    - l'application **lui délivre ensuite son MyHeathScore personnalisé** selon les informations renseignées par son médecin.\n",
    "\n",
    "\n"
   ]
  },
  {
   "cell_type": "markdown",
   "id": "6d99c799",
   "metadata": {},
   "source": [
    "## P1.4. Sélection des variables"
   ]
  },
  {
   "cell_type": "markdown",
   "id": "e3633f8c",
   "metadata": {},
   "source": [
    "Pour fonctionner, l'application ferait appel à la base de données d'OpenFoodFact pour récupérer les données nutritionnelles et calculer le MyHealthScore du patient.\n",
    "\n",
    "Il faut pour cela que les données soient présentes. Regardons visuellement le niveau de remplissage du dataset. Pour cela nous allons utiliser la librairie `missingno` :"
   ]
  },
  {
   "cell_type": "code",
   "execution_count": 5,
   "id": "b688f9bc",
   "metadata": {},
   "outputs": [
    {
     "data": {
      "image/png": "[encoded data removed]",
      "text/plain": [
       "<Figure size 2500x1000 with 1 Axes>"
      ]
     },
     "metadata": {},
     "output_type": "display_data"
    }
   ],
   "source": [
    "ms.matrix(foodRaw,color=[0.7,0.0,0.0],sparkline=False) # dataviz of missing data\n",
    "plt.show()"
   ]
  },
  {
   "cell_type": "markdown",
   "id": "717ac259",
   "metadata": {},
   "source": [
    "Le data set est globalement **très peu renseigné**.\n",
    "\n",
    "Nous pouvons regarder ce qu'il en est des features qui nous intéressent pour calculer, théoriquement, un MyHealthScore :"
   ]
  },
  {
   "cell_type": "code",
   "execution_count": 6,
   "id": "c94e9f0b",
   "metadata": {},
   "outputs": [
    {
     "data": {
      "image/png": "[encoded data removed]",
      "text/plain": [
       "<Figure size 2500x1000 with 1 Axes>"
      ]
     },
     "metadata": {},
     "output_type": "display_data"
    }
   ],
   "source": [
    "theoricalFeaturesNames=[\"energy_100g\",\"sugars_100g\",\"saturated-fat_100g\",\"sodium_100g\",\"fruits-vegetables-nuts_100g\",\"fiber_100g\",\"proteins_100g\"]\n",
    "ms.matrix(foodRaw[theoricalFeaturesNames],color=[0.7,0.0,0.0],sparkline=False) # dataviz of missing data\n",
    "plt.show()"
   ]
  },
  {
   "cell_type": "markdown",
   "id": "24af751f",
   "metadata": {},
   "source": [
    "Malheureusement la feature concernant les **fruits et légumes** est **très peu renseignée**...\n",
    "\n",
    "Or celle-ci se révelle indispensable pour calculer un MyHealthScore reflétant correctement les recommandations médicales.\n",
    "\n",
    "Par exemple, si l'on regarde les **préconisations hygiéno-ditétiques pour les personnes atteinte d'hypertension**, le site internet de la **sécurité sociale indique** :\n",
    "- sel : < 6g /j\n",
    "- perdre du poids, soit via une IMC < 25 kg/m², soit en perdant 10% du poids initial\n",
    "- activité physique, soit 30 min/j, soit 3x / semaine\n",
    "- réduire consommation d'alcool\n",
    "- augmenter la consommation de **fruits et légumes**\n",
    "- réduire la consommation de graisses saturées\n",
    "- arrêter le tabac"
   ]
  },
  {
   "cell_type": "markdown",
   "id": "8fc5ae99",
   "metadata": {},
   "source": [
    "La construction d'un MyHealthScore devra donc passer par la prise en compte d'autres colonnes. Pour les déterminer, nous pourrons nous baser dans un premier sur le \"taux de vide\". Regardons ce que cela donne pour les colonnes `theoricalFeaturesNames` :"
   ]
  },
  {
   "cell_type": "code",
   "execution_count": 7,
   "id": "d26140bc",
   "metadata": {},
   "outputs": [
    {
     "data": {
      "text/plain": [
       "energy_100g                    18.6 %\n",
       "sugars_100g                    23.6 %\n",
       "saturated-fat_100g             28.4 %\n",
       "sodium_100g                    20.4 %\n",
       "fruits-vegetables-nuts_100g    99.1 %\n",
       "fiber_100g                     37.4 %\n",
       "proteins_100g                  19.0 %\n",
       "dtype: object"
      ]
     },
     "execution_count": 7,
     "metadata": {},
     "output_type": "execute_result"
    }
   ],
   "source": [
    "(foodRaw[theoricalFeaturesNames].isna().mean()*100).round(1).astype(str)+\" %\""
   ]
  },
  {
   "cell_type": "markdown",
   "id": "fa7e82b5",
   "metadata": {},
   "source": [
    "Écrivons une fonction pour filtrer les colonnes en fonction de leur taux de valeurs manquantes :"
   ]
  },
  {
   "cell_type": "code",
   "execution_count": 8,
   "id": "56f77ec0",
   "metadata": {},
   "outputs": [],
   "source": [
    "def dropEmptyCols(df,emptinessThreshold=1) :\n",
    "    \n",
    "    \"\"\"return an input pandas.DataFrame without its empty columns\n",
    "    \n",
    "    inputs\n",
    "    ------\n",
    "    df : pandas.DataFrame object\n",
    "    \n",
    "    optional inputs \n",
    "    ---------------\n",
    "    emptinessThreshold : float, defaul : = 1. Gives the limit threshold of emptiness. \n",
    "    if >=threshold, column is dropped. \n",
    "    \n",
    "    returns\n",
    "    -------\n",
    "    dfWithoutEmptyCols : pandas.DataFrame object, the same one without its empty columns\n",
    "    \n",
    "    \"\"\"\n",
    "    emptyColsNames=df.isna().mean().loc[df.isna().mean()>=emptinessThreshold].index\n",
    "    dfWithoutEmptyCols = df.copy()\n",
    "    dfWithoutEmptyCols = df.drop(columns=emptyColsNames)\n",
    "    return dfWithoutEmptyCols"
   ]
  },
  {
   "cell_type": "markdown",
   "id": "f180a12e",
   "metadata": {},
   "source": [
    "Nous avons d'ores et déjà fait une croix sur `fruits-vegetables-nuts_100g`. Basons-nous sur le taux de `fiber_100g` :"
   ]
  },
  {
   "cell_type": "code",
   "execution_count": 9,
   "id": "0dc0cde0",
   "metadata": {},
   "outputs": [],
   "source": [
    "foodWithout_38=dropEmptyCols(foodRaw,emptinessThreshold=0.38)"
   ]
  },
  {
   "cell_type": "code",
   "execution_count": 10,
   "id": "62a90da6",
   "metadata": {
    "scrolled": false
   },
   "outputs": [
    {
     "data": {
      "text/plain": [
       "last_modified_t                              0.0 %\n",
       "last_modified_datetime                       0.0 %\n",
       "creator                                      0.0 %\n",
       "created_t                                    0.0 %\n",
       "created_datetime                             0.0 %\n",
       "code                                        0.01 %\n",
       "url                                         0.01 %\n",
       "states_tags                                 0.01 %\n",
       "states                                      0.01 %\n",
       "states_fr                                   0.01 %\n",
       "countries_fr                                0.09 %\n",
       "countries_tags                              0.09 %\n",
       "countries                                   0.09 %\n",
       "product_name                                5.54 %\n",
       "brands                                      8.86 %\n",
       "brands_tags                                 8.86 %\n",
       "energy_100g                                 18.6 %\n",
       "proteins_100g                              18.97 %\n",
       "salt_100g                                  20.35 %\n",
       "sodium_100g                                20.36 %\n",
       "ingredients_text                           22.39 %\n",
       "additives_n                                22.39 %\n",
       "ingredients_from_palm_oil_n                22.39 %\n",
       "ingredients_that_may_be_from_palm_oil_n    22.39 %\n",
       "additives                                   22.4 %\n",
       "sugars_100g                                23.63 %\n",
       "fat_100g                                   23.97 %\n",
       "carbohydrates_100g                         24.06 %\n",
       "saturated-fat_100g                         28.44 %\n",
       "nutrition_grade_fr                         31.04 %\n",
       "nutrition-score-fr_100g                    31.04 %\n",
       "nutrition-score-uk_100g                    31.04 %\n",
       "serving_size                               34.12 %\n",
       "fiber_100g                                 37.37 %\n",
       "dtype: object"
      ]
     },
     "execution_count": 10,
     "metadata": {},
     "output_type": "execute_result"
    }
   ],
   "source": [
    "(foodWithout_38.isna().mean().sort_values()*100).round(2).astype(str)+\" %\""
   ]
  },
  {
   "cell_type": "markdown",
   "id": "873c19cc",
   "metadata": {},
   "source": [
    "N'ayant pas à notre disposition la teneur en fruits et légumes, nous pouvons nous baser sur le Nutri-Score, qui prend en compte celle-ci dans son calcul.\n",
    "\n",
    "A partir du Nutri-Score, il sera possible dans le cadre du développement de l'application, de créer un MyHealthScore en adaptant les pondérations des autres valeurs nutritionnelles.\n",
    "\n",
    "On peut donc sélectionner les variables suivantes pour notre analyse :\n",
    "- `code`, `product_name` et `brands` pour identitifer les produits\n",
    "- `nutrition-score-fr_100g` qui correspond au socre nutritionnel\n",
    "- `nutrition_grade_fr` qui correspond au Nutri-Score, l'échelle graphique scindant le score nutritionnel en 5 classes A, B, C, D et E\n",
    "- `energy_100g`\n",
    "- `proteins_100g`\n",
    "- `fiber_100g`\n",
    "- `sodium_100g` et `salt_100g`, qui sont liées et dont l'analyse commune pourrait servir dans le traitement\n",
    "- `sugars_100g` et `carbohydrates_100g`\n",
    "- `saturated-fat_100g` et `fat_100g`\n",
    "- `countries_fr`, qui liste les pays de dans lesquels le produit est commercialisé. Nous souhaitons réaliser l'étude pour la France dans un premier temps. Cette colonne servira essentiellement à filtrer."
   ]
  },
  {
   "cell_type": "code",
   "execution_count": 15,
   "id": "77fcd350",
   "metadata": {},
   "outputs": [],
   "source": [
    "workFeatures=theoricalFeaturesNames+[\"code\",\n",
    "                                     \"product_name\",\n",
    "                                     \"brands\",\n",
    "                                     \"nutrition-score-fr_100g\",\n",
    "                                     \"nutrition_grade_fr\",\n",
    "                                     \"salt_100g\",\n",
    "                                     \"carbohydrates_100g\",\n",
    "                                     \"fat_100g\",\n",
    "                                     \"countries_fr\"]"
   ]
  },
  {
   "cell_type": "code",
   "execution_count": 17,
   "id": "a8ac5b04",
   "metadata": {},
   "outputs": [
    {
     "data": {
      "text/html": [
       "<div>\n",
       "<style scoped>\n",
       "    .dataframe tbody tr th:only-of-type {\n",
       "        vertical-align: middle;\n",
       "    }\n",
       "\n",
       "    .dataframe tbody tr th {\n",
       "        vertical-align: top;\n",
       "    }\n",
       "\n",
       "    .dataframe thead th {\n",
       "        text-align: right;\n",
       "    }\n",
       "</style>\n",
       "<table border=\"1\" class=\"dataframe\">\n",
       "  <thead>\n",
       "    <tr style=\"text-align: right;\">\n",
       "      <th></th>\n",
       "      <th>energy_100g</th>\n",
       "      <th>sugars_100g</th>\n",
       "      <th>saturated-fat_100g</th>\n",
       "      <th>sodium_100g</th>\n",
       "      <th>fruits-vegetables-nuts_100g</th>\n",
       "      <th>fiber_100g</th>\n",
       "      <th>proteins_100g</th>\n",
       "      <th>code</th>\n",
       "      <th>product_name</th>\n",
       "      <th>brands</th>\n",
       "      <th>nutrition-score-fr_100g</th>\n",
       "      <th>nutrition_grade_fr</th>\n",
       "      <th>salt_100g</th>\n",
       "      <th>carbohydrates_100g</th>\n",
       "      <th>fat_100g</th>\n",
       "      <th>countries_fr</th>\n",
       "    </tr>\n",
       "  </thead>\n",
       "  <tbody>\n",
       "    <tr>\n",
       "      <th>0</th>\n",
       "      <td>NaN</td>\n",
       "      <td>NaN</td>\n",
       "      <td>NaN</td>\n",
       "      <td>NaN</td>\n",
       "      <td>NaN</td>\n",
       "      <td>NaN</td>\n",
       "      <td>NaN</td>\n",
       "      <td>0000000003087</td>\n",
       "      <td>Farine de blé noir</td>\n",
       "      <td>Ferme t'y R'nao</td>\n",
       "      <td>NaN</td>\n",
       "      <td>NaN</td>\n",
       "      <td>NaN</td>\n",
       "      <td>NaN</td>\n",
       "      <td>NaN</td>\n",
       "      <td>France</td>\n",
       "    </tr>\n",
       "    <tr>\n",
       "      <th>1</th>\n",
       "      <td>2243.0</td>\n",
       "      <td>14.29</td>\n",
       "      <td>28.57</td>\n",
       "      <td>0.000</td>\n",
       "      <td>NaN</td>\n",
       "      <td>3.6</td>\n",
       "      <td>3.57</td>\n",
       "      <td>0000000004530</td>\n",
       "      <td>Banana Chips Sweetened (Whole)</td>\n",
       "      <td>NaN</td>\n",
       "      <td>14.0</td>\n",
       "      <td>d</td>\n",
       "      <td>0.00000</td>\n",
       "      <td>64.29</td>\n",
       "      <td>28.57</td>\n",
       "      <td>États-Unis</td>\n",
       "    </tr>\n",
       "    <tr>\n",
       "      <th>2</th>\n",
       "      <td>1941.0</td>\n",
       "      <td>17.86</td>\n",
       "      <td>0.00</td>\n",
       "      <td>0.250</td>\n",
       "      <td>NaN</td>\n",
       "      <td>7.1</td>\n",
       "      <td>17.86</td>\n",
       "      <td>0000000004559</td>\n",
       "      <td>Peanuts</td>\n",
       "      <td>Torn &amp; Glasser</td>\n",
       "      <td>0.0</td>\n",
       "      <td>b</td>\n",
       "      <td>0.63500</td>\n",
       "      <td>60.71</td>\n",
       "      <td>17.86</td>\n",
       "      <td>États-Unis</td>\n",
       "    </tr>\n",
       "    <tr>\n",
       "      <th>3</th>\n",
       "      <td>2540.0</td>\n",
       "      <td>3.57</td>\n",
       "      <td>5.36</td>\n",
       "      <td>0.482</td>\n",
       "      <td>NaN</td>\n",
       "      <td>7.1</td>\n",
       "      <td>17.86</td>\n",
       "      <td>0000000016087</td>\n",
       "      <td>Organic Salted Nut Mix</td>\n",
       "      <td>Grizzlies</td>\n",
       "      <td>12.0</td>\n",
       "      <td>d</td>\n",
       "      <td>1.22428</td>\n",
       "      <td>17.86</td>\n",
       "      <td>57.14</td>\n",
       "      <td>États-Unis</td>\n",
       "    </tr>\n",
       "    <tr>\n",
       "      <th>4</th>\n",
       "      <td>1552.0</td>\n",
       "      <td>NaN</td>\n",
       "      <td>NaN</td>\n",
       "      <td>NaN</td>\n",
       "      <td>NaN</td>\n",
       "      <td>5.7</td>\n",
       "      <td>8.57</td>\n",
       "      <td>0000000016094</td>\n",
       "      <td>Organic Polenta</td>\n",
       "      <td>Bob's Red Mill</td>\n",
       "      <td>NaN</td>\n",
       "      <td>NaN</td>\n",
       "      <td>NaN</td>\n",
       "      <td>77.14</td>\n",
       "      <td>1.43</td>\n",
       "      <td>États-Unis</td>\n",
       "    </tr>\n",
       "  </tbody>\n",
       "</table>\n",
       "</div>"
      ],
      "text/plain": [
       "   energy_100g  sugars_100g  saturated-fat_100g  sodium_100g  \\\n",
       "0          NaN          NaN                 NaN          NaN   \n",
       "1       2243.0        14.29               28.57        0.000   \n",
       "2       1941.0        17.86                0.00        0.250   \n",
       "3       2540.0         3.57                5.36        0.482   \n",
       "4       1552.0          NaN                 NaN          NaN   \n",
       "\n",
       "   fruits-vegetables-nuts_100g  fiber_100g  proteins_100g           code  \\\n",
       "0                          NaN         NaN            NaN  0000000003087   \n",
       "1                          NaN         3.6           3.57  0000000004530   \n",
       "2                          NaN         7.1          17.86  0000000004559   \n",
       "3                          NaN         7.1          17.86  0000000016087   \n",
       "4                          NaN         5.7           8.57  0000000016094   \n",
       "\n",
       "                     product_name           brands  nutrition-score-fr_100g  \\\n",
       "0              Farine de blé noir  Ferme t'y R'nao                      NaN   \n",
       "1  Banana Chips Sweetened (Whole)              NaN                     14.0   \n",
       "2                         Peanuts   Torn & Glasser                      0.0   \n",
       "3          Organic Salted Nut Mix        Grizzlies                     12.0   \n",
       "4                 Organic Polenta   Bob's Red Mill                      NaN   \n",
       "\n",
       "  nutrition_grade_fr  salt_100g  carbohydrates_100g  fat_100g countries_fr  \n",
       "0                NaN        NaN                 NaN       NaN       France  \n",
       "1                  d    0.00000               64.29     28.57   États-Unis  \n",
       "2                  b    0.63500               60.71     17.86   États-Unis  \n",
       "3                  d    1.22428               17.86     57.14   États-Unis  \n",
       "4                NaN        NaN               77.14      1.43   États-Unis  "
      ]
     },
     "execution_count": 17,
     "metadata": {},
     "output_type": "execute_result"
    }
   ],
   "source": [
    "foodRawLight = foodRaw.copy()\n",
    "foodRawLight = foodRawLight[workFeatures]\n",
    "foodRawLight.head()"
   ]
  },
  {
   "cell_type": "markdown",
   "id": "42590b0c",
   "metadata": {},
   "source": [
    "# Partie 2 - Nettoyage"
   ]
  },
  {
   "cell_type": "markdown",
   "id": "cfc91f7e",
   "metadata": {},
   "source": [
    "## P2.1. Centrer l'étude sur la France\n",
    "\n",
    "Comme expliqué plus haut, nous allons nous concentrer sur le France dans le cadre cette étude.\n",
    "\n",
    "Regardons tout d'abord"
   ]
  },
  {
   "cell_type": "code",
   "execution_count": 18,
   "id": "63ed918b",
   "metadata": {},
   "outputs": [
    {
     "data": {
      "text/plain": [
       "0             France\n",
       "1         États-Unis\n",
       "2         États-Unis\n",
       "3         États-Unis\n",
       "4         États-Unis\n",
       "             ...    \n",
       "320767      Roumanie\n",
       "320768    États-Unis\n",
       "320769         Chine\n",
       "320770        France\n",
       "320771    États-Unis\n",
       "Name: countries_fr, Length: 320772, dtype: object"
      ]
     },
     "execution_count": 18,
     "metadata": {},
     "output_type": "execute_result"
    }
   ],
   "source": [
    "foodRawLightFr=foodRawLight.copy()\n",
    "foodRawLightFr.countries_fr"
   ]
  },
  {
   "cell_type": "markdown",
   "id": "5f7aa15f",
   "metadata": {},
   "source": [
    "# Partie 3 - Exploration"
   ]
  },
  {
   "cell_type": "markdown",
   "id": "32a00b89",
   "metadata": {},
   "source": [
    "# Tests "
   ]
  },
  {
   "cell_type": "code",
   "execution_count": null,
   "id": "cdf4ba04",
   "metadata": {},
   "outputs": [],
   "source": [
    "testNutri=foodWithout_38[[\"nutrition_grade_fr\",\"nutrition-score-fr_100g\"]]\n",
    "testNutri=testNutri.loc[(testNutri[\"nutrition_grade_fr\"].notna())&(testNutri[\"nutrition-score-fr_100g\"].notna())]\n",
    "testNutri=testNutri.sort_values(\"nutrition_grade_fr\")"
   ]
  },
  {
   "cell_type": "code",
   "execution_count": null,
   "id": "a29c335c",
   "metadata": {},
   "outputs": [],
   "source": [
    "sns.boxplot(data=testNutri,x=\"nutrition_grade_fr\",y=\"nutrition-score-fr_100g\")"
   ]
  },
  {
   "cell_type": "code",
   "execution_count": null,
   "id": "8dbb3988",
   "metadata": {},
   "outputs": [],
   "source": [
    "testEnerNut=foodWithout_38[[\"nutrition_grade_fr\",\"energy_100g\"]]"
   ]
  },
  {
   "cell_type": "code",
   "execution_count": null,
   "id": "f81695f5",
   "metadata": {},
   "outputs": [],
   "source": [
    "testEnerNut=testEnerNut.loc[(testEnerNut[\"nutrition_grade_fr\"].notna())&(testEnerNut[\"energy_100g\"].notna())]\n",
    "testEnerNut=testEnerNut.loc[testEnerNut[\"energy_100g\"]<3700]\n",
    "testEnerNut=testEnerNut.sort_values(\"nutrition_grade_fr\")"
   ]
  },
  {
   "cell_type": "code",
   "execution_count": null,
   "id": "f12c0ad0",
   "metadata": {},
   "outputs": [],
   "source": [
    "sns.boxplot(data=testEnerNut,x=\"nutrition_grade_fr\",y=\"energy_100g\")"
   ]
  },
  {
   "cell_type": "code",
   "execution_count": null,
   "id": "eb462cf3",
   "metadata": {},
   "outputs": [],
   "source": [
    "foodRaw.pnns_groups_2.value_counts()"
   ]
  }
 ],
 "metadata": {
  "kernelspec": {
   "display_name": "envP3",
   "language": "python",
   "name": "envp3"
  },
  "language_info": {
   "codemirror_mode": {
    "name": "ipython",
    "version": 3
   },
   "file_extension": ".py",
   "mimetype": "text/x-python",
   "name": "python",
   "nbconvert_exporter": "python",
   "pygments_lexer": "ipython3",
   "version": "3.9.13"
  }
 },
 "nbformat": 4,
 "nbformat_minor": 5
}
