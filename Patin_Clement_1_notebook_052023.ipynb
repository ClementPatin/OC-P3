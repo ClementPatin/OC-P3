{
 "cells": [
  {
   "cell_type": "markdown",
   "id": "27327271",
   "metadata": {},
   "source": [
    "# PRÉPAREZ DES DONNÉES POUR UN ORGANISME DE SANTÉ PUBLIQUE\n",
    "\n",
    "![](Logo-Sante-Publique-France-.png)"
   ]
  },
  {
   "cell_type": "markdown",
   "id": "f57bef0c",
   "metadata": {},
   "source": [
    "# Table des matières"
   ]
  },
  {
   "cell_type": "markdown",
   "id": "075cef66",
   "metadata": {},
   "source": [
    "# Introduction"
   ]
  },
  {
   "cell_type": "markdown",
   "id": "3843f044",
   "metadata": {},
   "source": [
    "L'agence \"Santé publique France\" a lancé un **appel à projets pour rendre les données de santé plus accessibles**. L’agence souhaite faire explorer et visualiser des données, pour que ses agents puissent les exploiter.\n",
    "\n",
    "Le jeu de données à analyser est issu de la plateforme **Open Food Facts**, qui est une association donnant accès à une base données de produits alimentaires :\n",
    "- ouverte à tous\n",
    "- où tout le monde peut contribuer\n",
    "\n",
    "Dans le cadre de cet appel à projets, nous :\n",
    "- proposerons une idée d'application\n",
    "- mènerons à bien le nettoyage nécessaire à l'exploration des données\n",
    "- explorerons les données traitées"
   ]
  },
  {
   "cell_type": "markdown",
   "id": "ec155dd9",
   "metadata": {},
   "source": [
    "# Partie 1 - Imports & Proposition d'application"
   ]
  },
  {
   "cell_type": "markdown",
   "id": "115d5ea2",
   "metadata": {},
   "source": [
    "## P1.1. Imports des librairies & du dataset\n",
    "\n",
    "Commençons par importer les principales librairies dont nous aurons besoin :"
   ]
  },
  {
   "cell_type": "code",
   "execution_count": 1,
   "id": "b0af5441",
   "metadata": {},
   "outputs": [],
   "source": [
    "import pandas as pd # to manipulate the dataset with dataframes\n",
    "import numpy as np # for statistics and calculations\n",
    "import matplotlib.pyplot as plt # for data visualisation\n",
    "%matplotlib inline\n",
    "import seaborn as sns # for data visualisation, with different proporties\n",
    "import missingno as ms # for visualisation of missing data"
   ]
  },
  {
   "cell_type": "markdown",
   "id": "c7eab489",
   "metadata": {},
   "source": [
    "## P1.2. Import du dataset"
   ]
  },
  {
   "cell_type": "code",
   "execution_count": 2,
   "id": "c633cca4",
   "metadata": {
    "scrolled": false
   },
   "outputs": [],
   "source": [
    "foodRaw=pd.read_csv('fr.openfoodfacts.org.products.csv', sep='\\t',low_memory=False)"
   ]
  },
  {
   "cell_type": "markdown",
   "id": "11cb9fbd",
   "metadata": {},
   "source": [
    "Nous pouvons regarder les dimensions du tableau généré :"
   ]
  },
  {
   "cell_type": "code",
   "execution_count": 3,
   "id": "a562f496",
   "metadata": {},
   "outputs": [
    {
     "name": "stdout",
     "output_type": "stream",
     "text": [
      "Le tableau mis à disposition comporte  162 variables et  320772 lignes / produits\n"
     ]
    }
   ],
   "source": [
    "print(\"Le tableau mis à disposition comporte \", foodRaw.shape[1], \"variables et \", foodRaw.shape[0], \"lignes / produits\")"
   ]
  },
  {
   "cell_type": "markdown",
   "id": "d98ceb60",
   "metadata": {},
   "source": [
    "Nous pouvons affihcer les premières lignes :"
   ]
  },
  {
   "cell_type": "code",
   "execution_count": 4,
   "id": "60a04e98",
   "metadata": {},
   "outputs": [
    {
     "data": {
      "text/html": [
       "<div>\n",
       "<style scoped>\n",
       "    .dataframe tbody tr th:only-of-type {\n",
       "        vertical-align: middle;\n",
       "    }\n",
       "\n",
       "    .dataframe tbody tr th {\n",
       "        vertical-align: top;\n",
       "    }\n",
       "\n",
       "    .dataframe thead th {\n",
       "        text-align: right;\n",
       "    }\n",
       "</style>\n",
       "<table border=\"1\" class=\"dataframe\">\n",
       "  <thead>\n",
       "    <tr style=\"text-align: right;\">\n",
       "      <th></th>\n",
       "      <th>code</th>\n",
       "      <th>url</th>\n",
       "      <th>creator</th>\n",
       "      <th>created_t</th>\n",
       "      <th>created_datetime</th>\n",
       "      <th>last_modified_t</th>\n",
       "      <th>last_modified_datetime</th>\n",
       "      <th>product_name</th>\n",
       "      <th>generic_name</th>\n",
       "      <th>quantity</th>\n",
       "      <th>...</th>\n",
       "      <th>ph_100g</th>\n",
       "      <th>fruits-vegetables-nuts_100g</th>\n",
       "      <th>collagen-meat-protein-ratio_100g</th>\n",
       "      <th>cocoa_100g</th>\n",
       "      <th>chlorophyl_100g</th>\n",
       "      <th>carbon-footprint_100g</th>\n",
       "      <th>nutrition-score-fr_100g</th>\n",
       "      <th>nutrition-score-uk_100g</th>\n",
       "      <th>glycemic-index_100g</th>\n",
       "      <th>water-hardness_100g</th>\n",
       "    </tr>\n",
       "  </thead>\n",
       "  <tbody>\n",
       "    <tr>\n",
       "      <th>0</th>\n",
       "      <td>0000000003087</td>\n",
       "      <td>http://world-fr.openfoodfacts.org/produit/0000...</td>\n",
       "      <td>openfoodfacts-contributors</td>\n",
       "      <td>1474103866</td>\n",
       "      <td>2016-09-17T09:17:46Z</td>\n",
       "      <td>1474103893</td>\n",
       "      <td>2016-09-17T09:18:13Z</td>\n",
       "      <td>Farine de blé noir</td>\n",
       "      <td>NaN</td>\n",
       "      <td>1kg</td>\n",
       "      <td>...</td>\n",
       "      <td>NaN</td>\n",
       "      <td>NaN</td>\n",
       "      <td>NaN</td>\n",
       "      <td>NaN</td>\n",
       "      <td>NaN</td>\n",
       "      <td>NaN</td>\n",
       "      <td>NaN</td>\n",
       "      <td>NaN</td>\n",
       "      <td>NaN</td>\n",
       "      <td>NaN</td>\n",
       "    </tr>\n",
       "    <tr>\n",
       "      <th>1</th>\n",
       "      <td>0000000004530</td>\n",
       "      <td>http://world-fr.openfoodfacts.org/produit/0000...</td>\n",
       "      <td>usda-ndb-import</td>\n",
       "      <td>1489069957</td>\n",
       "      <td>2017-03-09T14:32:37Z</td>\n",
       "      <td>1489069957</td>\n",
       "      <td>2017-03-09T14:32:37Z</td>\n",
       "      <td>Banana Chips Sweetened (Whole)</td>\n",
       "      <td>NaN</td>\n",
       "      <td>NaN</td>\n",
       "      <td>...</td>\n",
       "      <td>NaN</td>\n",
       "      <td>NaN</td>\n",
       "      <td>NaN</td>\n",
       "      <td>NaN</td>\n",
       "      <td>NaN</td>\n",
       "      <td>NaN</td>\n",
       "      <td>14.0</td>\n",
       "      <td>14.0</td>\n",
       "      <td>NaN</td>\n",
       "      <td>NaN</td>\n",
       "    </tr>\n",
       "    <tr>\n",
       "      <th>2</th>\n",
       "      <td>0000000004559</td>\n",
       "      <td>http://world-fr.openfoodfacts.org/produit/0000...</td>\n",
       "      <td>usda-ndb-import</td>\n",
       "      <td>1489069957</td>\n",
       "      <td>2017-03-09T14:32:37Z</td>\n",
       "      <td>1489069957</td>\n",
       "      <td>2017-03-09T14:32:37Z</td>\n",
       "      <td>Peanuts</td>\n",
       "      <td>NaN</td>\n",
       "      <td>NaN</td>\n",
       "      <td>...</td>\n",
       "      <td>NaN</td>\n",
       "      <td>NaN</td>\n",
       "      <td>NaN</td>\n",
       "      <td>NaN</td>\n",
       "      <td>NaN</td>\n",
       "      <td>NaN</td>\n",
       "      <td>0.0</td>\n",
       "      <td>0.0</td>\n",
       "      <td>NaN</td>\n",
       "      <td>NaN</td>\n",
       "    </tr>\n",
       "    <tr>\n",
       "      <th>3</th>\n",
       "      <td>0000000016087</td>\n",
       "      <td>http://world-fr.openfoodfacts.org/produit/0000...</td>\n",
       "      <td>usda-ndb-import</td>\n",
       "      <td>1489055731</td>\n",
       "      <td>2017-03-09T10:35:31Z</td>\n",
       "      <td>1489055731</td>\n",
       "      <td>2017-03-09T10:35:31Z</td>\n",
       "      <td>Organic Salted Nut Mix</td>\n",
       "      <td>NaN</td>\n",
       "      <td>NaN</td>\n",
       "      <td>...</td>\n",
       "      <td>NaN</td>\n",
       "      <td>NaN</td>\n",
       "      <td>NaN</td>\n",
       "      <td>NaN</td>\n",
       "      <td>NaN</td>\n",
       "      <td>NaN</td>\n",
       "      <td>12.0</td>\n",
       "      <td>12.0</td>\n",
       "      <td>NaN</td>\n",
       "      <td>NaN</td>\n",
       "    </tr>\n",
       "    <tr>\n",
       "      <th>4</th>\n",
       "      <td>0000000016094</td>\n",
       "      <td>http://world-fr.openfoodfacts.org/produit/0000...</td>\n",
       "      <td>usda-ndb-import</td>\n",
       "      <td>1489055653</td>\n",
       "      <td>2017-03-09T10:34:13Z</td>\n",
       "      <td>1489055653</td>\n",
       "      <td>2017-03-09T10:34:13Z</td>\n",
       "      <td>Organic Polenta</td>\n",
       "      <td>NaN</td>\n",
       "      <td>NaN</td>\n",
       "      <td>...</td>\n",
       "      <td>NaN</td>\n",
       "      <td>NaN</td>\n",
       "      <td>NaN</td>\n",
       "      <td>NaN</td>\n",
       "      <td>NaN</td>\n",
       "      <td>NaN</td>\n",
       "      <td>NaN</td>\n",
       "      <td>NaN</td>\n",
       "      <td>NaN</td>\n",
       "      <td>NaN</td>\n",
       "    </tr>\n",
       "  </tbody>\n",
       "</table>\n",
       "<p>5 rows × 162 columns</p>\n",
       "</div>"
      ],
      "text/plain": [
       "            code                                                url  \\\n",
       "0  0000000003087  http://world-fr.openfoodfacts.org/produit/0000...   \n",
       "1  0000000004530  http://world-fr.openfoodfacts.org/produit/0000...   \n",
       "2  0000000004559  http://world-fr.openfoodfacts.org/produit/0000...   \n",
       "3  0000000016087  http://world-fr.openfoodfacts.org/produit/0000...   \n",
       "4  0000000016094  http://world-fr.openfoodfacts.org/produit/0000...   \n",
       "\n",
       "                      creator   created_t      created_datetime  \\\n",
       "0  openfoodfacts-contributors  1474103866  2016-09-17T09:17:46Z   \n",
       "1             usda-ndb-import  1489069957  2017-03-09T14:32:37Z   \n",
       "2             usda-ndb-import  1489069957  2017-03-09T14:32:37Z   \n",
       "3             usda-ndb-import  1489055731  2017-03-09T10:35:31Z   \n",
       "4             usda-ndb-import  1489055653  2017-03-09T10:34:13Z   \n",
       "\n",
       "  last_modified_t last_modified_datetime                    product_name  \\\n",
       "0      1474103893   2016-09-17T09:18:13Z              Farine de blé noir   \n",
       "1      1489069957   2017-03-09T14:32:37Z  Banana Chips Sweetened (Whole)   \n",
       "2      1489069957   2017-03-09T14:32:37Z                         Peanuts   \n",
       "3      1489055731   2017-03-09T10:35:31Z          Organic Salted Nut Mix   \n",
       "4      1489055653   2017-03-09T10:34:13Z                 Organic Polenta   \n",
       "\n",
       "  generic_name quantity  ... ph_100g fruits-vegetables-nuts_100g  \\\n",
       "0          NaN      1kg  ...     NaN                         NaN   \n",
       "1          NaN      NaN  ...     NaN                         NaN   \n",
       "2          NaN      NaN  ...     NaN                         NaN   \n",
       "3          NaN      NaN  ...     NaN                         NaN   \n",
       "4          NaN      NaN  ...     NaN                         NaN   \n",
       "\n",
       "  collagen-meat-protein-ratio_100g cocoa_100g chlorophyl_100g  \\\n",
       "0                              NaN        NaN             NaN   \n",
       "1                              NaN        NaN             NaN   \n",
       "2                              NaN        NaN             NaN   \n",
       "3                              NaN        NaN             NaN   \n",
       "4                              NaN        NaN             NaN   \n",
       "\n",
       "  carbon-footprint_100g nutrition-score-fr_100g nutrition-score-uk_100g  \\\n",
       "0                   NaN                     NaN                     NaN   \n",
       "1                   NaN                    14.0                    14.0   \n",
       "2                   NaN                     0.0                     0.0   \n",
       "3                   NaN                    12.0                    12.0   \n",
       "4                   NaN                     NaN                     NaN   \n",
       "\n",
       "  glycemic-index_100g water-hardness_100g  \n",
       "0                 NaN                 NaN  \n",
       "1                 NaN                 NaN  \n",
       "2                 NaN                 NaN  \n",
       "3                 NaN                 NaN  \n",
       "4                 NaN                 NaN  \n",
       "\n",
       "[5 rows x 162 columns]"
      ]
     },
     "metadata": {},
     "output_type": "display_data"
    }
   ],
   "source": [
    "display(foodRaw.head())"
   ]
  },
  {
   "cell_type": "markdown",
   "id": "c6b7e08a",
   "metadata": {},
   "source": [
    "Nous avons à disposition 4 types de variables :\n",
    "- Les informations générales sur la fiche du produit : nom, date de modification, etc.\n",
    "- Un ensemble de tags : catégorie du produit, localisation, origine, etc.\n",
    "- Les ingrédients composant les produits et leurs additifs éventuels.\n",
    "- Des informations nutritionnelles : \n",
    "    - quantité en grammes d’un nutriment pour 100 grammes du produit.\n",
    "    - des scores nutritionnels (comme le nutriscore)"
   ]
  },
  {
   "cell_type": "markdown",
   "id": "802c8d6a",
   "metadata": {},
   "source": [
    "## P1.3. Proposition d'application"
   ]
  },
  {
   "cell_type": "markdown",
   "id": "d1e07ae1",
   "metadata": {},
   "source": [
    "Afin d'aider à améliorer la santé de nos concitoyens, nous pourrions utiliser les données mises à notre disposition pour aider les malades et les médecins.\n",
    "\n",
    "En effet, un des principaux maux du 21$^{ème}$ est la multiplications de maladies chroniques dans nos sociétés industrialisées. Mes maladies cardiovasculaires représentent **la dépense la plus importante** pour l'Assurance Maladie.\n",
    "\n",
    "**Hypertension, Diabètes, Cholestérol, Obésites, etc.** : Toutes ses pathologies sont, à des degrès différents, liées au régime alimentaire des malades.\n",
    "\n",
    "En plus des médicaments, les médecins prescrivent également un **régime alimentaire adapté** aux pathologies chroniques des patients affectés.\n",
    "\n",
    "Mais devant le nombre de produits disponibles en grandes surfaces, chacun avec une étiquette nutritionnelle qui lui est propre, le patient peut se retrouver démuni au moment de faire ses choix.\n",
    "\n",
    "**MyHealthScore** : Une application **proposée par le médecin** à son patient pour l'aider à adapter son régime alimentaire à sa (ou ses) pathologie(s).\n",
    "\n",
    "L'idée :\n",
    "- le médecin configure le **profil** de son patient :\n",
    "    - données biométriques : sexe, age, poids, taille, etc.\n",
    "    - pathologie(s) : hypertension, diabètes, cholestérol, obésité, autre\n",
    "    \n",
    "    \n",
    "- le profil permet de créé un score nutritionnel **adapté au patient** : *MyHealthScore*\n",
    "    - ce score est basé sur les **mêmes données** nutritionnelles que le Nutri-Score :\n",
    "        - La valeur énergétique (KJ)\n",
    "        - Les lipides (g)\n",
    "        - Les acides gras saturés (g)\n",
    "        - Les sucres (g)\n",
    "        - Les protéines (g)\n",
    "        - Le sodium (mg)\n",
    "        - Les fibres (g)\n",
    "        - Fruits, légumes, etc. (%)\n",
    "        \n",
    "   mais **personnalisé** pour le profil du patient.\n",
    "\n",
    "\n",
    "- l'**application** pourrait fonctionner ainsi :\n",
    "    - le patient **scanne / rentre une référence** d'un produit\n",
    "    - l'application **lui délivre ensuite son MyHeathScore personnalisé** selon les informations renseignées par son médecin.\n",
    "\n",
    "\n"
   ]
  },
  {
   "cell_type": "markdown",
   "id": "6d99c799",
   "metadata": {},
   "source": [
    "## P1.4. Sélection des variables"
   ]
  },
  {
   "cell_type": "markdown",
   "id": "e3633f8c",
   "metadata": {},
   "source": [
    "Pour fonctionner, l'application ferait appel à la base de données d'OpenFoodFact pour récupérer les données nutritionnelles et calculer le MyHealthScore du patient.\n",
    "\n",
    "Il faut pour cela que les données soient présentes. Regardons visuellement le niveau de remplissage du dataset. Pour cela nous allons utiliser la librairie `missingno` :"
   ]
  },
  {
   "cell_type": "code",
   "execution_count": 5,
   "id": "b688f9bc",
   "metadata": {},
   "outputs": [
    {
     "data": {
      "image/png": "[encoded data removed]",
      "text/plain": [
       "<Figure size 2500x1000 with 1 Axes>"
      ]
     },
     "metadata": {},
     "output_type": "display_data"
    }
   ],
   "source": [
    "ms.matrix(foodRaw,color=[0.7,0.0,0.0],sparkline=False) # dataviz of missing data\n",
    "plt.show()"
   ]
  },
  {
   "cell_type": "markdown",
   "id": "717ac259",
   "metadata": {},
   "source": [
    "Le data set est globalement **très peu renseigné**.\n",
    "\n",
    "Nous pouvons regarder ce qu'il en est des features qui nous intéressent pour calculer, théoriquement, un MyHealthScore :"
   ]
  },
  {
   "cell_type": "code",
   "execution_count": 6,
   "id": "c94e9f0b",
   "metadata": {},
   "outputs": [
    {
     "data": {
      "image/png": "[encoded data removed]",
      "text/plain": [
       "<Figure size 2500x1000 with 1 Axes>"
      ]
     },
     "metadata": {},
     "output_type": "display_data"
    }
   ],
   "source": [
    "theoricalFeaturesNames=[\"energy_100g\",\"sugars_100g\",\"saturated-fat_100g\",\"sodium_100g\",\"fruits-vegetables-nuts_100g\",\"fiber_100g\",\"proteins_100g\"]\n",
    "ms.matrix(foodRaw[theoricalFeaturesNames],color=[0.7,0.0,0.0],sparkline=False) # dataviz of missing data\n",
    "plt.show()"
   ]
  },
  {
   "cell_type": "markdown",
   "id": "24af751f",
   "metadata": {},
   "source": [
    "Malheureusement la feature concernant les **fruits et légumes** est **très peu renseignée**...\n",
    "\n",
    "Or celle-ci se révelle indispensable pour calculer un MyHealthScore reflétant correctement les recommandations médicales.\n",
    "\n",
    "Par exemple, si l'on regarde les **préconisations hygiéno-ditétiques pour les personnes atteinte d'hypertension**, le site internet de la **sécurité sociale indique** :\n",
    "- sel : < 6g /j\n",
    "- perdre du poids, soit via une IMC < 25 kg/m², soit en perdant 10% du poids initial\n",
    "- activité physique, soit 30 min/j, soit 3x / semaine\n",
    "- réduire consommation d'alcool\n",
    "- augmenter la consommation de **fruits et légumes**\n",
    "- réduire la consommation de graisses saturées\n",
    "- arrêter le tabac"
   ]
  },
  {
   "cell_type": "markdown",
   "id": "8fc5ae99",
   "metadata": {},
   "source": [
    "La construction d'un MyHealthScore devra donc passer par la prise en compte d'autres colonnes. Pour les déterminer, nous pourrons nous baser dans un premier sur le \"taux de vide\". Regardons ce que cela donne pour les colonnes `theoricalFeaturesNames` :"
   ]
  },
  {
   "cell_type": "code",
   "execution_count": 7,
   "id": "d26140bc",
   "metadata": {},
   "outputs": [
    {
     "data": {
      "text/plain": [
       "energy_100g                    18.6 %\n",
       "sugars_100g                    23.6 %\n",
       "saturated-fat_100g             28.4 %\n",
       "sodium_100g                    20.4 %\n",
       "fruits-vegetables-nuts_100g    99.1 %\n",
       "fiber_100g                     37.4 %\n",
       "proteins_100g                  19.0 %\n",
       "dtype: object"
      ]
     },
     "execution_count": 7,
     "metadata": {},
     "output_type": "execute_result"
    }
   ],
   "source": [
    "# percentage of null values in primal selected features :\n",
    "(foodRaw[theoricalFeaturesNames].isna().mean()*100).round(1).astype(str)+\" %\""
   ]
  },
  {
   "cell_type": "markdown",
   "id": "fa7e82b5",
   "metadata": {},
   "source": [
    "Écrivons une fonction pour filtrer les colonnes en fonction de leur taux de valeurs manquantes :"
   ]
  },
  {
   "cell_type": "code",
   "execution_count": 8,
   "id": "56f77ec0",
   "metadata": {},
   "outputs": [],
   "source": [
    "def dropEmptyCols(df,emptinessThreshold=1) :\n",
    "    \n",
    "    \"\"\"return an input pandas.DataFrame without its empty columns\n",
    "    \n",
    "    inputs\n",
    "    ------\n",
    "    df : pandas.DataFrame object\n",
    "    \n",
    "    optional inputs \n",
    "    ---------------\n",
    "    emptinessThreshold : float, defaul : = 1. Gives the limit threshold of emptiness. \n",
    "    if >=threshold, column is dropped. \n",
    "    \n",
    "    returns\n",
    "    -------\n",
    "    dfWithoutEmptyCols : pandas.DataFrame object, the same one without its empty columns\n",
    "    \n",
    "    \"\"\"\n",
    "    #select columns with percentage of null values > threshold\n",
    "    emptyColsNames=df.isna().mean().loc[df.isna().mean()>=emptinessThreshold].index \n",
    "    \n",
    "    #drop selected columns\n",
    "    dfWithoutEmptyCols=df.copy()\n",
    "    dfWithoutEmptyCols = dfWithoutEmptyCols.drop(columns=emptyColsNames)\n",
    "    \n",
    "    return dfWithoutEmptyCols"
   ]
  },
  {
   "cell_type": "markdown",
   "id": "f180a12e",
   "metadata": {},
   "source": [
    "Nous avons d'ores et déjà fait une croix sur `fruits-vegetables-nuts_100g`. Basons-nous sur le taux de `fiber_100g` :"
   ]
  },
  {
   "cell_type": "code",
   "execution_count": 9,
   "id": "0dc0cde0",
   "metadata": {},
   "outputs": [],
   "source": [
    "foodWithout_38=dropEmptyCols(foodRaw,emptinessThreshold=0.38)"
   ]
  },
  {
   "cell_type": "code",
   "execution_count": 10,
   "id": "62a90da6",
   "metadata": {
    "scrolled": false
   },
   "outputs": [
    {
     "data": {
      "text/plain": [
       "last_modified_t                              0.0 %\n",
       "last_modified_datetime                       0.0 %\n",
       "creator                                      0.0 %\n",
       "created_t                                    0.0 %\n",
       "created_datetime                             0.0 %\n",
       "code                                        0.01 %\n",
       "url                                         0.01 %\n",
       "states_tags                                 0.01 %\n",
       "states                                      0.01 %\n",
       "states_fr                                   0.01 %\n",
       "countries_fr                                0.09 %\n",
       "countries_tags                              0.09 %\n",
       "countries                                   0.09 %\n",
       "product_name                                5.54 %\n",
       "brands                                      8.86 %\n",
       "brands_tags                                 8.86 %\n",
       "energy_100g                                 18.6 %\n",
       "proteins_100g                              18.97 %\n",
       "salt_100g                                  20.35 %\n",
       "sodium_100g                                20.36 %\n",
       "ingredients_text                           22.39 %\n",
       "additives_n                                22.39 %\n",
       "ingredients_from_palm_oil_n                22.39 %\n",
       "ingredients_that_may_be_from_palm_oil_n    22.39 %\n",
       "additives                                   22.4 %\n",
       "sugars_100g                                23.63 %\n",
       "fat_100g                                   23.97 %\n",
       "carbohydrates_100g                         24.06 %\n",
       "saturated-fat_100g                         28.44 %\n",
       "nutrition_grade_fr                         31.04 %\n",
       "nutrition-score-fr_100g                    31.04 %\n",
       "nutrition-score-uk_100g                    31.04 %\n",
       "serving_size                               34.12 %\n",
       "fiber_100g                                 37.37 %\n",
       "dtype: object"
      ]
     },
     "execution_count": 10,
     "metadata": {},
     "output_type": "execute_result"
    }
   ],
   "source": [
    "# check percentage of null values in foodWithout_38\n",
    "(foodWithout_38.isna().mean().sort_values()*100).round(2).astype(str)+\" %\""
   ]
  },
  {
   "cell_type": "markdown",
   "id": "873c19cc",
   "metadata": {},
   "source": [
    "N'ayant pas à notre disposition la teneur en fruits et légumes, nous pouvons nous baser sur le Nutri-Score, qui prend en compte celle-ci dans son calcul.\n",
    "\n",
    "A partir du Nutri-Score, il sera possible dans le cadre du développement de l'application, de créer un MyHealthScore en adaptant les pondérations des autres valeurs nutritionnelles.\n",
    "\n",
    "On peut donc sélectionner les variables suivantes pour notre analyse :\n",
    "- `code`, `product_name` et `brands` pour identitifer les produits\n",
    "- `nutrition-score-fr_100g` qui correspond au socre nutritionnel\n",
    "- `nutrition_grade_fr` qui correspond au Nutri-Score, l'échelle graphique scindant le score nutritionnel en 5 classes A, B, C, D et E\n",
    "- `energy_100g`\n",
    "- `proteins_100g`\n",
    "- `fiber_100g`\n",
    "- `sodium_100g` et `salt_100g`, qui sont liées et dont l'analyse commune pourrait servir dans le traitement\n",
    "- `sugars_100g` et `carbohydrates_100g`\n",
    "- `saturated-fat_100g` et `fat_100g`\n",
    "- `countries_fr`, qui liste les pays de dans lesquels le produit est commercialisé. Nous souhaitons réaliser l'étude pour la France dans un premier temps. Cette colonne servira essentiellement à filtrer."
   ]
  },
  {
   "cell_type": "code",
   "execution_count": 11,
   "id": "ff04ba0c",
   "metadata": {},
   "outputs": [],
   "source": [
    "# selected work features\n",
    "workFeatures=theoricalFeaturesNames+[\"code\",\n",
    "                                     \"product_name\",\n",
    "                                     \"brands\",\n",
    "                                     \"nutrition-score-fr_100g\",\n",
    "                                     \"nutrition_grade_fr\",\n",
    "                                     \"salt_100g\",\n",
    "                                     \"carbohydrates_100g\",\n",
    "                                     \"fat_100g\",\n",
    "                                     \"countries_fr\"]"
   ]
  },
  {
   "cell_type": "code",
   "execution_count": 12,
   "id": "4029617d",
   "metadata": {},
   "outputs": [
    {
     "data": {
      "text/html": [
       "<div>\n",
       "<style scoped>\n",
       "    .dataframe tbody tr th:only-of-type {\n",
       "        vertical-align: middle;\n",
       "    }\n",
       "\n",
       "    .dataframe tbody tr th {\n",
       "        vertical-align: top;\n",
       "    }\n",
       "\n",
       "    .dataframe thead th {\n",
       "        text-align: right;\n",
       "    }\n",
       "</style>\n",
       "<table border=\"1\" class=\"dataframe\">\n",
       "  <thead>\n",
       "    <tr style=\"text-align: right;\">\n",
       "      <th></th>\n",
       "      <th>energy_100g</th>\n",
       "      <th>sugars_100g</th>\n",
       "      <th>saturated-fat_100g</th>\n",
       "      <th>sodium_100g</th>\n",
       "      <th>fruits-vegetables-nuts_100g</th>\n",
       "      <th>fiber_100g</th>\n",
       "      <th>proteins_100g</th>\n",
       "      <th>code</th>\n",
       "      <th>product_name</th>\n",
       "      <th>brands</th>\n",
       "      <th>nutrition-score-fr_100g</th>\n",
       "      <th>nutrition_grade_fr</th>\n",
       "      <th>salt_100g</th>\n",
       "      <th>carbohydrates_100g</th>\n",
       "      <th>fat_100g</th>\n",
       "      <th>countries_fr</th>\n",
       "    </tr>\n",
       "  </thead>\n",
       "  <tbody>\n",
       "    <tr>\n",
       "      <th>0</th>\n",
       "      <td>NaN</td>\n",
       "      <td>NaN</td>\n",
       "      <td>NaN</td>\n",
       "      <td>NaN</td>\n",
       "      <td>NaN</td>\n",
       "      <td>NaN</td>\n",
       "      <td>NaN</td>\n",
       "      <td>0000000003087</td>\n",
       "      <td>Farine de blé noir</td>\n",
       "      <td>Ferme t'y R'nao</td>\n",
       "      <td>NaN</td>\n",
       "      <td>NaN</td>\n",
       "      <td>NaN</td>\n",
       "      <td>NaN</td>\n",
       "      <td>NaN</td>\n",
       "      <td>France</td>\n",
       "    </tr>\n",
       "    <tr>\n",
       "      <th>1</th>\n",
       "      <td>2243.0</td>\n",
       "      <td>14.29</td>\n",
       "      <td>28.57</td>\n",
       "      <td>0.000</td>\n",
       "      <td>NaN</td>\n",
       "      <td>3.6</td>\n",
       "      <td>3.57</td>\n",
       "      <td>0000000004530</td>\n",
       "      <td>Banana Chips Sweetened (Whole)</td>\n",
       "      <td>NaN</td>\n",
       "      <td>14.0</td>\n",
       "      <td>d</td>\n",
       "      <td>0.00000</td>\n",
       "      <td>64.29</td>\n",
       "      <td>28.57</td>\n",
       "      <td>États-Unis</td>\n",
       "    </tr>\n",
       "    <tr>\n",
       "      <th>2</th>\n",
       "      <td>1941.0</td>\n",
       "      <td>17.86</td>\n",
       "      <td>0.00</td>\n",
       "      <td>0.250</td>\n",
       "      <td>NaN</td>\n",
       "      <td>7.1</td>\n",
       "      <td>17.86</td>\n",
       "      <td>0000000004559</td>\n",
       "      <td>Peanuts</td>\n",
       "      <td>Torn &amp; Glasser</td>\n",
       "      <td>0.0</td>\n",
       "      <td>b</td>\n",
       "      <td>0.63500</td>\n",
       "      <td>60.71</td>\n",
       "      <td>17.86</td>\n",
       "      <td>États-Unis</td>\n",
       "    </tr>\n",
       "    <tr>\n",
       "      <th>3</th>\n",
       "      <td>2540.0</td>\n",
       "      <td>3.57</td>\n",
       "      <td>5.36</td>\n",
       "      <td>0.482</td>\n",
       "      <td>NaN</td>\n",
       "      <td>7.1</td>\n",
       "      <td>17.86</td>\n",
       "      <td>0000000016087</td>\n",
       "      <td>Organic Salted Nut Mix</td>\n",
       "      <td>Grizzlies</td>\n",
       "      <td>12.0</td>\n",
       "      <td>d</td>\n",
       "      <td>1.22428</td>\n",
       "      <td>17.86</td>\n",
       "      <td>57.14</td>\n",
       "      <td>États-Unis</td>\n",
       "    </tr>\n",
       "    <tr>\n",
       "      <th>4</th>\n",
       "      <td>1552.0</td>\n",
       "      <td>NaN</td>\n",
       "      <td>NaN</td>\n",
       "      <td>NaN</td>\n",
       "      <td>NaN</td>\n",
       "      <td>5.7</td>\n",
       "      <td>8.57</td>\n",
       "      <td>0000000016094</td>\n",
       "      <td>Organic Polenta</td>\n",
       "      <td>Bob's Red Mill</td>\n",
       "      <td>NaN</td>\n",
       "      <td>NaN</td>\n",
       "      <td>NaN</td>\n",
       "      <td>77.14</td>\n",
       "      <td>1.43</td>\n",
       "      <td>États-Unis</td>\n",
       "    </tr>\n",
       "    <tr>\n",
       "      <th>...</th>\n",
       "      <td>...</td>\n",
       "      <td>...</td>\n",
       "      <td>...</td>\n",
       "      <td>...</td>\n",
       "      <td>...</td>\n",
       "      <td>...</td>\n",
       "      <td>...</td>\n",
       "      <td>...</td>\n",
       "      <td>...</td>\n",
       "      <td>...</td>\n",
       "      <td>...</td>\n",
       "      <td>...</td>\n",
       "      <td>...</td>\n",
       "      <td>...</td>\n",
       "      <td>...</td>\n",
       "      <td>...</td>\n",
       "    </tr>\n",
       "    <tr>\n",
       "      <th>320767</th>\n",
       "      <td>NaN</td>\n",
       "      <td>NaN</td>\n",
       "      <td>NaN</td>\n",
       "      <td>NaN</td>\n",
       "      <td>NaN</td>\n",
       "      <td>NaN</td>\n",
       "      <td>NaN</td>\n",
       "      <td>9948282780603</td>\n",
       "      <td>Tomato &amp; ricotta</td>\n",
       "      <td>Panzani</td>\n",
       "      <td>NaN</td>\n",
       "      <td>NaN</td>\n",
       "      <td>NaN</td>\n",
       "      <td>NaN</td>\n",
       "      <td>NaN</td>\n",
       "      <td>Roumanie</td>\n",
       "    </tr>\n",
       "    <tr>\n",
       "      <th>320768</th>\n",
       "      <td>0.0</td>\n",
       "      <td>0.00</td>\n",
       "      <td>0.00</td>\n",
       "      <td>0.000</td>\n",
       "      <td>NaN</td>\n",
       "      <td>0.0</td>\n",
       "      <td>0.00</td>\n",
       "      <td>99567453</td>\n",
       "      <td>Mint Melange Tea A Blend Of Peppermint, Lemon ...</td>\n",
       "      <td>Trader Joe's</td>\n",
       "      <td>0.0</td>\n",
       "      <td>b</td>\n",
       "      <td>0.00000</td>\n",
       "      <td>0.00</td>\n",
       "      <td>0.00</td>\n",
       "      <td>États-Unis</td>\n",
       "    </tr>\n",
       "    <tr>\n",
       "      <th>320769</th>\n",
       "      <td>NaN</td>\n",
       "      <td>NaN</td>\n",
       "      <td>NaN</td>\n",
       "      <td>NaN</td>\n",
       "      <td>NaN</td>\n",
       "      <td>NaN</td>\n",
       "      <td>NaN</td>\n",
       "      <td>9970229501521</td>\n",
       "      <td>乐吧泡菜味薯片</td>\n",
       "      <td>乐吧</td>\n",
       "      <td>NaN</td>\n",
       "      <td>NaN</td>\n",
       "      <td>NaN</td>\n",
       "      <td>NaN</td>\n",
       "      <td>NaN</td>\n",
       "      <td>Chine</td>\n",
       "    </tr>\n",
       "    <tr>\n",
       "      <th>320770</th>\n",
       "      <td>NaN</td>\n",
       "      <td>NaN</td>\n",
       "      <td>NaN</td>\n",
       "      <td>NaN</td>\n",
       "      <td>NaN</td>\n",
       "      <td>NaN</td>\n",
       "      <td>NaN</td>\n",
       "      <td>9980282863788</td>\n",
       "      <td>Tomates aux Vermicelles</td>\n",
       "      <td>Knorr</td>\n",
       "      <td>NaN</td>\n",
       "      <td>NaN</td>\n",
       "      <td>NaN</td>\n",
       "      <td>NaN</td>\n",
       "      <td>NaN</td>\n",
       "      <td>France</td>\n",
       "    </tr>\n",
       "    <tr>\n",
       "      <th>320771</th>\n",
       "      <td>2092.0</td>\n",
       "      <td>0.00</td>\n",
       "      <td>NaN</td>\n",
       "      <td>0.000</td>\n",
       "      <td>NaN</td>\n",
       "      <td>NaN</td>\n",
       "      <td>0.00</td>\n",
       "      <td>999990026839</td>\n",
       "      <td>Sugar Free Drink Mix, Peach Tea</td>\n",
       "      <td>Market Pantry</td>\n",
       "      <td>NaN</td>\n",
       "      <td>NaN</td>\n",
       "      <td>0.00000</td>\n",
       "      <td>0.00</td>\n",
       "      <td>0.00</td>\n",
       "      <td>États-Unis</td>\n",
       "    </tr>\n",
       "  </tbody>\n",
       "</table>\n",
       "<p>320772 rows × 16 columns</p>\n",
       "</div>"
      ],
      "text/plain": [
       "        energy_100g  sugars_100g  saturated-fat_100g  sodium_100g  \\\n",
       "0               NaN          NaN                 NaN          NaN   \n",
       "1            2243.0        14.29               28.57        0.000   \n",
       "2            1941.0        17.86                0.00        0.250   \n",
       "3            2540.0         3.57                5.36        0.482   \n",
       "4            1552.0          NaN                 NaN          NaN   \n",
       "...             ...          ...                 ...          ...   \n",
       "320767          NaN          NaN                 NaN          NaN   \n",
       "320768          0.0         0.00                0.00        0.000   \n",
       "320769          NaN          NaN                 NaN          NaN   \n",
       "320770          NaN          NaN                 NaN          NaN   \n",
       "320771       2092.0         0.00                 NaN        0.000   \n",
       "\n",
       "        fruits-vegetables-nuts_100g  fiber_100g  proteins_100g           code  \\\n",
       "0                               NaN         NaN            NaN  0000000003087   \n",
       "1                               NaN         3.6           3.57  0000000004530   \n",
       "2                               NaN         7.1          17.86  0000000004559   \n",
       "3                               NaN         7.1          17.86  0000000016087   \n",
       "4                               NaN         5.7           8.57  0000000016094   \n",
       "...                             ...         ...            ...            ...   \n",
       "320767                          NaN         NaN            NaN  9948282780603   \n",
       "320768                          NaN         0.0           0.00       99567453   \n",
       "320769                          NaN         NaN            NaN  9970229501521   \n",
       "320770                          NaN         NaN            NaN  9980282863788   \n",
       "320771                          NaN         NaN           0.00   999990026839   \n",
       "\n",
       "                                             product_name           brands  \\\n",
       "0                                      Farine de blé noir  Ferme t'y R'nao   \n",
       "1                          Banana Chips Sweetened (Whole)              NaN   \n",
       "2                                                 Peanuts   Torn & Glasser   \n",
       "3                                  Organic Salted Nut Mix        Grizzlies   \n",
       "4                                         Organic Polenta   Bob's Red Mill   \n",
       "...                                                   ...              ...   \n",
       "320767                                  Tomato & ricotta          Panzani    \n",
       "320768  Mint Melange Tea A Blend Of Peppermint, Lemon ...     Trader Joe's   \n",
       "320769                                            乐吧泡菜味薯片               乐吧   \n",
       "320770                           Tomates aux Vermicelles             Knorr   \n",
       "320771                    Sugar Free Drink Mix, Peach Tea    Market Pantry   \n",
       "\n",
       "        nutrition-score-fr_100g nutrition_grade_fr  salt_100g  \\\n",
       "0                           NaN                NaN        NaN   \n",
       "1                          14.0                  d    0.00000   \n",
       "2                           0.0                  b    0.63500   \n",
       "3                          12.0                  d    1.22428   \n",
       "4                           NaN                NaN        NaN   \n",
       "...                         ...                ...        ...   \n",
       "320767                      NaN                NaN        NaN   \n",
       "320768                      0.0                  b    0.00000   \n",
       "320769                      NaN                NaN        NaN   \n",
       "320770                      NaN                NaN        NaN   \n",
       "320771                      NaN                NaN    0.00000   \n",
       "\n",
       "        carbohydrates_100g  fat_100g countries_fr  \n",
       "0                      NaN       NaN       France  \n",
       "1                    64.29     28.57   États-Unis  \n",
       "2                    60.71     17.86   États-Unis  \n",
       "3                    17.86     57.14   États-Unis  \n",
       "4                    77.14      1.43   États-Unis  \n",
       "...                    ...       ...          ...  \n",
       "320767                 NaN       NaN     Roumanie  \n",
       "320768                0.00      0.00   États-Unis  \n",
       "320769                 NaN       NaN        Chine  \n",
       "320770                 NaN       NaN       France  \n",
       "320771                0.00      0.00   États-Unis  \n",
       "\n",
       "[320772 rows x 16 columns]"
      ]
     },
     "execution_count": 12,
     "metadata": {},
     "output_type": "execute_result"
    }
   ],
   "source": [
    "foodRawLight = foodRaw.copy()\n",
    "foodRawLight = foodRawLight[workFeatures]\n",
    "foodRawLight"
   ]
  },
  {
   "cell_type": "markdown",
   "id": "42590b0c",
   "metadata": {},
   "source": [
    "# Partie 2 - Nettoyage"
   ]
  },
  {
   "cell_type": "markdown",
   "id": "110d9d02",
   "metadata": {},
   "source": [
    "## P2.1. Centrer l'étude sur la France\n",
    "\n",
    "Comme expliqué plus haut, nous allons nous concentrer sur le France dans le cadre cette étude.\n",
    "\n",
    "Cette colonne ne contient pas beaucoup de valeurs manquantes (0.09%). Néanmoins  nous pouvons regarder si les autres colonnes de type \"countries\" peuvent nous aidons facilement à les combler."
   ]
  },
  {
   "cell_type": "code",
   "execution_count": 13,
   "id": "9d8e039f",
   "metadata": {},
   "outputs": [],
   "source": [
    "# create a list with \"coutries\" columns\n",
    "countriesColNames = [col for col in foodRaw.columns if \"countri\" in col]"
   ]
  },
  {
   "cell_type": "code",
   "execution_count": 14,
   "id": "58b74e34",
   "metadata": {},
   "outputs": [
    {
     "data": {
      "text/plain": [
       "countries         280\n",
       "countries_tags    280\n",
       "countries_fr      280\n",
       "dtype: int64"
      ]
     },
     "execution_count": 14,
     "metadata": {},
     "output_type": "execute_result"
    }
   ],
   "source": [
    "foodRaw[countriesColNames].isna().sum()"
   ]
  },
  {
   "cell_type": "markdown",
   "id": "7a8daa36",
   "metadata": {},
   "source": [
    "Regardons maintenant s'il existe des produits pour lesquels \"countries_fr\" est manquante et une des 2 autres est complétée :"
   ]
  },
  {
   "cell_type": "code",
   "execution_count": 15,
   "id": "dd811b5d",
   "metadata": {},
   "outputs": [
    {
     "data": {
      "text/html": [
       "<div>\n",
       "<style scoped>\n",
       "    .dataframe tbody tr th:only-of-type {\n",
       "        vertical-align: middle;\n",
       "    }\n",
       "\n",
       "    .dataframe tbody tr th {\n",
       "        vertical-align: top;\n",
       "    }\n",
       "\n",
       "    .dataframe thead th {\n",
       "        text-align: right;\n",
       "    }\n",
       "</style>\n",
       "<table border=\"1\" class=\"dataframe\">\n",
       "  <thead>\n",
       "    <tr style=\"text-align: right;\">\n",
       "      <th></th>\n",
       "      <th>countries</th>\n",
       "      <th>countries_tags</th>\n",
       "      <th>countries_fr</th>\n",
       "    </tr>\n",
       "  </thead>\n",
       "  <tbody>\n",
       "  </tbody>\n",
       "</table>\n",
       "</div>"
      ],
      "text/plain": [
       "Empty DataFrame\n",
       "Columns: [countries, countries_tags, countries_fr]\n",
       "Index: []"
      ]
     },
     "execution_count": 15,
     "metadata": {},
     "output_type": "execute_result"
    }
   ],
   "source": [
    "maskCountries = (foodRaw.countries_fr.isna())&((foodRaw.countries_tags.notna())|(foodRaw.countries.notna()))\n",
    "\n",
    "foodRaw[countriesColNames].loc[maskCountries]"
   ]
  },
  {
   "cell_type": "markdown",
   "id": "7b7d707d",
   "metadata": {},
   "source": [
    "Les autres colonnes ne peuvent donc pas nous aider à combler les 280 valeurs manquantes. Nous ne considérerons pas ces produits."
   ]
  },
  {
   "cell_type": "markdown",
   "id": "f65e31b7",
   "metadata": {},
   "source": [
    "Regardons maintenant les différents pays contributeurs de la base de données :"
   ]
  },
  {
   "cell_type": "code",
   "execution_count": 16,
   "id": "228ea7a5",
   "metadata": {},
   "outputs": [
    {
     "data": {
      "text/plain": [
       "États-Unis                                      172998\n",
       "France                                           94392\n",
       "Suisse                                           14953\n",
       "Allemagne                                         7870\n",
       "Espagne                                           5009\n",
       "                                                 ...  \n",
       "Danemark,Suisse,en:Deutschland,en:Frankreich         1\n",
       "France,Luxembourg,Suisse                             1\n",
       "Autriche,République tchèque,Allemagne                1\n",
       "Allemagne,Hongrie                                    1\n",
       "Chine,Hong Kong                                      1\n",
       "Name: countries_fr, Length: 722, dtype: int64"
      ]
     },
     "execution_count": 16,
     "metadata": {},
     "output_type": "execute_result"
    }
   ],
   "source": [
    "# list of unique values in \"countries_fr\" and number of occurrences\n",
    "foodRawLight.countries_fr.value_counts(ascending=False)"
   ]
  },
  {
   "cell_type": "markdown",
   "id": "574d4383",
   "metadata": {},
   "source": [
    "Les valeurs de cette variables contiennent, en chaîne de caractères, la liste des pays où le produit est commercialisé.\n",
    "\n",
    "Afin de nous concentrer sur la france, nous allons donc rechercher dans ces chaînes de caractères :"
   ]
  },
  {
   "cell_type": "code",
   "execution_count": 17,
   "id": "8d8946c0",
   "metadata": {},
   "outputs": [],
   "source": [
    "# create masks for french produits \n",
    "maskFrance = foodRawLight.countries_fr.str.find(\"France\")!=-1\n",
    "maskfrance = foodRawLight.countries_fr.str.find(\"france\")!=-1\n",
    "maskFr = foodRawLight.countries_fr.str.find(\"Fr\")!=-1\n",
    "maskFR = foodRawLight.countries_fr.str.find(\"FR\")!=-1\n",
    "maskfr = foodRawLight.countries_fr.str.find(\"fr\")!=-1"
   ]
  },
  {
   "cell_type": "markdown",
   "id": "9d863e15",
   "metadata": {},
   "source": [
    "Testons ces différents filtres."
   ]
  },
  {
   "cell_type": "code",
   "execution_count": 18,
   "id": "ee125692",
   "metadata": {},
   "outputs": [
    {
     "data": {
      "text/plain": [
       "France                                                   94392\n",
       "France,Suisse                                             1224\n",
       "France,Royaume-Uni                                         514\n",
       "Belgique,France                                            512\n",
       "France,Allemagne                                           240\n",
       "                                                         ...  \n",
       "Belgique,France,Allemagne,Roumanie                           1\n",
       "Australie,République tchèque,France,Allemagne,Hongrie        1\n",
       "Danemark,France,Allemagne,Russie,Espagne,Royaume-Uni         1\n",
       "République tchèque,Danemark,France,Allemagne                 1\n",
       "France,Hong Kong                                             1\n",
       "Name: countries_fr, Length: 305, dtype: int64"
      ]
     },
     "execution_count": 18,
     "metadata": {},
     "output_type": "execute_result"
    }
   ],
   "source": [
    "foodRawLight.loc[maskFrance,\"countries_fr\"].value_counts()"
   ]
  },
  {
   "cell_type": "markdown",
   "id": "faf8ddd6",
   "metadata": {},
   "source": [
    "On obtient 305 valeurs uniques en recherchant avec \"France\". Continuons :"
   ]
  },
  {
   "cell_type": "code",
   "execution_count": 19,
   "id": "79531814",
   "metadata": {},
   "outputs": [
    {
     "data": {
      "text/plain": [
       "Series([], Name: countries_fr, dtype: int64)"
      ]
     },
     "execution_count": 19,
     "metadata": {},
     "output_type": "execute_result"
    }
   ],
   "source": [
    "foodRawLight.loc[maskfrance,\"countries_fr\"].value_counts()"
   ]
  },
  {
   "cell_type": "markdown",
   "id": "8969d528",
   "metadata": {},
   "source": [
    "Cette orthographe n'est pas utilisée. Continuons :"
   ]
  },
  {
   "cell_type": "code",
   "execution_count": 20,
   "id": "cb1df142",
   "metadata": {},
   "outputs": [
    {
     "data": {
      "text/plain": [
       "Suisse,Deutschland,Frankreich                                                                                                9\n",
       "Suisse,Frankrijk,Nederland                                                                                                   2\n",
       "Danemark,Suisse,es:Franciaorszag,es:Magyarorszag,es:Nagy-britannia,es:Portugalia,es:Spanyolorszag                            1\n",
       "Belgique,Danemark,Suisse,es:Franciaorszag,es:Magyarorszag,es:Nagy-britannia,es:Nemetorszag,es:Portugalia,es:Spanyolorszag    1\n",
       "Suisse,Deutschland,Frankreich,Spanien                                                                                        1\n",
       "Suisse,Frankrijk                                                                                                             1\n",
       "Suisse,Belgien,Deutschland,Frankreich                                                                                        1\n",
       "Danemark,Suisse,en:Deutschland,en:Frankreich                                                                                 1\n",
       "en:Denemarken,en:Finand,en:Frankrijk,en:Italiaans,en:Zwitserland                                                             1\n",
       "Italie,en:Denemarken,en:Nederland,en:Noorwegen,en:Zweden,en:Belgie,en:Duitsland,en:Frankrijk                                 1\n",
       "Finlande,en:Belgie,en:Denemarken,en:Frankrijk,en:Spanje,en:Zweden,en:Zwitserland                                             1\n",
       "Belgique,Danemark,Suisse,Deutschland,Frankreich                                                                              1\n",
       "Danemark,Espagne,en:Frankrike,en:Kina,en:Sverige                                                                             1\n",
       "Allemagne,Suisse,Frankreich                                                                                                  1\n",
       "Portugal,en:Belgie,en:Duitsland,en:Frankrijk,en:Nederland,en:Spanje,en:Zwitserland                                           1\n",
       "Name: countries_fr, dtype: int64"
      ]
     },
     "execution_count": 20,
     "metadata": {},
     "output_type": "execute_result"
    }
   ],
   "source": [
    "foodRawLight.loc[maskFr&~maskFrance,\"countries_fr\"].value_counts()"
   ]
  },
  {
   "cell_type": "markdown",
   "id": "09e20bd1",
   "metadata": {},
   "source": [
    "France est orthographié différemment."
   ]
  },
  {
   "cell_type": "code",
   "execution_count": 21,
   "id": "69ab2546",
   "metadata": {},
   "outputs": [
    {
     "data": {
      "text/plain": [
       "Polynésie française               52\n",
       "Afrique du Sud                    36\n",
       "en:fruit-yogurts                   8\n",
       "Polynésie française,États-Unis     3\n",
       "Polynésie française,Suisse         1\n",
       "République centrafricaine          1\n",
       "Name: countries_fr, dtype: int64"
      ]
     },
     "execution_count": 21,
     "metadata": {},
     "output_type": "execute_result"
    }
   ],
   "source": [
    "foodRawLight.loc[maskfr&~maskFrance,\"countries_fr\"].value_counts()"
   ]
  },
  {
   "cell_type": "code",
   "execution_count": 22,
   "id": "a3699929",
   "metadata": {},
   "outputs": [],
   "source": [
    "# create a mask for \"Polynésie française\"\n",
    "maskPolyFr = foodRawLight.countries_fr.str.find(\"Polynésie française\")!=-1"
   ]
  },
  {
   "cell_type": "code",
   "execution_count": 23,
   "id": "1097e5fc",
   "metadata": {},
   "outputs": [
    {
     "data": {
      "text/plain": [
       "Series([], Name: countries_fr, dtype: int64)"
      ]
     },
     "execution_count": 23,
     "metadata": {},
     "output_type": "execute_result"
    }
   ],
   "source": [
    "foodRawLight.loc[maskFR,\"countries_fr\"].value_counts()"
   ]
  },
  {
   "cell_type": "markdown",
   "id": "406436c2",
   "metadata": {},
   "source": [
    "Ce dernier mask n'a rien donné. Nous pouvons donc filtrer notre dataframe pour ne conserver que les produits commercialisés en France : "
   ]
  },
  {
   "cell_type": "code",
   "execution_count": 24,
   "id": "c6468312",
   "metadata": {},
   "outputs": [],
   "source": [
    "foodRawLightFr = foodRawLight.copy()\n",
    "#apply selected masks\n",
    "foodRawLightFr = foodRawLightFr.loc[maskFrance|maskFr|maskPolyFr]"
   ]
  },
  {
   "cell_type": "markdown",
   "id": "2c6363a7",
   "metadata": {},
   "source": [
    "Voici les nouvelles dimensions du dataframe de travail :"
   ]
  },
  {
   "cell_type": "code",
   "execution_count": 25,
   "id": "58829d52",
   "metadata": {},
   "outputs": [
    {
     "data": {
      "text/plain": [
       "(98800, 16)"
      ]
     },
     "execution_count": 25,
     "metadata": {},
     "output_type": "execute_result"
    }
   ],
   "source": [
    "foodRawLightFr.shape"
   ]
  },
  {
   "cell_type": "markdown",
   "id": "ebedb3c3",
   "metadata": {},
   "source": [
    "Nous pouvons afficher de nouveau la même visualisation que précédemment, cette fois sur notre dataframe réduit :"
   ]
  },
  {
   "cell_type": "code",
   "execution_count": 26,
   "id": "c3462123",
   "metadata": {},
   "outputs": [
    {
     "data": {
      "image/png": "[encoded data removed]",
      "text/plain": [
       "<Figure size 2500x1000 with 1 Axes>"
      ]
     },
     "metadata": {},
     "output_type": "display_data"
    }
   ],
   "source": [
    "ms.matrix(foodRawLightFr,color=[0.7,0.0,0.0],sparkline=False) # dataviz of missing data\n",
    "plt.show()"
   ]
  },
  {
   "cell_type": "markdown",
   "id": "32c6ef10",
   "metadata": {},
   "source": [
    "## P2.2. Éliminer les doublons\n",
    "\n",
    "Pour repérer les produit présents deux fois, nous pouvons dans un premier temps regarder la colonne \"code\".\n",
    "\n",
    "### P2.2.1. Des produits en double ? \"code\""
   ]
  },
  {
   "cell_type": "code",
   "execution_count": 27,
   "id": "cfa2017b",
   "metadata": {},
   "outputs": [
    {
     "data": {
      "text/plain": [
       "215122    3263850621116\n",
       "175196    1765321130483\n",
       "195468    3154230082927\n",
       "208614    3254560010321\n",
       "189837    3036811362256\n",
       "Name: code, dtype: object"
      ]
     },
     "execution_count": 27,
     "metadata": {},
     "output_type": "execute_result"
    }
   ],
   "source": [
    "foodRawLightFr.code.sample(5)"
   ]
  },
  {
   "cell_type": "markdown",
   "id": "2e453512",
   "metadata": {},
   "source": [
    "le format du code à l'air d'être une suite de 13 chiffres.\n",
    "Cependant le type \"object\" de la Series interroge."
   ]
  },
  {
   "cell_type": "code",
   "execution_count": 28,
   "id": "139ccb10",
   "metadata": {},
   "outputs": [
    {
     "data": {
      "text/plain": [
       "1         2\n",
       "2         1\n",
       "3         2\n",
       "4         6\n",
       "5        10\n",
       "6        32\n",
       "7        38\n",
       "8      6186\n",
       "9         6\n",
       "10       33\n",
       "11       30\n",
       "12       36\n",
       "13    92329\n",
       "14       51\n",
       "15       23\n",
       "16        3\n",
       "17        1\n",
       "22        1\n",
       "24        4\n",
       "25        1\n",
       "31        1\n",
       "32        2\n",
       "40        1\n",
       "41        1\n",
       "Name: code, dtype: int64"
      ]
     },
     "execution_count": 28,
     "metadata": {},
     "output_type": "execute_result"
    }
   ],
   "source": [
    "# looking to the lenght of \"code\" values for formatting issues\n",
    "foodRawLightFr.code.str.len().value_counts(dropna=False).sort_index()"
   ]
  },
  {
   "cell_type": "markdown",
   "id": "9dd02b97",
   "metadata": {},
   "source": [
    "Après quelques recherches, les deux formats les plus représentés correspondent aux systèmes EAN 8 et EAN 13 (EAN pour *European Article Numbering*). Ces deux systèmes sont les plus utilisés en Europe.\n",
    "\n",
    "Nous faisons le choix de nous séparer des 285 produits aux codes barres non formatés EAN 8 ou 13 : l'usage final du MyHealthScore se fera via le scan de code barre."
   ]
  },
  {
   "cell_type": "code",
   "execution_count": 29,
   "id": "7383053e",
   "metadata": {},
   "outputs": [],
   "source": [
    "foodClean01=foodRawLightFr.copy()\n",
    "# keep only the values of \"code\" whose length is 8 or 13\n",
    "foodClean01=foodClean01.loc[(foodClean01.code.str.len()==8)|(foodClean01.code.str.len()==13)]"
   ]
  },
  {
   "cell_type": "markdown",
   "id": "fe9e74df",
   "metadata": {},
   "source": [
    "Nous pouvons maintenant regarder s'il y a des produits en double :"
   ]
  },
  {
   "cell_type": "code",
   "execution_count": 51,
   "id": "8c30c2e2",
   "metadata": {},
   "outputs": [
    {
     "data": {
      "text/html": [
       "<div>\n",
       "<style scoped>\n",
       "    .dataframe tbody tr th:only-of-type {\n",
       "        vertical-align: middle;\n",
       "    }\n",
       "\n",
       "    .dataframe tbody tr th {\n",
       "        vertical-align: top;\n",
       "    }\n",
       "\n",
       "    .dataframe thead th {\n",
       "        text-align: right;\n",
       "    }\n",
       "</style>\n",
       "<table border=\"1\" class=\"dataframe\">\n",
       "  <thead>\n",
       "    <tr style=\"text-align: right;\">\n",
       "      <th></th>\n",
       "      <th>energy_100g</th>\n",
       "      <th>sugars_100g</th>\n",
       "      <th>saturated-fat_100g</th>\n",
       "      <th>sodium_100g</th>\n",
       "      <th>fruits-vegetables-nuts_100g</th>\n",
       "      <th>fiber_100g</th>\n",
       "      <th>proteins_100g</th>\n",
       "      <th>code</th>\n",
       "      <th>product_name</th>\n",
       "      <th>brands</th>\n",
       "      <th>nutrition-score-fr_100g</th>\n",
       "      <th>nutrition_grade_fr</th>\n",
       "      <th>salt_100g</th>\n",
       "      <th>carbohydrates_100g</th>\n",
       "      <th>fat_100g</th>\n",
       "      <th>countries_fr</th>\n",
       "    </tr>\n",
       "  </thead>\n",
       "  <tbody>\n",
       "  </tbody>\n",
       "</table>\n",
       "</div>"
      ],
      "text/plain": [
       "Empty DataFrame\n",
       "Columns: [energy_100g, sugars_100g, saturated-fat_100g, sodium_100g, fruits-vegetables-nuts_100g, fiber_100g, proteins_100g, code, product_name, brands, nutrition-score-fr_100g, nutrition_grade_fr, salt_100g, carbohydrates_100g, fat_100g, countries_fr]\n",
       "Index: []"
      ]
     },
     "execution_count": 51,
     "metadata": {},
     "output_type": "execute_result"
    }
   ],
   "source": [
    "#look for duplicates in column \"code\"\n",
    "foodClean01.loc[foodClean01.code.duplicated(keep=False)]"
   ]
  },
  {
   "cell_type": "markdown",
   "id": "e81ab6b9",
   "metadata": {},
   "source": [
    "Il ne semble pas y avoir de produits différents utilisant le même code-barre.\n",
    "\n",
    "Une autre manière de repérer les doublons et de regarder la colonne \"product_name\"."
   ]
  },
  {
   "cell_type": "markdown",
   "id": "27189b60",
   "metadata": {},
   "source": [
    "### P2.2.2. Des produits en double ? \"product_name\" \n",
    "\n",
    "Nous n'avons que des produits aux codes barres différents. Mais le même produit a pu être étiqueté avec 2 codes barres différents. Regardons."
   ]
  },
  {
   "cell_type": "code",
   "execution_count": 50,
   "id": "9a1547c7",
   "metadata": {},
   "outputs": [
    {
     "data": {
      "text/plain": [
       "Huile d'olive vierge extra        62\n",
       "Mayonnaise                        54\n",
       "Moutarde de Dijon                 49\n",
       "Orange                            46\n",
       "Spaghetti                         46\n",
       "                                  ..\n",
       "3 Œufs avec surprise               1\n",
       "20 saucisses de Strasbourg         1\n",
       "Gelée extra Mûre                   1\n",
       "noir Eclats de fèves 72% cacao     1\n",
       "Tomates aux Vermicelles            1\n",
       "Name: product_name, Length: 74413, dtype: int64"
      ]
     },
     "execution_count": 50,
     "metadata": {},
     "output_type": "execute_result"
    }
   ],
   "source": [
    "foodClean01.product_name.value_counts()"
   ]
  },
  {
   "cell_type": "markdown",
   "id": "1a00c491",
   "metadata": {},
   "source": [
    "Nous ne sommes pas assez précis. Nous ne pouvons pas considérer seulement \"product_name\" pour rechercher les doublons. Regardons également \"brands\"."
   ]
  },
  {
   "cell_type": "markdown",
   "id": "e31c42b8",
   "metadata": {},
   "source": [
    "### P2.2.3. Des produits en double ? \"product_name\" ET \"brands\"\n",
    "\n",
    "Regardons si des noms de produits sont présents plusieurs fois sous la même marque :"
   ]
  },
  {
   "cell_type": "code",
   "execution_count": 77,
   "id": "0b94748f",
   "metadata": {},
   "outputs": [
    {
     "data": {
      "text/html": [
       "<div>\n",
       "<style scoped>\n",
       "    .dataframe tbody tr th:only-of-type {\n",
       "        vertical-align: middle;\n",
       "    }\n",
       "\n",
       "    .dataframe tbody tr th {\n",
       "        vertical-align: top;\n",
       "    }\n",
       "\n",
       "    .dataframe thead th {\n",
       "        text-align: right;\n",
       "    }\n",
       "</style>\n",
       "<table border=\"1\" class=\"dataframe\">\n",
       "  <thead>\n",
       "    <tr style=\"text-align: right;\">\n",
       "      <th></th>\n",
       "      <th></th>\n",
       "      <th>code</th>\n",
       "    </tr>\n",
       "    <tr>\n",
       "      <th>product_name</th>\n",
       "      <th>brands</th>\n",
       "      <th></th>\n",
       "    </tr>\n",
       "  </thead>\n",
       "  <tbody>\n",
       "    <tr>\n",
       "      <th>Coca-Cola</th>\n",
       "      <th>Coca-Cola</th>\n",
       "      <td>20</td>\n",
       "    </tr>\n",
       "    <tr>\n",
       "      <th>Pom'potes</th>\n",
       "      <th>Materne</th>\n",
       "      <td>15</td>\n",
       "    </tr>\n",
       "    <tr>\n",
       "      <th>Nutella</th>\n",
       "      <th>Ferrero,Nutella</th>\n",
       "      <td>14</td>\n",
       "    </tr>\n",
       "    <tr>\n",
       "      <th>Orangina</th>\n",
       "      <th>Orangina</th>\n",
       "      <td>14</td>\n",
       "    </tr>\n",
       "    <tr>\n",
       "      <th>Nesquik</th>\n",
       "      <th>Nestlé,Nesquik</th>\n",
       "      <td>11</td>\n",
       "    </tr>\n",
       "    <tr>\n",
       "      <th>...</th>\n",
       "      <th>...</th>\n",
       "      <td>...</td>\n",
       "    </tr>\n",
       "    <tr>\n",
       "      <th>Flan Pâtissier</th>\n",
       "      <th>L'instint Bio</th>\n",
       "      <td>1</td>\n",
       "    </tr>\n",
       "    <tr>\n",
       "      <th>Flan Pur Beurre</th>\n",
       "      <th>Créa Frais</th>\n",
       "      <td>1</td>\n",
       "    </tr>\n",
       "    <tr>\n",
       "      <th>Flan Patissier aux Oeufs</th>\n",
       "      <th>Alsa,Unilever</th>\n",
       "      <td>1</td>\n",
       "    </tr>\n",
       "    <tr>\n",
       "      <th>Flan Patissier</th>\n",
       "      <th>Leader Price</th>\n",
       "      <td>1</td>\n",
       "    </tr>\n",
       "    <tr>\n",
       "      <th>칠성사이다</th>\n",
       "      <th>Chilsung,칠성,Lotte, Lotte Chilsung Beverage Co.  Ltd.</th>\n",
       "      <td>1</td>\n",
       "    </tr>\n",
       "  </tbody>\n",
       "</table>\n",
       "<p>82335 rows × 1 columns</p>\n",
       "</div>"
      ],
      "text/plain": [
       "                                                                             code\n",
       "product_name             brands                                                  \n",
       "Coca-Cola                Coca-Cola                                             20\n",
       "Pom'potes                Materne                                               15\n",
       "Nutella                  Ferrero,Nutella                                       14\n",
       "Orangina                 Orangina                                              14\n",
       "Nesquik                  Nestlé,Nesquik                                        11\n",
       "...                                                                           ...\n",
       "Flan Pâtissier           L'instint Bio                                          1\n",
       "Flan Pur Beurre          Créa Frais                                             1\n",
       "Flan Patissier aux Oeufs Alsa,Unilever                                          1\n",
       "Flan Patissier           Leader Price                                           1\n",
       "칠성사이다                    Chilsung,칠성,Lotte, Lotte Chilsung Beverage Co. ...     1\n",
       "\n",
       "[82335 rows x 1 columns]"
      ]
     },
     "execution_count": 77,
     "metadata": {},
     "output_type": "execute_result"
    }
   ],
   "source": [
    "foodClean01[[\"product_name\",\"brands\",'code']].groupby(['product_name',\"brands\"]).count().sort_values(\"code\",ascending=False)"
   ]
  },
  {
   "cell_type": "code",
   "execution_count": null,
   "id": "1390ca94",
   "metadata": {},
   "outputs": [],
   "source": [
    "foodClean01.loc[(foodClean01[[\"product_name\",\"brands\"]].duplicated(keep=False))]"
   ]
  },
  {
   "cell_type": "code",
   "execution_count": 49,
   "id": "26199f65",
   "metadata": {},
   "outputs": [
    {
     "data": {
      "text/html": [
       "<div>\n",
       "<style scoped>\n",
       "    .dataframe tbody tr th:only-of-type {\n",
       "        vertical-align: middle;\n",
       "    }\n",
       "\n",
       "    .dataframe tbody tr th {\n",
       "        vertical-align: top;\n",
       "    }\n",
       "\n",
       "    .dataframe thead th {\n",
       "        text-align: right;\n",
       "    }\n",
       "</style>\n",
       "<table border=\"1\" class=\"dataframe\">\n",
       "  <thead>\n",
       "    <tr style=\"text-align: right;\">\n",
       "      <th></th>\n",
       "      <th>energy_100g</th>\n",
       "      <th>sugars_100g</th>\n",
       "      <th>saturated-fat_100g</th>\n",
       "      <th>sodium_100g</th>\n",
       "      <th>fruits-vegetables-nuts_100g</th>\n",
       "      <th>fiber_100g</th>\n",
       "      <th>proteins_100g</th>\n",
       "      <th>code</th>\n",
       "      <th>product_name</th>\n",
       "      <th>brands</th>\n",
       "      <th>nutrition-score-fr_100g</th>\n",
       "      <th>nutrition_grade_fr</th>\n",
       "      <th>salt_100g</th>\n",
       "      <th>carbohydrates_100g</th>\n",
       "      <th>fat_100g</th>\n",
       "      <th>countries_fr</th>\n",
       "    </tr>\n",
       "  </thead>\n",
       "  <tbody>\n",
       "    <tr>\n",
       "      <th>625</th>\n",
       "      <td>NaN</td>\n",
       "      <td>NaN</td>\n",
       "      <td>NaN</td>\n",
       "      <td>NaN</td>\n",
       "      <td>NaN</td>\n",
       "      <td>NaN</td>\n",
       "      <td>NaN</td>\n",
       "      <td>00052337</td>\n",
       "      <td></td>\n",
       "      <td>M&amp;S</td>\n",
       "      <td>NaN</td>\n",
       "      <td>NaN</td>\n",
       "      <td>NaN</td>\n",
       "      <td>NaN</td>\n",
       "      <td>NaN</td>\n",
       "      <td>France,Royaume-Uni</td>\n",
       "    </tr>\n",
       "    <tr>\n",
       "      <th>184100</th>\n",
       "      <td>656.0</td>\n",
       "      <td>0.0</td>\n",
       "      <td>4.8</td>\n",
       "      <td>0.078700</td>\n",
       "      <td>NaN</td>\n",
       "      <td>NaN</td>\n",
       "      <td>19.0</td>\n",
       "      <td>2494593017787</td>\n",
       "      <td>1 Onglet</td>\n",
       "      <td>Charal</td>\n",
       "      <td>0.0</td>\n",
       "      <td>b</td>\n",
       "      <td>0.199898</td>\n",
       "      <td>0.0</td>\n",
       "      <td>9.0</td>\n",
       "      <td>France</td>\n",
       "    </tr>\n",
       "    <tr>\n",
       "      <th>184101</th>\n",
       "      <td>641.0</td>\n",
       "      <td>0.0</td>\n",
       "      <td>3.9</td>\n",
       "      <td>0.074803</td>\n",
       "      <td>NaN</td>\n",
       "      <td>NaN</td>\n",
       "      <td>19.0</td>\n",
       "      <td>2494593019613</td>\n",
       "      <td>1 Onglet</td>\n",
       "      <td>Charal</td>\n",
       "      <td>-1.0</td>\n",
       "      <td>a</td>\n",
       "      <td>0.190000</td>\n",
       "      <td>0.0</td>\n",
       "      <td>8.6</td>\n",
       "      <td>France</td>\n",
       "    </tr>\n",
       "    <tr>\n",
       "      <th>236232</th>\n",
       "      <td>1029.0</td>\n",
       "      <td>2.5</td>\n",
       "      <td>10.0</td>\n",
       "      <td>0.452756</td>\n",
       "      <td>NaN</td>\n",
       "      <td>NaN</td>\n",
       "      <td>14.0</td>\n",
       "      <td>3512690000194</td>\n",
       "      <td>10 Burgers</td>\n",
       "      <td>Isla Délice</td>\n",
       "      <td>17.0</td>\n",
       "      <td>d</td>\n",
       "      <td>1.150000</td>\n",
       "      <td>3.0</td>\n",
       "      <td>20.0</td>\n",
       "      <td>France</td>\n",
       "    </tr>\n",
       "    <tr>\n",
       "      <th>208976</th>\n",
       "      <td>1778.0</td>\n",
       "      <td>9.3</td>\n",
       "      <td>16.0</td>\n",
       "      <td>0.425197</td>\n",
       "      <td>NaN</td>\n",
       "      <td>NaN</td>\n",
       "      <td>7.0</td>\n",
       "      <td>3254560695795</td>\n",
       "      <td>10 Croissants</td>\n",
       "      <td>Auchan,L'oiseau</td>\n",
       "      <td>21.0</td>\n",
       "      <td>e</td>\n",
       "      <td>1.080000</td>\n",
       "      <td>48.5</td>\n",
       "      <td>22.0</td>\n",
       "      <td>France</td>\n",
       "    </tr>\n",
       "    <tr>\n",
       "      <th>...</th>\n",
       "      <td>...</td>\n",
       "      <td>...</td>\n",
       "      <td>...</td>\n",
       "      <td>...</td>\n",
       "      <td>...</td>\n",
       "      <td>...</td>\n",
       "      <td>...</td>\n",
       "      <td>...</td>\n",
       "      <td>...</td>\n",
       "      <td>...</td>\n",
       "      <td>...</td>\n",
       "      <td>...</td>\n",
       "      <td>...</td>\n",
       "      <td>...</td>\n",
       "      <td>...</td>\n",
       "      <td>...</td>\n",
       "    </tr>\n",
       "    <tr>\n",
       "      <th>227181</th>\n",
       "      <td>NaN</td>\n",
       "      <td>NaN</td>\n",
       "      <td>NaN</td>\n",
       "      <td>NaN</td>\n",
       "      <td>NaN</td>\n",
       "      <td>NaN</td>\n",
       "      <td>NaN</td>\n",
       "      <td>3350030202842</td>\n",
       "      <td>Œufs frais de poules élevées en plein air</td>\n",
       "      <td>monoprix</td>\n",
       "      <td>NaN</td>\n",
       "      <td>NaN</td>\n",
       "      <td>NaN</td>\n",
       "      <td>NaN</td>\n",
       "      <td>NaN</td>\n",
       "      <td>France</td>\n",
       "    </tr>\n",
       "    <tr>\n",
       "      <th>222515</th>\n",
       "      <td>NaN</td>\n",
       "      <td>NaN</td>\n",
       "      <td>NaN</td>\n",
       "      <td>NaN</td>\n",
       "      <td>NaN</td>\n",
       "      <td>NaN</td>\n",
       "      <td>NaN</td>\n",
       "      <td>3282070000914</td>\n",
       "      <td>Œufs plein air</td>\n",
       "      <td>Matines</td>\n",
       "      <td>NaN</td>\n",
       "      <td>NaN</td>\n",
       "      <td>NaN</td>\n",
       "      <td>NaN</td>\n",
       "      <td>NaN</td>\n",
       "      <td>France</td>\n",
       "    </tr>\n",
       "    <tr>\n",
       "      <th>216212</th>\n",
       "      <td>NaN</td>\n",
       "      <td>NaN</td>\n",
       "      <td>NaN</td>\n",
       "      <td>NaN</td>\n",
       "      <td>NaN</td>\n",
       "      <td>NaN</td>\n",
       "      <td>NaN</td>\n",
       "      <td>3263856412312</td>\n",
       "      <td>Œufs plein air</td>\n",
       "      <td>franprix</td>\n",
       "      <td>NaN</td>\n",
       "      <td>NaN</td>\n",
       "      <td>NaN</td>\n",
       "      <td>NaN</td>\n",
       "      <td>NaN</td>\n",
       "      <td>France</td>\n",
       "    </tr>\n",
       "    <tr>\n",
       "      <th>196863</th>\n",
       "      <td>2213.0</td>\n",
       "      <td>51.0</td>\n",
       "      <td>17.0</td>\n",
       "      <td>0.051181</td>\n",
       "      <td>NaN</td>\n",
       "      <td>NaN</td>\n",
       "      <td>6.6</td>\n",
       "      <td>3173286681526</td>\n",
       "      <td>œuf en chocolat</td>\n",
       "      <td>Cémoi</td>\n",
       "      <td>26.0</td>\n",
       "      <td>e</td>\n",
       "      <td>0.130000</td>\n",
       "      <td>55.0</td>\n",
       "      <td>31.0</td>\n",
       "      <td>France</td>\n",
       "    </tr>\n",
       "    <tr>\n",
       "      <th>176709</th>\n",
       "      <td>NaN</td>\n",
       "      <td>NaN</td>\n",
       "      <td>NaN</td>\n",
       "      <td>NaN</td>\n",
       "      <td>NaN</td>\n",
       "      <td>NaN</td>\n",
       "      <td>NaN</td>\n",
       "      <td>2000000045788</td>\n",
       "      <td>œuf en chocolat</td>\n",
       "      <td>Bouillet</td>\n",
       "      <td>NaN</td>\n",
       "      <td>NaN</td>\n",
       "      <td>NaN</td>\n",
       "      <td>NaN</td>\n",
       "      <td>NaN</td>\n",
       "      <td>France</td>\n",
       "    </tr>\n",
       "  </tbody>\n",
       "</table>\n",
       "<p>19149 rows × 16 columns</p>\n",
       "</div>"
      ],
      "text/plain": [
       "        energy_100g  sugars_100g  saturated-fat_100g  sodium_100g  \\\n",
       "625             NaN          NaN                 NaN          NaN   \n",
       "184100        656.0          0.0                 4.8     0.078700   \n",
       "184101        641.0          0.0                 3.9     0.074803   \n",
       "236232       1029.0          2.5                10.0     0.452756   \n",
       "208976       1778.0          9.3                16.0     0.425197   \n",
       "...             ...          ...                 ...          ...   \n",
       "227181          NaN          NaN                 NaN          NaN   \n",
       "222515          NaN          NaN                 NaN          NaN   \n",
       "216212          NaN          NaN                 NaN          NaN   \n",
       "196863       2213.0         51.0                17.0     0.051181   \n",
       "176709          NaN          NaN                 NaN          NaN   \n",
       "\n",
       "        fruits-vegetables-nuts_100g  fiber_100g  proteins_100g           code  \\\n",
       "625                             NaN         NaN            NaN       00052337   \n",
       "184100                          NaN         NaN           19.0  2494593017787   \n",
       "184101                          NaN         NaN           19.0  2494593019613   \n",
       "236232                          NaN         NaN           14.0  3512690000194   \n",
       "208976                          NaN         NaN            7.0  3254560695795   \n",
       "...                             ...         ...            ...            ...   \n",
       "227181                          NaN         NaN            NaN  3350030202842   \n",
       "222515                          NaN         NaN            NaN  3282070000914   \n",
       "216212                          NaN         NaN            NaN  3263856412312   \n",
       "196863                          NaN         NaN            6.6  3173286681526   \n",
       "176709                          NaN         NaN            NaN  2000000045788   \n",
       "\n",
       "                                     product_name           brands  \\\n",
       "625                                                            M&S   \n",
       "184100                                   1 Onglet           Charal   \n",
       "184101                                   1 Onglet           Charal   \n",
       "236232                                 10 Burgers      Isla Délice   \n",
       "208976                              10 Croissants  Auchan,L'oiseau   \n",
       "...                                           ...              ...   \n",
       "227181  Œufs frais de poules élevées en plein air         monoprix   \n",
       "222515                             Œufs plein air          Matines   \n",
       "216212                             Œufs plein air         franprix   \n",
       "196863                            œuf en chocolat            Cémoi   \n",
       "176709                            œuf en chocolat         Bouillet   \n",
       "\n",
       "        nutrition-score-fr_100g nutrition_grade_fr  salt_100g  \\\n",
       "625                         NaN                NaN        NaN   \n",
       "184100                      0.0                  b   0.199898   \n",
       "184101                     -1.0                  a   0.190000   \n",
       "236232                     17.0                  d   1.150000   \n",
       "208976                     21.0                  e   1.080000   \n",
       "...                         ...                ...        ...   \n",
       "227181                      NaN                NaN        NaN   \n",
       "222515                      NaN                NaN        NaN   \n",
       "216212                      NaN                NaN        NaN   \n",
       "196863                     26.0                  e   0.130000   \n",
       "176709                      NaN                NaN        NaN   \n",
       "\n",
       "        carbohydrates_100g  fat_100g        countries_fr  \n",
       "625                    NaN       NaN  France,Royaume-Uni  \n",
       "184100                 0.0       9.0              France  \n",
       "184101                 0.0       8.6              France  \n",
       "236232                 3.0      20.0              France  \n",
       "208976                48.5      22.0              France  \n",
       "...                    ...       ...                 ...  \n",
       "227181                 NaN       NaN              France  \n",
       "222515                 NaN       NaN              France  \n",
       "216212                 NaN       NaN              France  \n",
       "196863                55.0      31.0              France  \n",
       "176709                 NaN       NaN              France  \n",
       "\n",
       "[19149 rows x 16 columns]"
      ]
     },
     "execution_count": 49,
     "metadata": {},
     "output_type": "execute_result"
    }
   ],
   "source": [
    "testdf.loc[(testdf.brands.notna())&(testdf.product_name.notna())&(testdf.product_name.duplicated(keep=False))&(testdf.brands.duplicated(keep=False))].sort_values(\"brands\").sort_values(\"product_name\")"
   ]
  },
  {
   "cell_type": "markdown",
   "id": "5f7aa15f",
   "metadata": {},
   "source": [
    "# Partie 3 - Exploration"
   ]
  },
  {
   "cell_type": "markdown",
   "id": "32a00b89",
   "metadata": {},
   "source": [
    "# Tests "
   ]
  },
  {
   "cell_type": "code",
   "execution_count": 31,
   "id": "cdf4ba04",
   "metadata": {},
   "outputs": [],
   "source": [
    "testNutri=foodWithout_38[[\"nutrition_grade_fr\",\"nutrition-score-fr_100g\"]]\n",
    "testNutri=testNutri.loc[(testNutri[\"nutrition_grade_fr\"].notna())&(testNutri[\"nutrition-score-fr_100g\"].notna())]\n",
    "testNutri=testNutri.sort_values(\"nutrition_grade_fr\")"
   ]
  },
  {
   "cell_type": "code",
   "execution_count": 32,
   "id": "a29c335c",
   "metadata": {},
   "outputs": [
    {
     "data": {
      "text/plain": [
       "<AxesSubplot:xlabel='nutrition_grade_fr', ylabel='nutrition-score-fr_100g'>"
      ]
     },
     "execution_count": 32,
     "metadata": {},
     "output_type": "execute_result"
    },
    {
     "data": {
      "image/png": "[encoded data removed]",
      "text/plain": [
       "<Figure size 640x480 with 1 Axes>"
      ]
     },
     "metadata": {},
     "output_type": "display_data"
    }
   ],
   "source": [
    "sns.boxplot(data=testNutri,x=\"nutrition_grade_fr\",y=\"nutrition-score-fr_100g\")"
   ]
  },
  {
   "cell_type": "code",
   "execution_count": 33,
   "id": "8dbb3988",
   "metadata": {},
   "outputs": [],
   "source": [
    "testEnerNut=foodWithout_38[[\"nutrition_grade_fr\",\"energy_100g\"]]"
   ]
  },
  {
   "cell_type": "code",
   "execution_count": 34,
   "id": "f81695f5",
   "metadata": {},
   "outputs": [],
   "source": [
    "testEnerNut=testEnerNut.loc[(testEnerNut[\"nutrition_grade_fr\"].notna())&(testEnerNut[\"energy_100g\"].notna())]\n",
    "testEnerNut=testEnerNut.loc[testEnerNut[\"energy_100g\"]<3700]\n",
    "testEnerNut=testEnerNut.sort_values(\"nutrition_grade_fr\")"
   ]
  },
  {
   "cell_type": "code",
   "execution_count": 35,
   "id": "f12c0ad0",
   "metadata": {},
   "outputs": [
    {
     "data": {
      "text/plain": [
       "<AxesSubplot:xlabel='nutrition_grade_fr', ylabel='energy_100g'>"
      ]
     },
     "execution_count": 35,
     "metadata": {},
     "output_type": "execute_result"
    },
    {
     "data": {
      "image/png": "[encoded data removed]",
      "text/plain": [
       "<Figure size 640x480 with 1 Axes>"
      ]
     },
     "metadata": {},
     "output_type": "display_data"
    }
   ],
   "source": [
    "sns.boxplot(data=testEnerNut,x=\"nutrition_grade_fr\",y=\"energy_100g\")"
   ]
  },
  {
   "cell_type": "code",
   "execution_count": 36,
   "id": "eb462cf3",
   "metadata": {},
   "outputs": [
    {
     "data": {
      "text/plain": [
       "unknown                             22624\n",
       "One-dish meals                       5546\n",
       "Sweets                               4698\n",
       "Biscuits and cakes                   4561\n",
       "Non-sugared beverages                4302\n",
       "Cereals                              4106\n",
       "Cheese                               4024\n",
       "Dressings and sauces                 3602\n",
       "Milk and yogurt                      3297\n",
       "Processed meat                       3247\n",
       "Chocolate products                   3109\n",
       "Alcoholic beverages                  2909\n",
       "Vegetables                           2840\n",
       "Fish and seafood                     2638\n",
       "Sweetened beverages                  2170\n",
       "Appetizers                           2101\n",
       "Fruits                               2068\n",
       "Fruit juices                         1924\n",
       "Bread                                1838\n",
       "Meat                                 1694\n",
       "Fats                                 1614\n",
       "Breakfast cereals                    1408\n",
       "vegetables                            934\n",
       "Legumes                               925\n",
       "Dairy desserts                        783\n",
       "Ice cream                             721\n",
       "Nuts                                  689\n",
       "Sandwich                              686\n",
       "Pizza pies and quiche                 515\n",
       "Soups                                 503\n",
       "Dried fruits                          497\n",
       "pastries                              496\n",
       "Eggs                                  462\n",
       "Fruit nectars                         376\n",
       "Artificially sweetened beverages      261\n",
       "Potatoes                              165\n",
       "Tripe dishes                           69\n",
       "fruits                                 53\n",
       "Salty and fatty products               19\n",
       "cereals                                12\n",
       "legumes                                 4\n",
       "nuts                                    1\n",
       "Name: pnns_groups_2, dtype: int64"
      ]
     },
     "execution_count": 36,
     "metadata": {},
     "output_type": "execute_result"
    }
   ],
   "source": [
    "foodRaw.pnns_groups_2.value_counts()"
   ]
  }
 ],
 "metadata": {
  "kernelspec": {
   "display_name": "envP3",
   "language": "python",
   "name": "envp3"
  },
  "language_info": {
   "codemirror_mode": {
    "name": "ipython",
    "version": 3
   },
   "file_extension": ".py",
   "mimetype": "text/x-python",
   "name": "python",
   "nbconvert_exporter": "python",
   "pygments_lexer": "ipython3",
   "version": "3.9.13"
  }
 },
 "nbformat": 4,
 "nbformat_minor": 5
}
