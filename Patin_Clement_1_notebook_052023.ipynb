{
 "cells": [
  {
   "cell_type": "markdown",
   "id": "27327271",
   "metadata": {},
   "source": [
    "# PRÉPAREZ DES DONNÉES POUR UN ORGANISME DE SANTÉ PUBLIQUE\n",
    "\n",
    "![](Logo-Sante-Publique-France-.png)"
   ]
  },
  {
   "cell_type": "markdown",
   "id": "f57bef0c",
   "metadata": {},
   "source": [
    "# Table des matières"
   ]
  },
  {
   "cell_type": "markdown",
   "id": "075cef66",
   "metadata": {},
   "source": [
    "# Introduction"
   ]
  },
  {
   "cell_type": "markdown",
   "id": "3843f044",
   "metadata": {},
   "source": [
    "L'agence \"Santé publique France\" a lancé un **appel à projets pour rendre les données de santé plus accessibles**. L’agence souhaite faire explorer et visualiser des données, pour que ses agents puissent les exploiter.\n",
    "\n",
    "Le jeu de données à analyser est issu de la plateforme **Open Food Facts**, qui est une association donnant accès à une base données de produits alimentaires :\n",
    "- ouverte à tous\n",
    "- où tout le monde peut contribuer\n",
    "\n",
    "Dans le cadre de cet appel à projets, nous :\n",
    "- proposerons une idée d'application\n",
    "- mènerons à bien le nettoyage nécessaire à l'exploration des données\n",
    "- explorerons les données traitées"
   ]
  },
  {
   "cell_type": "markdown",
   "id": "ec155dd9",
   "metadata": {},
   "source": [
    "# Partie 1 - Imports & Proposition d'application"
   ]
  },
  {
   "cell_type": "markdown",
   "id": "115d5ea2",
   "metadata": {},
   "source": [
    "## P1.1. Imports des librairies & du dataset\n",
    "\n",
    "Commençons par importer les principales librairies dont nous aurons besoin :"
   ]
  },
  {
   "cell_type": "code",
   "execution_count": 1,
   "id": "b0af5441",
   "metadata": {},
   "outputs": [],
   "source": [
    "import pandas as pd # to manipulate the dataset with dataframes\n",
    "import numpy as np # for statistics and calculations\n",
    "import matplotlib.pyplot as plt # for data visualisation\n",
    "%matplotlib inline\n",
    "import seaborn as sns # for data visualisation, with different proporties\n",
    "import missingno as ms # for visualisation of missing data"
   ]
  },
  {
   "cell_type": "markdown",
   "id": "c7eab489",
   "metadata": {},
   "source": [
    "## P1.2. Import du dataset"
   ]
  },
  {
   "cell_type": "code",
   "execution_count": 2,
   "id": "c633cca4",
   "metadata": {
    "scrolled": false
   },
   "outputs": [],
   "source": [
    "foodRaw=pd.read_csv('fr.openfoodfacts.org.products.csv', sep='\\t',low_memory=False)"
   ]
  },
  {
   "cell_type": "markdown",
   "id": "11cb9fbd",
   "metadata": {},
   "source": [
    "Nous pouvons regarder les dimensions du tableau généré :"
   ]
  },
  {
   "cell_type": "code",
   "execution_count": 3,
   "id": "a562f496",
   "metadata": {},
   "outputs": [
    {
     "name": "stdout",
     "output_type": "stream",
     "text": [
      "Le tableau mis à disposition comporte  162 variables et  320772 lignes / produits\n"
     ]
    }
   ],
   "source": [
    "print(\"Le tableau mis à disposition comporte \", foodRaw.shape[1], \"variables et \", foodRaw.shape[0], \"lignes / produits\")"
   ]
  },
  {
   "cell_type": "markdown",
   "id": "d98ceb60",
   "metadata": {},
   "source": [
    "Nous pouvons affihcer les premières lignes :"
   ]
  },
  {
   "cell_type": "code",
   "execution_count": 4,
   "id": "60a04e98",
   "metadata": {},
   "outputs": [
    {
     "data": {
      "text/html": [
       "<div>\n",
       "<style scoped>\n",
       "    .dataframe tbody tr th:only-of-type {\n",
       "        vertical-align: middle;\n",
       "    }\n",
       "\n",
       "    .dataframe tbody tr th {\n",
       "        vertical-align: top;\n",
       "    }\n",
       "\n",
       "    .dataframe thead th {\n",
       "        text-align: right;\n",
       "    }\n",
       "</style>\n",
       "<table border=\"1\" class=\"dataframe\">\n",
       "  <thead>\n",
       "    <tr style=\"text-align: right;\">\n",
       "      <th></th>\n",
       "      <th>code</th>\n",
       "      <th>url</th>\n",
       "      <th>creator</th>\n",
       "      <th>created_t</th>\n",
       "      <th>created_datetime</th>\n",
       "      <th>last_modified_t</th>\n",
       "      <th>last_modified_datetime</th>\n",
       "      <th>product_name</th>\n",
       "      <th>generic_name</th>\n",
       "      <th>quantity</th>\n",
       "      <th>...</th>\n",
       "      <th>ph_100g</th>\n",
       "      <th>fruits-vegetables-nuts_100g</th>\n",
       "      <th>collagen-meat-protein-ratio_100g</th>\n",
       "      <th>cocoa_100g</th>\n",
       "      <th>chlorophyl_100g</th>\n",
       "      <th>carbon-footprint_100g</th>\n",
       "      <th>nutrition-score-fr_100g</th>\n",
       "      <th>nutrition-score-uk_100g</th>\n",
       "      <th>glycemic-index_100g</th>\n",
       "      <th>water-hardness_100g</th>\n",
       "    </tr>\n",
       "  </thead>\n",
       "  <tbody>\n",
       "    <tr>\n",
       "      <th>0</th>\n",
       "      <td>0000000003087</td>\n",
       "      <td>http://world-fr.openfoodfacts.org/produit/0000...</td>\n",
       "      <td>openfoodfacts-contributors</td>\n",
       "      <td>1474103866</td>\n",
       "      <td>2016-09-17T09:17:46Z</td>\n",
       "      <td>1474103893</td>\n",
       "      <td>2016-09-17T09:18:13Z</td>\n",
       "      <td>Farine de blé noir</td>\n",
       "      <td>NaN</td>\n",
       "      <td>1kg</td>\n",
       "      <td>...</td>\n",
       "      <td>NaN</td>\n",
       "      <td>NaN</td>\n",
       "      <td>NaN</td>\n",
       "      <td>NaN</td>\n",
       "      <td>NaN</td>\n",
       "      <td>NaN</td>\n",
       "      <td>NaN</td>\n",
       "      <td>NaN</td>\n",
       "      <td>NaN</td>\n",
       "      <td>NaN</td>\n",
       "    </tr>\n",
       "    <tr>\n",
       "      <th>1</th>\n",
       "      <td>0000000004530</td>\n",
       "      <td>http://world-fr.openfoodfacts.org/produit/0000...</td>\n",
       "      <td>usda-ndb-import</td>\n",
       "      <td>1489069957</td>\n",
       "      <td>2017-03-09T14:32:37Z</td>\n",
       "      <td>1489069957</td>\n",
       "      <td>2017-03-09T14:32:37Z</td>\n",
       "      <td>Banana Chips Sweetened (Whole)</td>\n",
       "      <td>NaN</td>\n",
       "      <td>NaN</td>\n",
       "      <td>...</td>\n",
       "      <td>NaN</td>\n",
       "      <td>NaN</td>\n",
       "      <td>NaN</td>\n",
       "      <td>NaN</td>\n",
       "      <td>NaN</td>\n",
       "      <td>NaN</td>\n",
       "      <td>14.0</td>\n",
       "      <td>14.0</td>\n",
       "      <td>NaN</td>\n",
       "      <td>NaN</td>\n",
       "    </tr>\n",
       "    <tr>\n",
       "      <th>2</th>\n",
       "      <td>0000000004559</td>\n",
       "      <td>http://world-fr.openfoodfacts.org/produit/0000...</td>\n",
       "      <td>usda-ndb-import</td>\n",
       "      <td>1489069957</td>\n",
       "      <td>2017-03-09T14:32:37Z</td>\n",
       "      <td>1489069957</td>\n",
       "      <td>2017-03-09T14:32:37Z</td>\n",
       "      <td>Peanuts</td>\n",
       "      <td>NaN</td>\n",
       "      <td>NaN</td>\n",
       "      <td>...</td>\n",
       "      <td>NaN</td>\n",
       "      <td>NaN</td>\n",
       "      <td>NaN</td>\n",
       "      <td>NaN</td>\n",
       "      <td>NaN</td>\n",
       "      <td>NaN</td>\n",
       "      <td>0.0</td>\n",
       "      <td>0.0</td>\n",
       "      <td>NaN</td>\n",
       "      <td>NaN</td>\n",
       "    </tr>\n",
       "    <tr>\n",
       "      <th>3</th>\n",
       "      <td>0000000016087</td>\n",
       "      <td>http://world-fr.openfoodfacts.org/produit/0000...</td>\n",
       "      <td>usda-ndb-import</td>\n",
       "      <td>1489055731</td>\n",
       "      <td>2017-03-09T10:35:31Z</td>\n",
       "      <td>1489055731</td>\n",
       "      <td>2017-03-09T10:35:31Z</td>\n",
       "      <td>Organic Salted Nut Mix</td>\n",
       "      <td>NaN</td>\n",
       "      <td>NaN</td>\n",
       "      <td>...</td>\n",
       "      <td>NaN</td>\n",
       "      <td>NaN</td>\n",
       "      <td>NaN</td>\n",
       "      <td>NaN</td>\n",
       "      <td>NaN</td>\n",
       "      <td>NaN</td>\n",
       "      <td>12.0</td>\n",
       "      <td>12.0</td>\n",
       "      <td>NaN</td>\n",
       "      <td>NaN</td>\n",
       "    </tr>\n",
       "    <tr>\n",
       "      <th>4</th>\n",
       "      <td>0000000016094</td>\n",
       "      <td>http://world-fr.openfoodfacts.org/produit/0000...</td>\n",
       "      <td>usda-ndb-import</td>\n",
       "      <td>1489055653</td>\n",
       "      <td>2017-03-09T10:34:13Z</td>\n",
       "      <td>1489055653</td>\n",
       "      <td>2017-03-09T10:34:13Z</td>\n",
       "      <td>Organic Polenta</td>\n",
       "      <td>NaN</td>\n",
       "      <td>NaN</td>\n",
       "      <td>...</td>\n",
       "      <td>NaN</td>\n",
       "      <td>NaN</td>\n",
       "      <td>NaN</td>\n",
       "      <td>NaN</td>\n",
       "      <td>NaN</td>\n",
       "      <td>NaN</td>\n",
       "      <td>NaN</td>\n",
       "      <td>NaN</td>\n",
       "      <td>NaN</td>\n",
       "      <td>NaN</td>\n",
       "    </tr>\n",
       "  </tbody>\n",
       "</table>\n",
       "<p>5 rows × 162 columns</p>\n",
       "</div>"
      ],
      "text/plain": [
       "            code                                                url  \\\n",
       "0  0000000003087  http://world-fr.openfoodfacts.org/produit/0000...   \n",
       "1  0000000004530  http://world-fr.openfoodfacts.org/produit/0000...   \n",
       "2  0000000004559  http://world-fr.openfoodfacts.org/produit/0000...   \n",
       "3  0000000016087  http://world-fr.openfoodfacts.org/produit/0000...   \n",
       "4  0000000016094  http://world-fr.openfoodfacts.org/produit/0000...   \n",
       "\n",
       "                      creator   created_t      created_datetime  \\\n",
       "0  openfoodfacts-contributors  1474103866  2016-09-17T09:17:46Z   \n",
       "1             usda-ndb-import  1489069957  2017-03-09T14:32:37Z   \n",
       "2             usda-ndb-import  1489069957  2017-03-09T14:32:37Z   \n",
       "3             usda-ndb-import  1489055731  2017-03-09T10:35:31Z   \n",
       "4             usda-ndb-import  1489055653  2017-03-09T10:34:13Z   \n",
       "\n",
       "  last_modified_t last_modified_datetime                    product_name  \\\n",
       "0      1474103893   2016-09-17T09:18:13Z              Farine de blé noir   \n",
       "1      1489069957   2017-03-09T14:32:37Z  Banana Chips Sweetened (Whole)   \n",
       "2      1489069957   2017-03-09T14:32:37Z                         Peanuts   \n",
       "3      1489055731   2017-03-09T10:35:31Z          Organic Salted Nut Mix   \n",
       "4      1489055653   2017-03-09T10:34:13Z                 Organic Polenta   \n",
       "\n",
       "  generic_name quantity  ... ph_100g fruits-vegetables-nuts_100g  \\\n",
       "0          NaN      1kg  ...     NaN                         NaN   \n",
       "1          NaN      NaN  ...     NaN                         NaN   \n",
       "2          NaN      NaN  ...     NaN                         NaN   \n",
       "3          NaN      NaN  ...     NaN                         NaN   \n",
       "4          NaN      NaN  ...     NaN                         NaN   \n",
       "\n",
       "  collagen-meat-protein-ratio_100g cocoa_100g chlorophyl_100g  \\\n",
       "0                              NaN        NaN             NaN   \n",
       "1                              NaN        NaN             NaN   \n",
       "2                              NaN        NaN             NaN   \n",
       "3                              NaN        NaN             NaN   \n",
       "4                              NaN        NaN             NaN   \n",
       "\n",
       "  carbon-footprint_100g nutrition-score-fr_100g nutrition-score-uk_100g  \\\n",
       "0                   NaN                     NaN                     NaN   \n",
       "1                   NaN                    14.0                    14.0   \n",
       "2                   NaN                     0.0                     0.0   \n",
       "3                   NaN                    12.0                    12.0   \n",
       "4                   NaN                     NaN                     NaN   \n",
       "\n",
       "  glycemic-index_100g water-hardness_100g  \n",
       "0                 NaN                 NaN  \n",
       "1                 NaN                 NaN  \n",
       "2                 NaN                 NaN  \n",
       "3                 NaN                 NaN  \n",
       "4                 NaN                 NaN  \n",
       "\n",
       "[5 rows x 162 columns]"
      ]
     },
     "metadata": {},
     "output_type": "display_data"
    }
   ],
   "source": [
    "display(foodRaw.head())"
   ]
  },
  {
   "cell_type": "markdown",
   "id": "c6b7e08a",
   "metadata": {},
   "source": [
    "Nous avons à disposition 4 types de variables :\n",
    "- Les informations générales sur la fiche du produit : nom, date de modification, etc.\n",
    "- Un ensemble de tags : catégorie du produit, localisation, origine, etc.\n",
    "- Les ingrédients composant les produits et leurs additifs éventuels.\n",
    "- Des informations nutritionnelles : \n",
    "    - quantité en grammes d’un nutriment pour 100 grammes du produit.\n",
    "    - des scores nutritionnels (comme le nutriscore)"
   ]
  },
  {
   "cell_type": "markdown",
   "id": "802c8d6a",
   "metadata": {},
   "source": [
    "## P1.3. Proposition d'application"
   ]
  },
  {
   "cell_type": "markdown",
   "id": "d1e07ae1",
   "metadata": {},
   "source": [
    "Afin d'aider à améliorer la santé de nos concitoyens, nous pourrions utiliser les données mises à notre disposition pour aider les malades et les médecins.\n",
    "\n",
    "En effet, un des principaux maux du 21$^{ème}$ est la multiplications de maladies chroniques dans nos sociétés industrialisées. Mes maladies cardiovasculaires représentent **la dépense la plus importante** pour l'Assurance Maladie.\n",
    "\n",
    "**Hypertension, Diabètes, Cholestérol, Obésites, etc.** : Toutes ses pathologies sont, à des degrès différents, liées au régime alimentaire des malades.\n",
    "\n",
    "En plus des médicaments, les médecins prescrivent également un **régime alimentaire adapté** aux pathologies chroniques des patients affectés.\n",
    "\n",
    "Mais devant le nombre de produits disponibles en grandes surfaces, chacun avec une étiquette nutritionnelle qui lui est propre, le patient peut se retrouver démuni au moment de faire ses choix.\n",
    "\n",
    "**MyHealthScore** : Une application **proposée par le médecin** à son patient pour l'aider à adapter son régime alimentaire à sa (ou ses) pathologie(s).\n",
    "\n",
    "L'idée :\n",
    "- le médecin configure le **profil** de son patient :\n",
    "    - données biométriques : sexe, age, poids, taille, etc.\n",
    "    - pathologie(s) : hypertension, diabètes, cholestérol, obésité, autre\n",
    "    \n",
    "    \n",
    "- le profil permet de créé un score nutritionnel **adapté au patient** : *MyHealthScore*\n",
    "    - ce score est basé sur les **mêmes données** nutritionnelles que le Nutri-Score :\n",
    "        - La valeur énergétique (KJ)\n",
    "        - Les lipides (g)\n",
    "        - Les acides gras saturés (g)\n",
    "        - Les sucres (g)\n",
    "        - Les protéines (g)\n",
    "        - Le sodium (mg)\n",
    "        - Les fibres (g)\n",
    "        - Fruits, légumes, etc. (%)\n",
    "        \n",
    "   mais **personnalisé** pour le profil du patient.\n",
    "\n",
    "\n",
    "- l'**application** pourrait fonctionner ainsi :\n",
    "    - le patient **scanne / rentre une référence** d'un produit\n",
    "    - l'application **lui délivre ensuite son MyHeathScore personnalisé** selon les informations renseignées par son médecin.\n",
    "\n",
    "- chaque système ayant ses propres spécificités, l'application serait dans un premier temps destinée au système de santé **français**.\n"
   ]
  },
  {
   "cell_type": "markdown",
   "id": "35625665",
   "metadata": {},
   "source": [
    "## P1.4. Réduction du champ d'étude : France"
   ]
  },
  {
   "cell_type": "markdown",
   "id": "3099cfba",
   "metadata": {},
   "source": [
    "Comme expliqué plus haut, nous allons nous concentrer sur le France dans le cadre cette étude.\n",
    "\n"
   ]
  },
  {
   "cell_type": "markdown",
   "id": "36256841",
   "metadata": {},
   "source": [
    "Le dataset comporte plusieurs colonnes contenant des informations sur le pays :"
   ]
  },
  {
   "cell_type": "code",
   "execution_count": 100,
   "id": "f0600068",
   "metadata": {},
   "outputs": [
    {
     "data": {
      "text/plain": [
       "['countries', 'countries_tags', 'countries_fr']"
      ]
     },
     "execution_count": 100,
     "metadata": {},
     "output_type": "execute_result"
    }
   ],
   "source": [
    "# create a list with \"coutries\" columns\n",
    "countriesColNames = [col for col in foodRaw.columns if \"countri\" in col]\n",
    "countriesColNames"
   ]
  },
  {
   "cell_type": "markdown",
   "id": "f10147d3",
   "metadata": {},
   "source": [
    "Avant d'en sélectionner une pour notre filtrage, regardons à quoi elles ressemblent :"
   ]
  },
  {
   "cell_type": "code",
   "execution_count": 101,
   "id": "851da233",
   "metadata": {},
   "outputs": [
    {
     "data": {
      "text/html": [
       "<div>\n",
       "<style scoped>\n",
       "    .dataframe tbody tr th:only-of-type {\n",
       "        vertical-align: middle;\n",
       "    }\n",
       "\n",
       "    .dataframe tbody tr th {\n",
       "        vertical-align: top;\n",
       "    }\n",
       "\n",
       "    .dataframe thead th {\n",
       "        text-align: right;\n",
       "    }\n",
       "</style>\n",
       "<table border=\"1\" class=\"dataframe\">\n",
       "  <thead>\n",
       "    <tr style=\"text-align: right;\">\n",
       "      <th></th>\n",
       "      <th>countries</th>\n",
       "      <th>countries_tags</th>\n",
       "      <th>countries_fr</th>\n",
       "    </tr>\n",
       "  </thead>\n",
       "  <tbody>\n",
       "    <tr>\n",
       "      <th>82643</th>\n",
       "      <td>US</td>\n",
       "      <td>en:united-states</td>\n",
       "      <td>États-Unis</td>\n",
       "    </tr>\n",
       "    <tr>\n",
       "      <th>51245</th>\n",
       "      <td>US</td>\n",
       "      <td>en:united-states</td>\n",
       "      <td>États-Unis</td>\n",
       "    </tr>\n",
       "    <tr>\n",
       "      <th>287454</th>\n",
       "      <td>France</td>\n",
       "      <td>en:france</td>\n",
       "      <td>France</td>\n",
       "    </tr>\n",
       "    <tr>\n",
       "      <th>19241</th>\n",
       "      <td>US</td>\n",
       "      <td>en:united-states</td>\n",
       "      <td>États-Unis</td>\n",
       "    </tr>\n",
       "    <tr>\n",
       "      <th>160364</th>\n",
       "      <td>US</td>\n",
       "      <td>en:united-states</td>\n",
       "      <td>États-Unis</td>\n",
       "    </tr>\n",
       "    <tr>\n",
       "      <th>19488</th>\n",
       "      <td>US</td>\n",
       "      <td>en:united-states</td>\n",
       "      <td>États-Unis</td>\n",
       "    </tr>\n",
       "    <tr>\n",
       "      <th>194812</th>\n",
       "      <td>France</td>\n",
       "      <td>en:france</td>\n",
       "      <td>France</td>\n",
       "    </tr>\n",
       "    <tr>\n",
       "      <th>277531</th>\n",
       "      <td>France</td>\n",
       "      <td>en:france</td>\n",
       "      <td>France</td>\n",
       "    </tr>\n",
       "    <tr>\n",
       "      <th>143963</th>\n",
       "      <td>US</td>\n",
       "      <td>en:united-states</td>\n",
       "      <td>États-Unis</td>\n",
       "    </tr>\n",
       "    <tr>\n",
       "      <th>144266</th>\n",
       "      <td>US</td>\n",
       "      <td>en:united-states</td>\n",
       "      <td>États-Unis</td>\n",
       "    </tr>\n",
       "  </tbody>\n",
       "</table>\n",
       "</div>"
      ],
      "text/plain": [
       "       countries    countries_tags countries_fr\n",
       "82643         US  en:united-states   États-Unis\n",
       "51245         US  en:united-states   États-Unis\n",
       "287454    France         en:france       France\n",
       "19241         US  en:united-states   États-Unis\n",
       "160364        US  en:united-states   États-Unis\n",
       "19488         US  en:united-states   États-Unis\n",
       "194812    France         en:france       France\n",
       "277531    France         en:france       France\n",
       "143963        US  en:united-states   États-Unis\n",
       "144266        US  en:united-states   États-Unis"
      ]
     },
     "execution_count": 101,
     "metadata": {},
     "output_type": "execute_result"
    }
   ],
   "source": [
    "foodRaw[countriesColNames].sample(10)"
   ]
  },
  {
   "cell_type": "markdown",
   "id": "b4bc2f30",
   "metadata": {},
   "source": [
    "Nous pouvons nous concentrer sur la colonne \"countries_fr\".\n",
    "\n",
    "Regardons le nombre de valeurs manquantes pour ces trois colonnes :"
   ]
  },
  {
   "cell_type": "code",
   "execution_count": 102,
   "id": "678a6b52",
   "metadata": {},
   "outputs": [
    {
     "data": {
      "text/plain": [
       "countries         280\n",
       "countries_tags    280\n",
       "countries_fr      280\n",
       "dtype: int64"
      ]
     },
     "execution_count": 102,
     "metadata": {},
     "output_type": "execute_result"
    }
   ],
   "source": [
    "foodRaw[countriesColNames].isna().sum()"
   ]
  },
  {
   "cell_type": "markdown",
   "id": "193292df",
   "metadata": {},
   "source": [
    "Elles n'en contiennent. Si elle ne sont pas positionnées aux mêmes endroits, nous pouvons regarder si \"countries\" et \"countries_tags\" peuvent nous aider à imputer \"countries_fr\" :"
   ]
  },
  {
   "cell_type": "code",
   "execution_count": 103,
   "id": "1f4bbaef",
   "metadata": {},
   "outputs": [
    {
     "data": {
      "text/html": [
       "<div>\n",
       "<style scoped>\n",
       "    .dataframe tbody tr th:only-of-type {\n",
       "        vertical-align: middle;\n",
       "    }\n",
       "\n",
       "    .dataframe tbody tr th {\n",
       "        vertical-align: top;\n",
       "    }\n",
       "\n",
       "    .dataframe thead th {\n",
       "        text-align: right;\n",
       "    }\n",
       "</style>\n",
       "<table border=\"1\" class=\"dataframe\">\n",
       "  <thead>\n",
       "    <tr style=\"text-align: right;\">\n",
       "      <th></th>\n",
       "      <th>countries</th>\n",
       "      <th>countries_tags</th>\n",
       "      <th>countries_fr</th>\n",
       "    </tr>\n",
       "  </thead>\n",
       "  <tbody>\n",
       "  </tbody>\n",
       "</table>\n",
       "</div>"
      ],
      "text/plain": [
       "Empty DataFrame\n",
       "Columns: [countries, countries_tags, countries_fr]\n",
       "Index: []"
      ]
     },
     "execution_count": 103,
     "metadata": {},
     "output_type": "execute_result"
    }
   ],
   "source": [
    "# create a mask for rows where \"countries_fr\" is NaN and one of the others is not\n",
    "maskCountries = (foodRaw.countries_fr.isna())&((foodRaw.countries_tags.notna())|(foodRaw.countries.notna()))\n",
    "\n",
    "foodRaw[countriesColNames].loc[maskCountries]"
   ]
  },
  {
   "cell_type": "markdown",
   "id": "37f8933f",
   "metadata": {},
   "source": [
    "Les autres colonnes ne peuvent donc pas nous aider à combler les 280 valeurs manquantes. Nous ne considérerons pas ces produits."
   ]
  },
  {
   "cell_type": "markdown",
   "id": "1588ee66",
   "metadata": {},
   "source": [
    "Regardons maintenant les différents pays contributeurs de la base de données :"
   ]
  },
  {
   "cell_type": "code",
   "execution_count": 104,
   "id": "5d7bf664",
   "metadata": {},
   "outputs": [
    {
     "data": {
      "text/plain": [
       "États-Unis                                      172998\n",
       "France                                           94392\n",
       "Suisse                                           14953\n",
       "Allemagne                                         7870\n",
       "Espagne                                           5009\n",
       "                                                 ...  \n",
       "Danemark,Suisse,en:Deutschland,en:Frankreich         1\n",
       "France,Luxembourg,Suisse                             1\n",
       "Autriche,République tchèque,Allemagne                1\n",
       "Allemagne,Hongrie                                    1\n",
       "Chine,Hong Kong                                      1\n",
       "Name: countries_fr, Length: 722, dtype: int64"
      ]
     },
     "execution_count": 104,
     "metadata": {},
     "output_type": "execute_result"
    }
   ],
   "source": [
    "# list of unique values in \"countries_fr\" and number of occurrences\n",
    "foodRaw.countries_fr.value_counts(ascending=False)"
   ]
  },
  {
   "cell_type": "markdown",
   "id": "934f40ca",
   "metadata": {},
   "source": [
    "Les valeurs de cette variable contiennent, en chaîne de caractères, la liste des pays où le produit est commercialisé.\n",
    "\n",
    "Afin de nous concentrer sur la france, nous allons donc rechercher dans ces chaînes de caractères :"
   ]
  },
  {
   "cell_type": "code",
   "execution_count": 105,
   "id": "97a615bf",
   "metadata": {},
   "outputs": [],
   "source": [
    "# create masks for french products \n",
    "maskFrance = foodRaw.countries_fr.str.find(\"France\")!=-1\n",
    "maskfrance = foodRaw.countries_fr.str.find(\"france\")!=-1\n",
    "maskFr = foodRaw.countries_fr.str.find(\"Fr\")!=-1\n",
    "maskFR = foodRaw.countries_fr.str.find(\"FR\")!=-1\n",
    "maskfr = foodRaw.countries_fr.str.find(\"fr\")!=-1"
   ]
  },
  {
   "cell_type": "markdown",
   "id": "fcdc34fe",
   "metadata": {},
   "source": [
    "Testons ces différents filtres."
   ]
  },
  {
   "cell_type": "code",
   "execution_count": 106,
   "id": "bdd329cb",
   "metadata": {},
   "outputs": [
    {
     "data": {
      "text/plain": [
       "France                                                   94392\n",
       "France,Suisse                                             1224\n",
       "France,Royaume-Uni                                         514\n",
       "Belgique,France                                            512\n",
       "France,Allemagne                                           240\n",
       "                                                         ...  \n",
       "Belgique,France,Allemagne,Roumanie                           1\n",
       "Australie,République tchèque,France,Allemagne,Hongrie        1\n",
       "Danemark,France,Allemagne,Russie,Espagne,Royaume-Uni         1\n",
       "République tchèque,Danemark,France,Allemagne                 1\n",
       "France,Hong Kong                                             1\n",
       "Name: countries_fr, Length: 305, dtype: int64"
      ]
     },
     "execution_count": 106,
     "metadata": {},
     "output_type": "execute_result"
    }
   ],
   "source": [
    "foodRaw.loc[maskFrance,\"countries_fr\"].value_counts()"
   ]
  },
  {
   "cell_type": "markdown",
   "id": "ebbb6f66",
   "metadata": {},
   "source": [
    "On obtient 305 valeurs uniques en recherchant avec \"France\". Continuons :"
   ]
  },
  {
   "cell_type": "code",
   "execution_count": 107,
   "id": "ff58fc11",
   "metadata": {},
   "outputs": [
    {
     "data": {
      "text/plain": [
       "Series([], Name: countries_fr, dtype: int64)"
      ]
     },
     "execution_count": 107,
     "metadata": {},
     "output_type": "execute_result"
    }
   ],
   "source": [
    "foodRaw.loc[maskfrance,\"countries_fr\"].value_counts()"
   ]
  },
  {
   "cell_type": "markdown",
   "id": "ccb0238b",
   "metadata": {},
   "source": [
    "Cette orthographe n'est pas utilisée. Continuons :"
   ]
  },
  {
   "cell_type": "code",
   "execution_count": 108,
   "id": "679aef3b",
   "metadata": {},
   "outputs": [
    {
     "data": {
      "text/plain": [
       "Suisse,Deutschland,Frankreich                                                                                                9\n",
       "Suisse,Frankrijk,Nederland                                                                                                   2\n",
       "Danemark,Suisse,es:Franciaorszag,es:Magyarorszag,es:Nagy-britannia,es:Portugalia,es:Spanyolorszag                            1\n",
       "Belgique,Danemark,Suisse,es:Franciaorszag,es:Magyarorszag,es:Nagy-britannia,es:Nemetorszag,es:Portugalia,es:Spanyolorszag    1\n",
       "Suisse,Deutschland,Frankreich,Spanien                                                                                        1\n",
       "Suisse,Frankrijk                                                                                                             1\n",
       "Suisse,Belgien,Deutschland,Frankreich                                                                                        1\n",
       "Danemark,Suisse,en:Deutschland,en:Frankreich                                                                                 1\n",
       "en:Denemarken,en:Finand,en:Frankrijk,en:Italiaans,en:Zwitserland                                                             1\n",
       "Italie,en:Denemarken,en:Nederland,en:Noorwegen,en:Zweden,en:Belgie,en:Duitsland,en:Frankrijk                                 1\n",
       "Finlande,en:Belgie,en:Denemarken,en:Frankrijk,en:Spanje,en:Zweden,en:Zwitserland                                             1\n",
       "Belgique,Danemark,Suisse,Deutschland,Frankreich                                                                              1\n",
       "Danemark,Espagne,en:Frankrike,en:Kina,en:Sverige                                                                             1\n",
       "Allemagne,Suisse,Frankreich                                                                                                  1\n",
       "Portugal,en:Belgie,en:Duitsland,en:Frankrijk,en:Nederland,en:Spanje,en:Zwitserland                                           1\n",
       "Name: countries_fr, dtype: int64"
      ]
     },
     "execution_count": 108,
     "metadata": {},
     "output_type": "execute_result"
    }
   ],
   "source": [
    "foodRaw.loc[maskFr&~maskFrance,\"countries_fr\"].value_counts()"
   ]
  },
  {
   "cell_type": "markdown",
   "id": "c9ed7b27",
   "metadata": {},
   "source": [
    "France est orthographié différemment."
   ]
  },
  {
   "cell_type": "code",
   "execution_count": 109,
   "id": "7cbfbcef",
   "metadata": {},
   "outputs": [
    {
     "data": {
      "text/plain": [
       "Polynésie française               52\n",
       "Afrique du Sud                    36\n",
       "en:fruit-yogurts                   8\n",
       "Polynésie française,États-Unis     3\n",
       "Polynésie française,Suisse         1\n",
       "République centrafricaine          1\n",
       "Name: countries_fr, dtype: int64"
      ]
     },
     "execution_count": 109,
     "metadata": {},
     "output_type": "execute_result"
    }
   ],
   "source": [
    "foodRaw.loc[maskfr&~maskFrance,\"countries_fr\"].value_counts()"
   ]
  },
  {
   "cell_type": "code",
   "execution_count": 110,
   "id": "1930e6e2",
   "metadata": {},
   "outputs": [],
   "source": [
    "# create a mask for \"Polynésie française\"\n",
    "maskPolyFr = foodRaw.countries_fr.str.find(\"Polynésie française\")!=-1"
   ]
  },
  {
   "cell_type": "code",
   "execution_count": 111,
   "id": "34d6373d",
   "metadata": {},
   "outputs": [
    {
     "data": {
      "text/plain": [
       "Series([], Name: countries_fr, dtype: int64)"
      ]
     },
     "execution_count": 111,
     "metadata": {},
     "output_type": "execute_result"
    }
   ],
   "source": [
    "foodRaw.loc[maskFR,\"countries_fr\"].value_counts()"
   ]
  },
  {
   "cell_type": "markdown",
   "id": "3153c70a",
   "metadata": {},
   "source": [
    "Ce dernier mask n'a rien donné. Nous pouvons donc filtrer notre dataframe pour ne conserver que les produits commercialisés en France : "
   ]
  },
  {
   "cell_type": "code",
   "execution_count": 112,
   "id": "3bab9e75",
   "metadata": {},
   "outputs": [],
   "source": [
    "foodRawFr = foodRaw.copy()\n",
    "#apply selected masks\n",
    "foodRawFr = foodRawFr.loc[maskFrance|maskFr|maskPolyFr]"
   ]
  },
  {
   "cell_type": "markdown",
   "id": "9192bc89",
   "metadata": {},
   "source": [
    "Voici les nouvelles dimensions du dataframe :"
   ]
  },
  {
   "cell_type": "code",
   "execution_count": 113,
   "id": "bc6306e1",
   "metadata": {},
   "outputs": [
    {
     "data": {
      "text/plain": [
       "(98800, 162)"
      ]
     },
     "execution_count": 113,
     "metadata": {},
     "output_type": "execute_result"
    }
   ],
   "source": [
    "foodRawFr.shape"
   ]
  },
  {
   "cell_type": "markdown",
   "id": "309ba2cf",
   "metadata": {},
   "source": [
    "## P1.5. Sélection des variables"
   ]
  },
  {
   "cell_type": "markdown",
   "id": "e3633f8c",
   "metadata": {},
   "source": [
    "Pour fonctionner, l'application ferait appel à la base de données d'OpenFoodFact pour récupérer les données nutritionnelles et calculer le MyHealthScore du patient.\n",
    "\n",
    "Il faut pour cela que les données soient présentes. Regardons visuellement le niveau de remplissage du dataset. Pour cela nous allons utiliser la librairie `missingno` :"
   ]
  },
  {
   "cell_type": "code",
   "execution_count": 115,
   "id": "b688f9bc",
   "metadata": {},
   "outputs": [
    {
     "data": {
      "image/png": "[encoded data removed]",
      "text/plain": [
       "<Figure size 2500x1000 with 1 Axes>"
      ]
     },
     "metadata": {},
     "output_type": "display_data"
    }
   ],
   "source": [
    "ms.matrix(foodRawFr,color=[0.7,0.0,0.0],sparkline=False) # dataviz of missing data\n",
    "plt.show()"
   ]
  },
  {
   "cell_type": "markdown",
   "id": "717ac259",
   "metadata": {},
   "source": [
    "Le data set est globalement **très peu renseigné**.\n",
    "\n",
    "Nous pouvons regarder ce qu'il en est des features qui nous intéressent pour calculer, théoriquement, un MyHealthScore :"
   ]
  },
  {
   "cell_type": "code",
   "execution_count": 116,
   "id": "c94e9f0b",
   "metadata": {},
   "outputs": [
    {
     "data": {
      "image/png": "[encoded data removed]",
      "text/plain": [
       "<Figure size 2500x1000 with 1 Axes>"
      ]
     },
     "metadata": {},
     "output_type": "display_data"
    }
   ],
   "source": [
    "theoricalFeaturesNames=[\"energy_100g\",\"sugars_100g\",\"saturated-fat_100g\",\"sodium_100g\",\"fruits-vegetables-nuts_100g\",\"fiber_100g\",\"proteins_100g\"]\n",
    "ms.matrix(foodRawFr[theoricalFeaturesNames],color=[0.7,0.0,0.0],sparkline=False) # dataviz of missing data\n",
    "plt.show()"
   ]
  },
  {
   "cell_type": "markdown",
   "id": "24af751f",
   "metadata": {},
   "source": [
    "Malheureusement la feature concernant les **fruits et légumes** est **très peu renseignée**...\n",
    "\n",
    "Or celle-ci se révèle indispensable pour calculer un MyHealthScore reflétant correctement les recommandations médicales.\n",
    "\n",
    "Par exemple, si l'on regarde les **préconisations hygiéno-ditétiques pour les personnes atteinte d'hypertension**, le site internet de la **sécurité sociale indique** :\n",
    "- sel : < 6g /j\n",
    "- perdre du poids, soit via une IMC < 25 kg/m², soit en perdant 10% du poids initial\n",
    "- activité physique, soit 30 min/j, soit 3x / semaine\n",
    "- réduire consommation d'alcool\n",
    "- augmenter la consommation de **fruits et légumes**\n",
    "- réduire la consommation de graisses saturées\n",
    "- arrêter le tabac"
   ]
  },
  {
   "cell_type": "markdown",
   "id": "8fc5ae99",
   "metadata": {},
   "source": [
    "La construction d'un MyHealthScore devra donc passer par la prise en compte d'autres colonnes. Pour les déterminer, nous pourrons nous baser dans un premier temps sur le \"taux de vide\". Regardons ce que cela donne pour les colonnes `theoricalFeaturesNames` :"
   ]
  },
  {
   "cell_type": "code",
   "execution_count": 117,
   "id": "d26140bc",
   "metadata": {},
   "outputs": [
    {
     "data": {
      "text/plain": [
       "energy_100g                    34.5 %\n",
       "sugars_100g                    36.6 %\n",
       "saturated-fat_100g             36.8 %\n",
       "sodium_100g                    36.6 %\n",
       "fruits-vegetables-nuts_100g    97.0 %\n",
       "fiber_100g                     53.7 %\n",
       "proteins_100g                  34.8 %\n",
       "dtype: object"
      ]
     },
     "execution_count": 117,
     "metadata": {},
     "output_type": "execute_result"
    }
   ],
   "source": [
    "# percentage of null values in primal selected features :\n",
    "(foodRawFr[theoricalFeaturesNames].isna().mean()*100).round(1).astype(str)+\" %\""
   ]
  },
  {
   "cell_type": "markdown",
   "id": "fa7e82b5",
   "metadata": {},
   "source": [
    "Écrivons une fonction pour filtrer les colonnes en fonction de leur taux de valeurs manquantes :"
   ]
  },
  {
   "cell_type": "code",
   "execution_count": 118,
   "id": "56f77ec0",
   "metadata": {},
   "outputs": [],
   "source": [
    "def dropEmptyCols(df,emptinessThreshold=1) :\n",
    "    \n",
    "    \"\"\"return an input pandas.DataFrame without its empty columns\n",
    "    \n",
    "    inputs\n",
    "    ------\n",
    "    df : pandas.DataFrame object\n",
    "    \n",
    "    optional inputs \n",
    "    ---------------\n",
    "    emptinessThreshold : float, defaul : = 1. Gives the limit threshold of emptiness. \n",
    "    if >=threshold, column is dropped. \n",
    "    \n",
    "    returns\n",
    "    -------\n",
    "    dfWithoutEmptyCols : pandas.DataFrame object, the same one without its empty columns\n",
    "    \n",
    "    \"\"\"\n",
    "    #select columns with percentage of null values > threshold\n",
    "    emptyColsNames=df.isna().mean().loc[df.isna().mean()>=emptinessThreshold].index \n",
    "    \n",
    "    #drop selected columns\n",
    "    dfWithoutEmptyCols=df.copy()\n",
    "    dfWithoutEmptyCols = dfWithoutEmptyCols.drop(columns=emptyColsNames)\n",
    "    \n",
    "    return dfWithoutEmptyCols"
   ]
  },
  {
   "cell_type": "markdown",
   "id": "f180a12e",
   "metadata": {},
   "source": [
    "Nous avons d'ores et déjà fait une croix sur `fruits-vegetables-nuts_100g`. Basons-nous sur le taux de `fiber_100g` :"
   ]
  },
  {
   "cell_type": "code",
   "execution_count": 121,
   "id": "0dc0cde0",
   "metadata": {},
   "outputs": [],
   "source": [
    "foodWithout_54=dropEmptyCols(foodRawFr,emptinessThreshold=0.54)"
   ]
  },
  {
   "cell_type": "code",
   "execution_count": 122,
   "id": "62a90da6",
   "metadata": {
    "scrolled": false
   },
   "outputs": [
    {
     "data": {
      "text/plain": [
       "code                                         0.0 %\n",
       "url                                          0.0 %\n",
       "creator                                      0.0 %\n",
       "created_t                                    0.0 %\n",
       "last_modified_t                              0.0 %\n",
       "last_modified_datetime                       0.0 %\n",
       "created_datetime                             0.0 %\n",
       "states                                      0.02 %\n",
       "states_tags                                 0.02 %\n",
       "states_fr                                   0.02 %\n",
       "countries                                   0.28 %\n",
       "countries_tags                              0.28 %\n",
       "countries_fr                                0.28 %\n",
       "product_name                                7.36 %\n",
       "brands                                     12.29 %\n",
       "brands_tags                                 12.3 %\n",
       "quantity                                   27.66 %\n",
       "pnns_groups_2                              31.95 %\n",
       "pnns_groups_1                              34.14 %\n",
       "energy_100g                                34.52 %\n",
       "proteins_100g                               34.8 %\n",
       "salt_100g                                  36.57 %\n",
       "sodium_100g                                36.57 %\n",
       "sugars_100g                                36.63 %\n",
       "saturated-fat_100g                         36.77 %\n",
       "categories_fr                              37.13 %\n",
       "categories                                 37.13 %\n",
       "categories_tags                            37.13 %\n",
       "main_category_fr                           37.15 %\n",
       "main_category                              37.15 %\n",
       "nutrition-score-uk_100g                    37.75 %\n",
       "nutrition-score-fr_100g                    37.75 %\n",
       "nutrition_grade_fr                         37.75 %\n",
       "packaging_tags                             40.15 %\n",
       "packaging                                  40.15 %\n",
       "ingredients_that_may_be_from_palm_oil_n    45.76 %\n",
       "additives_n                                45.76 %\n",
       "ingredients_text                           45.76 %\n",
       "ingredients_from_palm_oil_n                45.76 %\n",
       "additives                                  45.78 %\n",
       "image_url                                  46.64 %\n",
       "image_small_url                            46.64 %\n",
       "fat_100g                                   51.68 %\n",
       "carbohydrates_100g                         52.11 %\n",
       "fiber_100g                                 53.68 %\n",
       "dtype: object"
      ]
     },
     "execution_count": 122,
     "metadata": {},
     "output_type": "execute_result"
    }
   ],
   "source": [
    "# check percentage of null values in foodWithout_38\n",
    "(foodWithout_54.isna().mean().sort_values()*100).round(2).astype(str)+\" %\""
   ]
  },
  {
   "cell_type": "markdown",
   "id": "873c19cc",
   "metadata": {},
   "source": [
    "N'ayant pas à notre disposition la teneur en fruits et légumes, nous pouvons nous baser sur le Nutri-Score, qui prend en compte celle-ci dans son calcul.\n",
    "\n",
    "A partir du Nutri-Score, il sera possible dans le cadre du développement de l'application, de créer un MyHealthScore en adaptant les pondérations des autres valeurs nutritionnelles.\n",
    "\n",
    "On peut donc sélectionner les variables suivantes pour notre analyse :\n",
    "- `code`, `product_name` et `brands` pour identitifer les produits\n",
    "- `nutrition-score-fr_100g` qui correspond au socre nutritionnel\n",
    "- `nutrition_grade_fr` qui correspond au Nutri-Score, l'échelle graphique scindant le score nutritionnel en 5 classes A, B, C, D et E\n",
    "- `energy_100g`\n",
    "- `proteins_100g`\n",
    "- `fiber_100g`\n",
    "- `sodium_100g` et `salt_100g`, qui sont liées et dont l'analyse commune pourrait servir dans le traitement\n",
    "- `sugars_100g` et `carbohydrates_100g`\n",
    "- `saturated-fat_100g` et `fat_100g`\n",
    "- `pnns_groups_2` et `pnns_groups_1` qui permettent de classifier les produits dans des catégories plus ou moins précises"
   ]
  },
  {
   "cell_type": "code",
   "execution_count": 125,
   "id": "d8e95844",
   "metadata": {},
   "outputs": [],
   "source": [
    "# selected work features\n",
    "workFeatures=[\"code\",\n",
    "               \"product_name\",\n",
    "               \"brands\",\n",
    "               \"pnns_groups_1\",\n",
    "               \"pnns_groups_2\",\n",
    "               \"nutrition-score-fr_100g\",\n",
    "               \"nutrition_grade_fr\",\n",
    "               \"salt_100g\",\n",
    "               \"carbohydrates_100g\",\n",
    "               \"fat_100g\"]+theoricalFeaturesNames"
   ]
  },
  {
   "cell_type": "code",
   "execution_count": 126,
   "id": "e842d36c",
   "metadata": {},
   "outputs": [
    {
     "data": {
      "text/html": [
       "<div>\n",
       "<style scoped>\n",
       "    .dataframe tbody tr th:only-of-type {\n",
       "        vertical-align: middle;\n",
       "    }\n",
       "\n",
       "    .dataframe tbody tr th {\n",
       "        vertical-align: top;\n",
       "    }\n",
       "\n",
       "    .dataframe thead th {\n",
       "        text-align: right;\n",
       "    }\n",
       "</style>\n",
       "<table border=\"1\" class=\"dataframe\">\n",
       "  <thead>\n",
       "    <tr style=\"text-align: right;\">\n",
       "      <th></th>\n",
       "      <th>code</th>\n",
       "      <th>product_name</th>\n",
       "      <th>brands</th>\n",
       "      <th>pnns_groups_1</th>\n",
       "      <th>pnns_groups_2</th>\n",
       "      <th>nutrition-score-fr_100g</th>\n",
       "      <th>nutrition_grade_fr</th>\n",
       "      <th>salt_100g</th>\n",
       "      <th>carbohydrates_100g</th>\n",
       "      <th>fat_100g</th>\n",
       "      <th>energy_100g</th>\n",
       "      <th>sugars_100g</th>\n",
       "      <th>saturated-fat_100g</th>\n",
       "      <th>sodium_100g</th>\n",
       "      <th>fruits-vegetables-nuts_100g</th>\n",
       "      <th>fiber_100g</th>\n",
       "      <th>proteins_100g</th>\n",
       "    </tr>\n",
       "  </thead>\n",
       "  <tbody>\n",
       "    <tr>\n",
       "      <th>0</th>\n",
       "      <td>0000000003087</td>\n",
       "      <td>Farine de blé noir</td>\n",
       "      <td>Ferme t'y R'nao</td>\n",
       "      <td>NaN</td>\n",
       "      <td>NaN</td>\n",
       "      <td>NaN</td>\n",
       "      <td>NaN</td>\n",
       "      <td>NaN</td>\n",
       "      <td>NaN</td>\n",
       "      <td>NaN</td>\n",
       "      <td>NaN</td>\n",
       "      <td>NaN</td>\n",
       "      <td>NaN</td>\n",
       "      <td>NaN</td>\n",
       "      <td>NaN</td>\n",
       "      <td>NaN</td>\n",
       "      <td>NaN</td>\n",
       "    </tr>\n",
       "    <tr>\n",
       "      <th>46</th>\n",
       "      <td>0000000024600</td>\n",
       "      <td>Filet de bœuf</td>\n",
       "      <td>NaN</td>\n",
       "      <td>unknown</td>\n",
       "      <td>unknown</td>\n",
       "      <td>NaN</td>\n",
       "      <td>NaN</td>\n",
       "      <td>NaN</td>\n",
       "      <td>NaN</td>\n",
       "      <td>NaN</td>\n",
       "      <td>NaN</td>\n",
       "      <td>NaN</td>\n",
       "      <td>NaN</td>\n",
       "      <td>NaN</td>\n",
       "      <td>NaN</td>\n",
       "      <td>NaN</td>\n",
       "      <td>NaN</td>\n",
       "    </tr>\n",
       "    <tr>\n",
       "      <th>48</th>\n",
       "      <td>0000000027205</td>\n",
       "      <td>NaN</td>\n",
       "      <td>NaN</td>\n",
       "      <td>NaN</td>\n",
       "      <td>NaN</td>\n",
       "      <td>NaN</td>\n",
       "      <td>NaN</td>\n",
       "      <td>NaN</td>\n",
       "      <td>NaN</td>\n",
       "      <td>NaN</td>\n",
       "      <td>NaN</td>\n",
       "      <td>NaN</td>\n",
       "      <td>NaN</td>\n",
       "      <td>NaN</td>\n",
       "      <td>NaN</td>\n",
       "      <td>NaN</td>\n",
       "      <td>NaN</td>\n",
       "    </tr>\n",
       "    <tr>\n",
       "      <th>106</th>\n",
       "      <td>0000000036252</td>\n",
       "      <td>Lion Peanut x2</td>\n",
       "      <td>Sunridge</td>\n",
       "      <td>unknown</td>\n",
       "      <td>unknown</td>\n",
       "      <td>22.0</td>\n",
       "      <td>e</td>\n",
       "      <td>0.09652</td>\n",
       "      <td>70.0</td>\n",
       "      <td>20.0</td>\n",
       "      <td>1883.0</td>\n",
       "      <td>57.5</td>\n",
       "      <td>12.5</td>\n",
       "      <td>0.038</td>\n",
       "      <td>NaN</td>\n",
       "      <td>2.5</td>\n",
       "      <td>2.5</td>\n",
       "    </tr>\n",
       "    <tr>\n",
       "      <th>136</th>\n",
       "      <td>0000000039259</td>\n",
       "      <td>Twix x2</td>\n",
       "      <td>NaN</td>\n",
       "      <td>unknown</td>\n",
       "      <td>unknown</td>\n",
       "      <td>NaN</td>\n",
       "      <td>NaN</td>\n",
       "      <td>NaN</td>\n",
       "      <td>NaN</td>\n",
       "      <td>NaN</td>\n",
       "      <td>NaN</td>\n",
       "      <td>NaN</td>\n",
       "      <td>NaN</td>\n",
       "      <td>NaN</td>\n",
       "      <td>NaN</td>\n",
       "      <td>NaN</td>\n",
       "      <td>NaN</td>\n",
       "    </tr>\n",
       "    <tr>\n",
       "      <th>...</th>\n",
       "      <td>...</td>\n",
       "      <td>...</td>\n",
       "      <td>...</td>\n",
       "      <td>...</td>\n",
       "      <td>...</td>\n",
       "      <td>...</td>\n",
       "      <td>...</td>\n",
       "      <td>...</td>\n",
       "      <td>...</td>\n",
       "      <td>...</td>\n",
       "      <td>...</td>\n",
       "      <td>...</td>\n",
       "      <td>...</td>\n",
       "      <td>...</td>\n",
       "      <td>...</td>\n",
       "      <td>...</td>\n",
       "      <td>...</td>\n",
       "    </tr>\n",
       "    <tr>\n",
       "      <th>320761</th>\n",
       "      <td>9906410000009</td>\n",
       "      <td>Roussette du Bugey (2011)</td>\n",
       "      <td>Roussette du Bugey</td>\n",
       "      <td>NaN</td>\n",
       "      <td>Alcoholic beverages</td>\n",
       "      <td>NaN</td>\n",
       "      <td>NaN</td>\n",
       "      <td>NaN</td>\n",
       "      <td>NaN</td>\n",
       "      <td>NaN</td>\n",
       "      <td>NaN</td>\n",
       "      <td>NaN</td>\n",
       "      <td>NaN</td>\n",
       "      <td>NaN</td>\n",
       "      <td>NaN</td>\n",
       "      <td>NaN</td>\n",
       "      <td>NaN</td>\n",
       "    </tr>\n",
       "    <tr>\n",
       "      <th>320763</th>\n",
       "      <td>99111250</td>\n",
       "      <td>Thé vert Earl grey</td>\n",
       "      <td>Lobodis</td>\n",
       "      <td>Beverages</td>\n",
       "      <td>Non-sugared beverages</td>\n",
       "      <td>2.0</td>\n",
       "      <td>c</td>\n",
       "      <td>0.02540</td>\n",
       "      <td>0.5</td>\n",
       "      <td>0.2</td>\n",
       "      <td>21.0</td>\n",
       "      <td>0.5</td>\n",
       "      <td>0.2</td>\n",
       "      <td>0.010</td>\n",
       "      <td>NaN</td>\n",
       "      <td>0.2</td>\n",
       "      <td>0.5</td>\n",
       "    </tr>\n",
       "    <tr>\n",
       "      <th>320764</th>\n",
       "      <td>9918</td>\n",
       "      <td>Cheese cake thé vert, yuzu</td>\n",
       "      <td>NaN</td>\n",
       "      <td>NaN</td>\n",
       "      <td>NaN</td>\n",
       "      <td>NaN</td>\n",
       "      <td>NaN</td>\n",
       "      <td>NaN</td>\n",
       "      <td>NaN</td>\n",
       "      <td>NaN</td>\n",
       "      <td>NaN</td>\n",
       "      <td>NaN</td>\n",
       "      <td>NaN</td>\n",
       "      <td>NaN</td>\n",
       "      <td>NaN</td>\n",
       "      <td>NaN</td>\n",
       "      <td>NaN</td>\n",
       "    </tr>\n",
       "    <tr>\n",
       "      <th>320765</th>\n",
       "      <td>9935010000003</td>\n",
       "      <td>Rillette d'oie</td>\n",
       "      <td>Sans marque,D.Lambert</td>\n",
       "      <td>Fish Meat Eggs</td>\n",
       "      <td>Processed meat</td>\n",
       "      <td>NaN</td>\n",
       "      <td>NaN</td>\n",
       "      <td>NaN</td>\n",
       "      <td>NaN</td>\n",
       "      <td>NaN</td>\n",
       "      <td>NaN</td>\n",
       "      <td>NaN</td>\n",
       "      <td>NaN</td>\n",
       "      <td>NaN</td>\n",
       "      <td>NaN</td>\n",
       "      <td>NaN</td>\n",
       "      <td>NaN</td>\n",
       "    </tr>\n",
       "    <tr>\n",
       "      <th>320770</th>\n",
       "      <td>9980282863788</td>\n",
       "      <td>Tomates aux Vermicelles</td>\n",
       "      <td>Knorr</td>\n",
       "      <td>NaN</td>\n",
       "      <td>NaN</td>\n",
       "      <td>NaN</td>\n",
       "      <td>NaN</td>\n",
       "      <td>NaN</td>\n",
       "      <td>NaN</td>\n",
       "      <td>NaN</td>\n",
       "      <td>NaN</td>\n",
       "      <td>NaN</td>\n",
       "      <td>NaN</td>\n",
       "      <td>NaN</td>\n",
       "      <td>NaN</td>\n",
       "      <td>NaN</td>\n",
       "      <td>NaN</td>\n",
       "    </tr>\n",
       "  </tbody>\n",
       "</table>\n",
       "<p>98800 rows × 17 columns</p>\n",
       "</div>"
      ],
      "text/plain": [
       "                 code                product_name                 brands  \\\n",
       "0       0000000003087          Farine de blé noir        Ferme t'y R'nao   \n",
       "46      0000000024600               Filet de bœuf                    NaN   \n",
       "48      0000000027205                         NaN                    NaN   \n",
       "106     0000000036252              Lion Peanut x2               Sunridge   \n",
       "136     0000000039259                     Twix x2                    NaN   \n",
       "...               ...                         ...                    ...   \n",
       "320761  9906410000009   Roussette du Bugey (2011)     Roussette du Bugey   \n",
       "320763       99111250          Thé vert Earl grey                Lobodis   \n",
       "320764           9918  Cheese cake thé vert, yuzu                    NaN   \n",
       "320765  9935010000003              Rillette d'oie  Sans marque,D.Lambert   \n",
       "320770  9980282863788    Tomates aux Vermicelles                   Knorr   \n",
       "\n",
       "         pnns_groups_1          pnns_groups_2  nutrition-score-fr_100g  \\\n",
       "0                  NaN                    NaN                      NaN   \n",
       "46             unknown                unknown                      NaN   \n",
       "48                 NaN                    NaN                      NaN   \n",
       "106            unknown                unknown                     22.0   \n",
       "136            unknown                unknown                      NaN   \n",
       "...                ...                    ...                      ...   \n",
       "320761             NaN    Alcoholic beverages                      NaN   \n",
       "320763       Beverages  Non-sugared beverages                      2.0   \n",
       "320764             NaN                    NaN                      NaN   \n",
       "320765  Fish Meat Eggs         Processed meat                      NaN   \n",
       "320770             NaN                    NaN                      NaN   \n",
       "\n",
       "       nutrition_grade_fr  salt_100g  carbohydrates_100g  fat_100g  \\\n",
       "0                     NaN        NaN                 NaN       NaN   \n",
       "46                    NaN        NaN                 NaN       NaN   \n",
       "48                    NaN        NaN                 NaN       NaN   \n",
       "106                     e    0.09652                70.0      20.0   \n",
       "136                   NaN        NaN                 NaN       NaN   \n",
       "...                   ...        ...                 ...       ...   \n",
       "320761                NaN        NaN                 NaN       NaN   \n",
       "320763                  c    0.02540                 0.5       0.2   \n",
       "320764                NaN        NaN                 NaN       NaN   \n",
       "320765                NaN        NaN                 NaN       NaN   \n",
       "320770                NaN        NaN                 NaN       NaN   \n",
       "\n",
       "        energy_100g  sugars_100g  saturated-fat_100g  sodium_100g  \\\n",
       "0               NaN          NaN                 NaN          NaN   \n",
       "46              NaN          NaN                 NaN          NaN   \n",
       "48              NaN          NaN                 NaN          NaN   \n",
       "106          1883.0         57.5                12.5        0.038   \n",
       "136             NaN          NaN                 NaN          NaN   \n",
       "...             ...          ...                 ...          ...   \n",
       "320761          NaN          NaN                 NaN          NaN   \n",
       "320763         21.0          0.5                 0.2        0.010   \n",
       "320764          NaN          NaN                 NaN          NaN   \n",
       "320765          NaN          NaN                 NaN          NaN   \n",
       "320770          NaN          NaN                 NaN          NaN   \n",
       "\n",
       "        fruits-vegetables-nuts_100g  fiber_100g  proteins_100g  \n",
       "0                               NaN         NaN            NaN  \n",
       "46                              NaN         NaN            NaN  \n",
       "48                              NaN         NaN            NaN  \n",
       "106                             NaN         2.5            2.5  \n",
       "136                             NaN         NaN            NaN  \n",
       "...                             ...         ...            ...  \n",
       "320761                          NaN         NaN            NaN  \n",
       "320763                          NaN         0.2            0.5  \n",
       "320764                          NaN         NaN            NaN  \n",
       "320765                          NaN         NaN            NaN  \n",
       "320770                          NaN         NaN            NaN  \n",
       "\n",
       "[98800 rows x 17 columns]"
      ]
     },
     "execution_count": 126,
     "metadata": {},
     "output_type": "execute_result"
    }
   ],
   "source": [
    "foodRawLight = foodRawFr.copy()\n",
    "foodRawLight = foodRawLight[workFeatures]\n",
    "foodRawLight"
   ]
  },
  {
   "cell_type": "markdown",
   "id": "42590b0c",
   "metadata": {},
   "source": [
    "# Partie 2 - Nettoyage"
   ]
  },
  {
   "cell_type": "markdown",
   "id": "52c4a675",
   "metadata": {},
   "source": [
    "## P2.2. Éliminer les doublons\n",
    "\n",
    "Pour repérer les produit présents deux fois, nous pouvons dans un premier temps regarder la colonne \"code\".\n",
    "\n",
    "### P2.2.1. Des produits en double ? \"code\""
   ]
  },
  {
   "cell_type": "code",
   "execution_count": 127,
   "id": "376010f6",
   "metadata": {},
   "outputs": [
    {
     "data": {
      "text/plain": [
       "283664    6260444910707\n",
       "203074    3240931541020\n",
       "245618    3596710334049\n",
       "254986    3760238740549\n",
       "195538    3155250312322\n",
       "Name: code, dtype: object"
      ]
     },
     "execution_count": 127,
     "metadata": {},
     "output_type": "execute_result"
    }
   ],
   "source": [
    "foodRawLight.code.sample(5)"
   ]
  },
  {
   "cell_type": "markdown",
   "id": "e68ffaca",
   "metadata": {},
   "source": [
    "le format du code à l'air d'être une suite de 13 chiffres.\n",
    "Cependant le type \"object\" de la Series interroge."
   ]
  },
  {
   "cell_type": "code",
   "execution_count": 128,
   "id": "3ae3d7c8",
   "metadata": {},
   "outputs": [
    {
     "data": {
      "text/plain": [
       "1         2\n",
       "2         1\n",
       "3         2\n",
       "4         6\n",
       "5        10\n",
       "6        32\n",
       "7        38\n",
       "8      6186\n",
       "9         6\n",
       "10       33\n",
       "11       30\n",
       "12       36\n",
       "13    92329\n",
       "14       51\n",
       "15       23\n",
       "16        3\n",
       "17        1\n",
       "22        1\n",
       "24        4\n",
       "25        1\n",
       "31        1\n",
       "32        2\n",
       "40        1\n",
       "41        1\n",
       "Name: code, dtype: int64"
      ]
     },
     "execution_count": 128,
     "metadata": {},
     "output_type": "execute_result"
    }
   ],
   "source": [
    "# looking to the lenght of \"code\" values for formatting issues\n",
    "foodRawLight.code.str.len().value_counts(dropna=False).sort_index()"
   ]
  },
  {
   "cell_type": "markdown",
   "id": "01d3b8c6",
   "metadata": {},
   "source": [
    "Après quelques recherches, les deux formats les plus représentés correspondent aux systèmes EAN 8 et EAN 13 (EAN pour *European Article Numbering*). Ces deux systèmes sont les plus utilisés en Europe.\n",
    "\n",
    "Nous faisons le choix de nous séparer des 285 produits aux codes barres non formatés EAN 8 ou 13 : l'usage final du MyHealthScore se fera via le scan de code barre."
   ]
  },
  {
   "cell_type": "code",
   "execution_count": 129,
   "id": "3cc1d6b0",
   "metadata": {},
   "outputs": [],
   "source": [
    "foodClean01=foodRawLight.copy()\n",
    "# keep only the values of \"code\" whose length is 8 or 13\n",
    "foodClean01=foodClean01.loc[(foodClean01.code.str.len()==8)|(foodClean01.code.str.len()==13)]"
   ]
  },
  {
   "cell_type": "markdown",
   "id": "4b1710b7",
   "metadata": {},
   "source": [
    "Nous pouvons maintenant regarder s'il y a des produits en double :"
   ]
  },
  {
   "cell_type": "code",
   "execution_count": 130,
   "id": "6cfda0d3",
   "metadata": {},
   "outputs": [
    {
     "data": {
      "text/html": [
       "<div>\n",
       "<style scoped>\n",
       "    .dataframe tbody tr th:only-of-type {\n",
       "        vertical-align: middle;\n",
       "    }\n",
       "\n",
       "    .dataframe tbody tr th {\n",
       "        vertical-align: top;\n",
       "    }\n",
       "\n",
       "    .dataframe thead th {\n",
       "        text-align: right;\n",
       "    }\n",
       "</style>\n",
       "<table border=\"1\" class=\"dataframe\">\n",
       "  <thead>\n",
       "    <tr style=\"text-align: right;\">\n",
       "      <th></th>\n",
       "      <th>code</th>\n",
       "      <th>product_name</th>\n",
       "      <th>brands</th>\n",
       "      <th>pnns_groups_1</th>\n",
       "      <th>pnns_groups_2</th>\n",
       "      <th>nutrition-score-fr_100g</th>\n",
       "      <th>nutrition_grade_fr</th>\n",
       "      <th>salt_100g</th>\n",
       "      <th>carbohydrates_100g</th>\n",
       "      <th>fat_100g</th>\n",
       "      <th>energy_100g</th>\n",
       "      <th>sugars_100g</th>\n",
       "      <th>saturated-fat_100g</th>\n",
       "      <th>sodium_100g</th>\n",
       "      <th>fruits-vegetables-nuts_100g</th>\n",
       "      <th>fiber_100g</th>\n",
       "      <th>proteins_100g</th>\n",
       "    </tr>\n",
       "  </thead>\n",
       "  <tbody>\n",
       "  </tbody>\n",
       "</table>\n",
       "</div>"
      ],
      "text/plain": [
       "Empty DataFrame\n",
       "Columns: [code, product_name, brands, pnns_groups_1, pnns_groups_2, nutrition-score-fr_100g, nutrition_grade_fr, salt_100g, carbohydrates_100g, fat_100g, energy_100g, sugars_100g, saturated-fat_100g, sodium_100g, fruits-vegetables-nuts_100g, fiber_100g, proteins_100g]\n",
       "Index: []"
      ]
     },
     "execution_count": 130,
     "metadata": {},
     "output_type": "execute_result"
    }
   ],
   "source": [
    "#look for duplicates in column \"code\"\n",
    "foodClean01.loc[foodClean01.code.duplicated(keep=False)]"
   ]
  },
  {
   "cell_type": "markdown",
   "id": "cc6b26be",
   "metadata": {},
   "source": [
    "Il ne semble pas y avoir de produits différents utilisant le même code-barre.\n",
    "\n",
    "Une autre manière de repérer les doublons et de regarder la colonne \"product_name\"."
   ]
  },
  {
   "cell_type": "markdown",
   "id": "6787e055",
   "metadata": {},
   "source": [
    "### P2.2.2. Des produits en double ? \"product_name\" \n",
    "\n",
    "Nous n'avons que des produits aux codes barres différents. Mais le même produit a pu être étiqueté avec 2 codes barres différents. Regardons."
   ]
  },
  {
   "cell_type": "code",
   "execution_count": 133,
   "id": "d8b42dca",
   "metadata": {},
   "outputs": [
    {
     "data": {
      "text/plain": [
       "Huile d'olive vierge extra        62\n",
       "Mayonnaise                        54\n",
       "Moutarde de Dijon                 49\n",
       "Orange                            46\n",
       "Spaghetti                         46\n",
       "                                  ..\n",
       "3 Œufs avec surprise               1\n",
       "20 saucisses de Strasbourg         1\n",
       "Gelée extra Mûre                   1\n",
       "noir Eclats de fèves 72% cacao     1\n",
       "Tomates aux Vermicelles            1\n",
       "Name: product_name, Length: 74413, dtype: int64"
      ]
     },
     "execution_count": 133,
     "metadata": {},
     "output_type": "execute_result"
    }
   ],
   "source": [
    "foodClean01.product_name.value_counts()"
   ]
  },
  {
   "cell_type": "markdown",
   "id": "d56e0fc8",
   "metadata": {},
   "source": [
    "Nous ne sommes pas assez précis. Nous ne pouvons pas considérer seulement \"product_name\" pour rechercher les doublons. Regardons également \"brands\"."
   ]
  },
  {
   "cell_type": "markdown",
   "id": "81f2cf22",
   "metadata": {},
   "source": [
    "### P2.2.3. Des produits en double ? \"product_name\" ET \"brands\"\n",
    "\n",
    "Regardons si des noms de produits sont présents plusieurs fois sous la même marque :"
   ]
  },
  {
   "cell_type": "code",
   "execution_count": 134,
   "id": "2f13348d",
   "metadata": {
    "scrolled": true
   },
   "outputs": [
    {
     "data": {
      "text/html": [
       "<div>\n",
       "<style scoped>\n",
       "    .dataframe tbody tr th:only-of-type {\n",
       "        vertical-align: middle;\n",
       "    }\n",
       "\n",
       "    .dataframe tbody tr th {\n",
       "        vertical-align: top;\n",
       "    }\n",
       "\n",
       "    .dataframe thead th {\n",
       "        text-align: right;\n",
       "    }\n",
       "</style>\n",
       "<table border=\"1\" class=\"dataframe\">\n",
       "  <thead>\n",
       "    <tr style=\"text-align: right;\">\n",
       "      <th></th>\n",
       "      <th></th>\n",
       "      <th>code</th>\n",
       "    </tr>\n",
       "    <tr>\n",
       "      <th>product_name</th>\n",
       "      <th>brands</th>\n",
       "      <th></th>\n",
       "    </tr>\n",
       "  </thead>\n",
       "  <tbody>\n",
       "    <tr>\n",
       "      <th>Coca-Cola</th>\n",
       "      <th>Coca-Cola</th>\n",
       "      <td>20</td>\n",
       "    </tr>\n",
       "    <tr>\n",
       "      <th>Pom'potes</th>\n",
       "      <th>Materne</th>\n",
       "      <td>15</td>\n",
       "    </tr>\n",
       "    <tr>\n",
       "      <th>Nutella</th>\n",
       "      <th>Ferrero,Nutella</th>\n",
       "      <td>14</td>\n",
       "    </tr>\n",
       "    <tr>\n",
       "      <th>Orangina</th>\n",
       "      <th>Orangina</th>\n",
       "      <td>14</td>\n",
       "    </tr>\n",
       "    <tr>\n",
       "      <th>Nesquik</th>\n",
       "      <th>Nestlé,Nesquik</th>\n",
       "      <td>11</td>\n",
       "    </tr>\n",
       "    <tr>\n",
       "      <th>Perrier</th>\n",
       "      <th>Perrier</th>\n",
       "      <td>11</td>\n",
       "    </tr>\n",
       "    <tr>\n",
       "      <th>Auchan</th>\n",
       "      <th>Auchan</th>\n",
       "      <td>10</td>\n",
       "    </tr>\n",
       "    <tr>\n",
       "      <th>Nutella</th>\n",
       "      <th>Ferrero</th>\n",
       "      <td>10</td>\n",
       "    </tr>\n",
       "    <tr>\n",
       "      <th>Mousline</th>\n",
       "      <th>Maggi</th>\n",
       "      <td>9</td>\n",
       "    </tr>\n",
       "    <tr>\n",
       "      <th>Mayonnaise à la moutarde de Dijon</th>\n",
       "      <th>Carrefour</th>\n",
       "      <td>9</td>\n",
       "    </tr>\n",
       "  </tbody>\n",
       "</table>\n",
       "</div>"
      ],
      "text/plain": [
       "                                                   code\n",
       "product_name                      brands               \n",
       "Coca-Cola                         Coca-Cola          20\n",
       "Pom'potes                         Materne            15\n",
       "Nutella                           Ferrero,Nutella    14\n",
       "Orangina                          Orangina           14\n",
       "Nesquik                           Nestlé,Nesquik     11\n",
       "Perrier                           Perrier            11\n",
       "Auchan                            Auchan             10\n",
       "Nutella                           Ferrero            10\n",
       "Mousline                          Maggi               9\n",
       "Mayonnaise à la moutarde de Dijon Carrefour           9"
      ]
     },
     "execution_count": 134,
     "metadata": {},
     "output_type": "execute_result"
    }
   ],
   "source": [
    "foodClean01[[\"product_name\",\"brands\",'code']].loc[foodClean01[[\"product_name\",\"brands\",'code']].notna().any(axis=1)].groupby(['product_name',\"brands\"]).count().sort_values(\"code\",ascending=False).head(10)"
   ]
  },
  {
   "cell_type": "markdown",
   "id": "eacfaeb0",
   "metadata": {},
   "source": [
    "Il y a donc des doublons. Ceux-ci peuvent être expliqués par :\n",
    "- un même produit rentré plusieurs fois sous des codes différents\n",
    "- un même produit avec des quantités différentes (un pack de 6 bouteilles versus une bouteille seule)\n",
    "\n",
    "Le scoring n'a pas vocation à prendre en compte la quantité. Ce sont les qualités intrinsèques du produit, pour 100g en l'occurrence, qui nous intéressent.\n",
    "\n",
    "Nous allons donc supprimer ces doublons."
   ]
  },
  {
   "cell_type": "code",
   "execution_count": 135,
   "id": "294fee75",
   "metadata": {},
   "outputs": [],
   "source": [
    "foodClean02=foodClean01.copy()\n",
    "foodClean02=foodClean02.loc[\n",
    "    (foodClean02[[\"product_name\",\"brands\"]].isna().any(axis=1)) | # be carefull to keep the rows where \"product_name\" or \"brands\" is NaN\n",
    "    ~(foodClean02[[\"product_name\",\"brands\"]].duplicated(subset=[\"product_name\",\"brands\"],keep='last')) # drop duplicates\n",
    "]"
   ]
  },
  {
   "cell_type": "code",
   "execution_count": 136,
   "id": "c3f1c74f",
   "metadata": {},
   "outputs": [
    {
     "name": "stdout",
     "output_type": "stream",
     "text": [
      "On a retiré  3105  produits\n"
     ]
    }
   ],
   "source": [
    "print(\"On a retiré \",foodClean01.shape[0]-foodClean02.shape[0],\" produits\")"
   ]
  },
  {
   "cell_type": "markdown",
   "id": "202bcfd2",
   "metadata": {},
   "source": [
    "### P2.2.3. BIS (A SUPPRIMER) Check avec \"quantity\"\n",
    "\n",
    "\"quantity\" n'était pas très remplie, mais réintégrons là provisoirement pour voir ce qu'il en est.\n"
   ]
  },
  {
   "cell_type": "code",
   "execution_count": 137,
   "id": "a6747871",
   "metadata": {},
   "outputs": [],
   "source": [
    "checkQtDf=foodClean01.copy()"
   ]
  },
  {
   "cell_type": "code",
   "execution_count": 138,
   "id": "c124b565",
   "metadata": {},
   "outputs": [],
   "source": [
    "checkQtDf[\"quantity\"]=foodRawFr.quantity.loc[checkQtDf.index]"
   ]
  },
  {
   "cell_type": "code",
   "execution_count": 139,
   "id": "8e1b44f8",
   "metadata": {
    "scrolled": true
   },
   "outputs": [
    {
     "data": {
      "text/html": [
       "<div>\n",
       "<style scoped>\n",
       "    .dataframe tbody tr th:only-of-type {\n",
       "        vertical-align: middle;\n",
       "    }\n",
       "\n",
       "    .dataframe tbody tr th {\n",
       "        vertical-align: top;\n",
       "    }\n",
       "\n",
       "    .dataframe thead th {\n",
       "        text-align: right;\n",
       "    }\n",
       "</style>\n",
       "<table border=\"1\" class=\"dataframe\">\n",
       "  <thead>\n",
       "    <tr style=\"text-align: right;\">\n",
       "      <th></th>\n",
       "      <th></th>\n",
       "      <th></th>\n",
       "      <th>code</th>\n",
       "    </tr>\n",
       "    <tr>\n",
       "      <th>product_name</th>\n",
       "      <th>brands</th>\n",
       "      <th>quantity</th>\n",
       "      <th></th>\n",
       "    </tr>\n",
       "  </thead>\n",
       "  <tbody>\n",
       "    <tr>\n",
       "      <th>Pâte à Sucre</th>\n",
       "      <th>Sainte Lucie</th>\n",
       "      <th>100 g</th>\n",
       "      <td>6</td>\n",
       "    </tr>\n",
       "    <tr>\n",
       "      <th>Framboises</th>\n",
       "      <th>Driscoll's</th>\n",
       "      <th>125 g</th>\n",
       "      <td>5</td>\n",
       "    </tr>\n",
       "    <tr>\n",
       "      <th>Riz long grain</th>\n",
       "      <th>Carrefour</th>\n",
       "      <th>1 kg</th>\n",
       "      <td>3</td>\n",
       "    </tr>\n",
       "    <tr>\n",
       "      <th>Thaï</th>\n",
       "      <th>Casino</th>\n",
       "      <th>500 g</th>\n",
       "      <td>3</td>\n",
       "    </tr>\n",
       "    <tr>\n",
       "      <th>Penne Rigate</th>\n",
       "      <th>Panzani</th>\n",
       "      <th>500 g</th>\n",
       "      <td>3</td>\n",
       "    </tr>\n",
       "    <tr>\n",
       "      <th>Barre énergie</th>\n",
       "      <th>FENIOUX</th>\n",
       "      <th>35g</th>\n",
       "      <td>3</td>\n",
       "    </tr>\n",
       "    <tr>\n",
       "      <th rowspan=\"2\" valign=\"top\">Coca-Cola</th>\n",
       "      <th rowspan=\"2\" valign=\"top\">Coca-Cola</th>\n",
       "      <th>4 * 250 ml</th>\n",
       "      <td>3</td>\n",
       "    </tr>\n",
       "    <tr>\n",
       "      <th>50 cl</th>\n",
       "      <td>3</td>\n",
       "    </tr>\n",
       "    <tr>\n",
       "      <th>Macaroni</th>\n",
       "      <th>Panzani</th>\n",
       "      <th>500 g</th>\n",
       "      <td>3</td>\n",
       "    </tr>\n",
       "    <tr>\n",
       "      <th>Fusilli</th>\n",
       "      <th>La Bio Idea</th>\n",
       "      <th>500 g</th>\n",
       "      <td>3</td>\n",
       "    </tr>\n",
       "    <tr>\n",
       "      <th>La Croix des Grèves Mt. St-Michel</th>\n",
       "      <th>Brasserie de la Baie</th>\n",
       "      <th>33 cl</th>\n",
       "      <td>3</td>\n",
       "    </tr>\n",
       "    <tr>\n",
       "      <th>Camembert d'Isigny (22% MG)</th>\n",
       "      <th>Isigny Ste Mère</th>\n",
       "      <th>250 g</th>\n",
       "      <td>3</td>\n",
       "    </tr>\n",
       "    <tr>\n",
       "      <th>Mayonnaise de Dijon</th>\n",
       "      <th>Amora</th>\n",
       "      <th>470 g</th>\n",
       "      <td>3</td>\n",
       "    </tr>\n",
       "    <tr>\n",
       "      <th>Le beurre tendre</th>\n",
       "      <th>Elle &amp; Vire</th>\n",
       "      <th>250 g</th>\n",
       "      <td>3</td>\n",
       "    </tr>\n",
       "    <tr>\n",
       "      <th>Pom'potes</th>\n",
       "      <th>Materne</th>\n",
       "      <th>90g</th>\n",
       "      <td>3</td>\n",
       "    </tr>\n",
       "    <tr>\n",
       "      <th>100% Mie Nature</th>\n",
       "      <th>Harrys</th>\n",
       "      <th>500 g</th>\n",
       "      <td>3</td>\n",
       "    </tr>\n",
       "    <tr>\n",
       "      <th>Haricots verts extra fins</th>\n",
       "      <th>Auchan</th>\n",
       "      <th>220 g</th>\n",
       "      <td>3</td>\n",
       "    </tr>\n",
       "    <tr>\n",
       "      <th>Confipote</th>\n",
       "      <th>Materne</th>\n",
       "      <th>350 g</th>\n",
       "      <td>3</td>\n",
       "    </tr>\n",
       "    <tr>\n",
       "      <th>Maxi Jac' Complet</th>\n",
       "      <th>Jacquet</th>\n",
       "      <th>550 g</th>\n",
       "      <td>3</td>\n",
       "    </tr>\n",
       "    <tr>\n",
       "      <th>Corn Flakes</th>\n",
       "      <th>Kellogg's</th>\n",
       "      <th>500 g</th>\n",
       "      <td>3</td>\n",
       "    </tr>\n",
       "  </tbody>\n",
       "</table>\n",
       "</div>"
      ],
      "text/plain": [
       "                                                                   code\n",
       "product_name                      brands               quantity        \n",
       "Pâte à Sucre                      Sainte Lucie         100 g          6\n",
       "Framboises                        Driscoll's           125 g          5\n",
       "Riz long grain                    Carrefour            1 kg           3\n",
       "Thaï                              Casino               500 g          3\n",
       "Penne Rigate                      Panzani              500 g          3\n",
       "Barre énergie                     FENIOUX              35g            3\n",
       "Coca-Cola                         Coca-Cola            4 * 250 ml     3\n",
       "                                                       50 cl          3\n",
       "Macaroni                          Panzani              500 g          3\n",
       "Fusilli                           La Bio Idea          500 g          3\n",
       "La Croix des Grèves Mt. St-Michel Brasserie de la Baie 33 cl          3\n",
       "Camembert d'Isigny (22% MG)       Isigny Ste Mère      250 g          3\n",
       "Mayonnaise de Dijon               Amora                470 g          3\n",
       "Le beurre tendre                  Elle & Vire          250 g          3\n",
       "Pom'potes                         Materne              90g            3\n",
       "100% Mie Nature                   Harrys               500 g          3\n",
       "Haricots verts extra fins         Auchan               220 g          3\n",
       "Confipote                         Materne              350 g          3\n",
       "Maxi Jac' Complet                 Jacquet              550 g          3\n",
       "Corn Flakes                       Kellogg's            500 g          3"
      ]
     },
     "execution_count": 139,
     "metadata": {},
     "output_type": "execute_result"
    }
   ],
   "source": [
    "checkQtDf[[\"product_name\",\"brands\",\"quantity\",\"code\"]].loc[checkQtDf[[\"product_name\",\"brands\",\"quantity\",\"code\"]].notna().any(axis=1)].groupby([\"product_name\",\"brands\",\"quantity\"]).count().sort_values(\"code\",ascending=False).head(20)"
   ]
  },
  {
   "cell_type": "markdown",
   "id": "880a1ee4",
   "metadata": {},
   "source": [
    "La quantité rentre donc bien en jeu. Les \"vrais\" doublons sont moins nombreux. Il existe des produits dans la base de données renseignés avec plusieurs quantités différentes."
   ]
  },
  {
   "cell_type": "code",
   "execution_count": 140,
   "id": "6c6fb3ed",
   "metadata": {},
   "outputs": [],
   "source": [
    "checkQtDf=checkQtDf.loc[\n",
    "    (checkQtDf[[\"product_name\",\"brands\",\"quantity\"]].isna().any(axis=1)) | # be carefull to keep the rows where \"product_name\" or \"brands\" is NaN\n",
    "    ~(checkQtDf[[\"product_name\",\"brands\",\"quantity\"]].duplicated(subset=[\"product_name\",\"brands\",\"quantity\"],keep='last')) # \n",
    "]"
   ]
  },
  {
   "cell_type": "code",
   "execution_count": 141,
   "id": "c8924a15",
   "metadata": {},
   "outputs": [
    {
     "name": "stdout",
     "output_type": "stream",
     "text": [
      "On aurait retiré  316  produits\n"
     ]
    }
   ],
   "source": [
    "print(\"On aurait retiré \",foodClean01.shape[0]-checkQtDf.shape[0],\" produits\")"
   ]
  },
  {
   "cell_type": "markdown",
   "id": "454bf2d5",
   "metadata": {},
   "source": [
    "## P2.3. Traiter les outliers\n",
    "\n",
    "Regardons dans un premiers temps les valeurs min et max des variables numériques :"
   ]
  },
  {
   "cell_type": "code",
   "execution_count": 142,
   "id": "12f8f3bd",
   "metadata": {},
   "outputs": [
    {
     "data": {
      "text/html": [
       "<div>\n",
       "<style scoped>\n",
       "    .dataframe tbody tr th:only-of-type {\n",
       "        vertical-align: middle;\n",
       "    }\n",
       "\n",
       "    .dataframe tbody tr th {\n",
       "        vertical-align: top;\n",
       "    }\n",
       "\n",
       "    .dataframe thead th {\n",
       "        text-align: right;\n",
       "    }\n",
       "</style>\n",
       "<table border=\"1\" class=\"dataframe\">\n",
       "  <thead>\n",
       "    <tr style=\"text-align: right;\">\n",
       "      <th></th>\n",
       "      <th>nutrition-score-fr_100g</th>\n",
       "      <th>salt_100g</th>\n",
       "      <th>carbohydrates_100g</th>\n",
       "      <th>fat_100g</th>\n",
       "      <th>energy_100g</th>\n",
       "      <th>sugars_100g</th>\n",
       "      <th>saturated-fat_100g</th>\n",
       "      <th>sodium_100g</th>\n",
       "      <th>fruits-vegetables-nuts_100g</th>\n",
       "      <th>fiber_100g</th>\n",
       "      <th>proteins_100g</th>\n",
       "    </tr>\n",
       "  </thead>\n",
       "  <tbody>\n",
       "    <tr>\n",
       "      <th>count</th>\n",
       "      <td>59076.000000</td>\n",
       "      <td>60197.000000</td>\n",
       "      <td>45154.000000</td>\n",
       "      <td>45585.000000</td>\n",
       "      <td>6.215600e+04</td>\n",
       "      <td>60145.000000</td>\n",
       "      <td>60007.000000</td>\n",
       "      <td>60194.000000</td>\n",
       "      <td>2875.000000</td>\n",
       "      <td>44059.000000</td>\n",
       "      <td>61881.000000</td>\n",
       "    </tr>\n",
       "    <tr>\n",
       "      <th>mean</th>\n",
       "      <td>8.676366</td>\n",
       "      <td>1.162005</td>\n",
       "      <td>27.839665</td>\n",
       "      <td>13.293629</td>\n",
       "      <td>1.174376e+03</td>\n",
       "      <td>13.396842</td>\n",
       "      <td>5.451226</td>\n",
       "      <td>0.457503</td>\n",
       "      <td>31.434042</td>\n",
       "      <td>2.576606</td>\n",
       "      <td>7.787648</td>\n",
       "    </tr>\n",
       "    <tr>\n",
       "      <th>std</th>\n",
       "      <td>9.038369</td>\n",
       "      <td>4.261100</td>\n",
       "      <td>27.348395</td>\n",
       "      <td>16.752498</td>\n",
       "      <td>1.308400e+04</td>\n",
       "      <td>19.010655</td>\n",
       "      <td>8.554641</td>\n",
       "      <td>1.677578</td>\n",
       "      <td>32.050319</td>\n",
       "      <td>4.682310</td>\n",
       "      <td>7.889584</td>\n",
       "    </tr>\n",
       "    <tr>\n",
       "      <th>min</th>\n",
       "      <td>-15.000000</td>\n",
       "      <td>0.000000</td>\n",
       "      <td>0.000000</td>\n",
       "      <td>0.000000</td>\n",
       "      <td>0.000000e+00</td>\n",
       "      <td>-0.100000</td>\n",
       "      <td>0.000000</td>\n",
       "      <td>0.000000</td>\n",
       "      <td>0.000000</td>\n",
       "      <td>0.000000</td>\n",
       "      <td>0.000000</td>\n",
       "    </tr>\n",
       "    <tr>\n",
       "      <th>25%</th>\n",
       "      <td>1.000000</td>\n",
       "      <td>0.080000</td>\n",
       "      <td>4.100000</td>\n",
       "      <td>1.400000</td>\n",
       "      <td>4.310000e+02</td>\n",
       "      <td>1.000000</td>\n",
       "      <td>0.300000</td>\n",
       "      <td>0.031496</td>\n",
       "      <td>0.000000</td>\n",
       "      <td>0.000000</td>\n",
       "      <td>1.900000</td>\n",
       "    </tr>\n",
       "    <tr>\n",
       "      <th>50%</th>\n",
       "      <td>9.000000</td>\n",
       "      <td>0.560000</td>\n",
       "      <td>14.900000</td>\n",
       "      <td>7.000000</td>\n",
       "      <td>1.037000e+03</td>\n",
       "      <td>4.000000</td>\n",
       "      <td>2.000000</td>\n",
       "      <td>0.220472</td>\n",
       "      <td>23.000000</td>\n",
       "      <td>1.400000</td>\n",
       "      <td>6.000000</td>\n",
       "    </tr>\n",
       "    <tr>\n",
       "      <th>75%</th>\n",
       "      <td>15.000000</td>\n",
       "      <td>1.250000</td>\n",
       "      <td>53.000000</td>\n",
       "      <td>21.000000</td>\n",
       "      <td>1.648000e+03</td>\n",
       "      <td>17.860000</td>\n",
       "      <td>7.500000</td>\n",
       "      <td>0.492126</td>\n",
       "      <td>51.000000</td>\n",
       "      <td>3.200000</td>\n",
       "      <td>11.000000</td>\n",
       "    </tr>\n",
       "    <tr>\n",
       "      <th>max</th>\n",
       "      <td>40.000000</td>\n",
       "      <td>211.000000</td>\n",
       "      <td>190.000000</td>\n",
       "      <td>380.000000</td>\n",
       "      <td>3.251373e+06</td>\n",
       "      <td>105.000000</td>\n",
       "      <td>210.000000</td>\n",
       "      <td>83.000000</td>\n",
       "      <td>100.000000</td>\n",
       "      <td>178.000000</td>\n",
       "      <td>100.000000</td>\n",
       "    </tr>\n",
       "  </tbody>\n",
       "</table>\n",
       "</div>"
      ],
      "text/plain": [
       "       nutrition-score-fr_100g     salt_100g  carbohydrates_100g  \\\n",
       "count             59076.000000  60197.000000        45154.000000   \n",
       "mean                  8.676366      1.162005           27.839665   \n",
       "std                   9.038369      4.261100           27.348395   \n",
       "min                 -15.000000      0.000000            0.000000   \n",
       "25%                   1.000000      0.080000            4.100000   \n",
       "50%                   9.000000      0.560000           14.900000   \n",
       "75%                  15.000000      1.250000           53.000000   \n",
       "max                  40.000000    211.000000          190.000000   \n",
       "\n",
       "           fat_100g   energy_100g   sugars_100g  saturated-fat_100g  \\\n",
       "count  45585.000000  6.215600e+04  60145.000000        60007.000000   \n",
       "mean      13.293629  1.174376e+03     13.396842            5.451226   \n",
       "std       16.752498  1.308400e+04     19.010655            8.554641   \n",
       "min        0.000000  0.000000e+00     -0.100000            0.000000   \n",
       "25%        1.400000  4.310000e+02      1.000000            0.300000   \n",
       "50%        7.000000  1.037000e+03      4.000000            2.000000   \n",
       "75%       21.000000  1.648000e+03     17.860000            7.500000   \n",
       "max      380.000000  3.251373e+06    105.000000          210.000000   \n",
       "\n",
       "        sodium_100g  fruits-vegetables-nuts_100g    fiber_100g  proteins_100g  \n",
       "count  60194.000000                  2875.000000  44059.000000   61881.000000  \n",
       "mean       0.457503                    31.434042      2.576606       7.787648  \n",
       "std        1.677578                    32.050319      4.682310       7.889584  \n",
       "min        0.000000                     0.000000      0.000000       0.000000  \n",
       "25%        0.031496                     0.000000      0.000000       1.900000  \n",
       "50%        0.220472                    23.000000      1.400000       6.000000  \n",
       "75%        0.492126                    51.000000      3.200000      11.000000  \n",
       "max       83.000000                   100.000000    178.000000     100.000000  "
      ]
     },
     "execution_count": 142,
     "metadata": {},
     "output_type": "execute_result"
    }
   ],
   "source": [
    "foodClean02.describe()"
   ]
  },
  {
   "cell_type": "markdown",
   "id": "5f7aa15f",
   "metadata": {},
   "source": [
    "# Partie 3 - Exploration"
   ]
  },
  {
   "cell_type": "markdown",
   "id": "32a00b89",
   "metadata": {},
   "source": [
    "# Tests "
   ]
  },
  {
   "cell_type": "code",
   "execution_count": 39,
   "id": "cdf4ba04",
   "metadata": {},
   "outputs": [],
   "source": [
    "testNutri=foodWithout_38[[\"nutrition_grade_fr\",\"nutrition-score-fr_100g\"]]\n",
    "testNutri=testNutri.loc[(testNutri[\"nutrition_grade_fr\"].notna())&(testNutri[\"nutrition-score-fr_100g\"].notna())]\n",
    "testNutri=testNutri.sort_values(\"nutrition_grade_fr\")"
   ]
  },
  {
   "cell_type": "code",
   "execution_count": 40,
   "id": "a29c335c",
   "metadata": {},
   "outputs": [
    {
     "data": {
      "text/plain": [
       "<AxesSubplot:xlabel='nutrition_grade_fr', ylabel='nutrition-score-fr_100g'>"
      ]
     },
     "execution_count": 40,
     "metadata": {},
     "output_type": "execute_result"
    },
    {
     "data": {
      "image/png": "[encoded data removed]",
      "text/plain": [
       "<Figure size 640x480 with 1 Axes>"
      ]
     },
     "metadata": {},
     "output_type": "display_data"
    }
   ],
   "source": [
    "sns.boxplot(data=testNutri,x=\"nutrition_grade_fr\",y=\"nutrition-score-fr_100g\")"
   ]
  },
  {
   "cell_type": "code",
   "execution_count": 41,
   "id": "8dbb3988",
   "metadata": {},
   "outputs": [],
   "source": [
    "testEnerNut=foodWithout_38[[\"nutrition_grade_fr\",\"energy_100g\"]]"
   ]
  },
  {
   "cell_type": "code",
   "execution_count": 42,
   "id": "f81695f5",
   "metadata": {},
   "outputs": [],
   "source": [
    "testEnerNut=testEnerNut.loc[(testEnerNut[\"nutrition_grade_fr\"].notna())&(testEnerNut[\"energy_100g\"].notna())]\n",
    "testEnerNut=testEnerNut.loc[testEnerNut[\"energy_100g\"]<3700]\n",
    "testEnerNut=testEnerNut.sort_values(\"nutrition_grade_fr\")"
   ]
  },
  {
   "cell_type": "code",
   "execution_count": 43,
   "id": "f12c0ad0",
   "metadata": {},
   "outputs": [
    {
     "data": {
      "text/plain": [
       "<AxesSubplot:xlabel='nutrition_grade_fr', ylabel='energy_100g'>"
      ]
     },
     "execution_count": 43,
     "metadata": {},
     "output_type": "execute_result"
    },
    {
     "data": {
      "image/png": "[encoded data removed]",
      "text/plain": [
       "<Figure size 640x480 with 1 Axes>"
      ]
     },
     "metadata": {},
     "output_type": "display_data"
    }
   ],
   "source": [
    "sns.boxplot(data=testEnerNut,x=\"nutrition_grade_fr\",y=\"energy_100g\")"
   ]
  },
  {
   "cell_type": "code",
   "execution_count": 44,
   "id": "eb462cf3",
   "metadata": {},
   "outputs": [
    {
     "data": {
      "text/plain": [
       "unknown                             22624\n",
       "One-dish meals                       5546\n",
       "Sweets                               4698\n",
       "Biscuits and cakes                   4561\n",
       "Non-sugared beverages                4302\n",
       "Cereals                              4106\n",
       "Cheese                               4024\n",
       "Dressings and sauces                 3602\n",
       "Milk and yogurt                      3297\n",
       "Processed meat                       3247\n",
       "Chocolate products                   3109\n",
       "Alcoholic beverages                  2909\n",
       "Vegetables                           2840\n",
       "Fish and seafood                     2638\n",
       "Sweetened beverages                  2170\n",
       "Appetizers                           2101\n",
       "Fruits                               2068\n",
       "Fruit juices                         1924\n",
       "Bread                                1838\n",
       "Meat                                 1694\n",
       "Fats                                 1614\n",
       "Breakfast cereals                    1408\n",
       "vegetables                            934\n",
       "Legumes                               925\n",
       "Dairy desserts                        783\n",
       "Ice cream                             721\n",
       "Nuts                                  689\n",
       "Sandwich                              686\n",
       "Pizza pies and quiche                 515\n",
       "Soups                                 503\n",
       "Dried fruits                          497\n",
       "pastries                              496\n",
       "Eggs                                  462\n",
       "Fruit nectars                         376\n",
       "Artificially sweetened beverages      261\n",
       "Potatoes                              165\n",
       "Tripe dishes                           69\n",
       "fruits                                 53\n",
       "Salty and fatty products               19\n",
       "cereals                                12\n",
       "legumes                                 4\n",
       "nuts                                    1\n",
       "Name: pnns_groups_2, dtype: int64"
      ]
     },
     "execution_count": 44,
     "metadata": {},
     "output_type": "execute_result"
    }
   ],
   "source": [
    "foodRaw.pnns_groups_2.value_counts()"
   ]
  },
  {
   "cell_type": "code",
   "execution_count": 92,
   "id": "e0755be3",
   "metadata": {},
   "outputs": [
    {
     "data": {
      "text/plain": [
       "'C:\\\\Users\\\\cleme\\\\OneDrive\\\\Documents\\\\8. TRAVAIL CLEMENT\\\\2.3. Reconversion Data\\\\1. OpenClassRooms\\\\2. Projets\\\\2.3. Préparez données pour organisme santé publique'"
      ]
     },
     "execution_count": 92,
     "metadata": {},
     "output_type": "execute_result"
    }
   ],
   "source": [
    "%pwd"
   ]
  }
 ],
 "metadata": {
  "kernelspec": {
   "display_name": "envP3",
   "language": "python",
   "name": "envp3"
  },
  "language_info": {
   "codemirror_mode": {
    "name": "ipython",
    "version": 3
   },
   "file_extension": ".py",
   "mimetype": "text/x-python",
   "name": "python",
   "nbconvert_exporter": "python",
   "pygments_lexer": "ipython3",
   "version": "3.9.13"
  }
 },
 "nbformat": 4,
 "nbformat_minor": 5
}
