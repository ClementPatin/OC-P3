{
 "cells": [
  {
   "cell_type": "markdown",
   "id": "27327271",
   "metadata": {},
   "source": [
    "# PRÉPAREZ DES DONNÉES POUR UN ORGANISME DE SANTÉ PUBLIQUE\n",
    "\n",
    "![](Logo-Sante-Publique-France-.png)"
   ]
  },
  {
   "cell_type": "markdown",
   "id": "f57bef0c",
   "metadata": {},
   "source": [
    "# Table des matières"
   ]
  },
  {
   "cell_type": "markdown",
   "id": "075cef66",
   "metadata": {},
   "source": [
    "# Introduction"
   ]
  },
  {
   "cell_type": "markdown",
   "id": "3843f044",
   "metadata": {},
   "source": [
    "L'agence \"Santé publique France\" a lancé un **appel à projets pour rendre les données de santé plus accessibles**. L’agence souhaite faire explorer et visualiser des données, pour que ses agents puissent les exploiter.\n",
    "\n",
    "Le jeu de données à analyser est issu de la plateforme **Open Food Facts**, qui est une association donnant accès à une base données de produits alimentaires :\n",
    "- ouverte à tous\n",
    "- où tout le monde peut contribuer\n",
    "\n",
    "Dans le cadre de cet appel à projets, nous :\n",
    "- proposerons une idée d'application\n",
    "- mènerons à bien le nettoyage nécessaire à l'exploration des données\n",
    "- explorerons les données traitées"
   ]
  },
  {
   "cell_type": "markdown",
   "id": "ec155dd9",
   "metadata": {},
   "source": [
    "# Partie 1 - Imports & Proposition d'application"
   ]
  },
  {
   "cell_type": "markdown",
   "id": "115d5ea2",
   "metadata": {},
   "source": [
    "## P1.1. Imports des librairies & du dataset\n",
    "\n",
    "Commençons par importer les principales librairies dont nous aurons besoin :"
   ]
  },
  {
   "cell_type": "code",
   "execution_count": 349,
   "id": "b0af5441",
   "metadata": {},
   "outputs": [],
   "source": [
    "import pandas as pd # to manipulate the dataset with dataframes\n",
    "import numpy as np # for statistics and calculations\n",
    "import matplotlib.pyplot as plt # for data visualisation\n",
    "%matplotlib inline\n",
    "import matplotlib.ticker as mtick # for format axis in percent %\n",
    "import seaborn as sns # for data visualisation, with different proporties\n",
    "import missingno as ms # for visualisation of missing data"
   ]
  },
  {
   "cell_type": "markdown",
   "id": "c7eab489",
   "metadata": {},
   "source": [
    "## P1.2. Import du dataset"
   ]
  },
  {
   "cell_type": "code",
   "execution_count": 2,
   "id": "c633cca4",
   "metadata": {
    "scrolled": false
   },
   "outputs": [],
   "source": [
    "foodRaw=pd.read_csv('fr.openfoodfacts.org.products.csv', sep='\\t',low_memory=False)"
   ]
  },
  {
   "cell_type": "markdown",
   "id": "11cb9fbd",
   "metadata": {},
   "source": [
    "Nous pouvons regarder les dimensions du tableau généré :"
   ]
  },
  {
   "cell_type": "code",
   "execution_count": 3,
   "id": "a562f496",
   "metadata": {},
   "outputs": [
    {
     "name": "stdout",
     "output_type": "stream",
     "text": [
      "Le tableau mis à disposition comporte  162 variables et  320772 lignes / produits\n"
     ]
    }
   ],
   "source": [
    "print(\"Le tableau mis à disposition comporte \", foodRaw.shape[1], \"variables et \", foodRaw.shape[0], \"lignes / produits\")"
   ]
  },
  {
   "cell_type": "markdown",
   "id": "d98ceb60",
   "metadata": {},
   "source": [
    "Nous pouvons affihcer les premières lignes :"
   ]
  },
  {
   "cell_type": "code",
   "execution_count": 4,
   "id": "60a04e98",
   "metadata": {},
   "outputs": [
    {
     "data": {
      "text/html": [
       "<div>\n",
       "<style scoped>\n",
       "    .dataframe tbody tr th:only-of-type {\n",
       "        vertical-align: middle;\n",
       "    }\n",
       "\n",
       "    .dataframe tbody tr th {\n",
       "        vertical-align: top;\n",
       "    }\n",
       "\n",
       "    .dataframe thead th {\n",
       "        text-align: right;\n",
       "    }\n",
       "</style>\n",
       "<table border=\"1\" class=\"dataframe\">\n",
       "  <thead>\n",
       "    <tr style=\"text-align: right;\">\n",
       "      <th></th>\n",
       "      <th>code</th>\n",
       "      <th>url</th>\n",
       "      <th>creator</th>\n",
       "      <th>created_t</th>\n",
       "      <th>created_datetime</th>\n",
       "      <th>last_modified_t</th>\n",
       "      <th>last_modified_datetime</th>\n",
       "      <th>product_name</th>\n",
       "      <th>generic_name</th>\n",
       "      <th>quantity</th>\n",
       "      <th>...</th>\n",
       "      <th>ph_100g</th>\n",
       "      <th>fruits-vegetables-nuts_100g</th>\n",
       "      <th>collagen-meat-protein-ratio_100g</th>\n",
       "      <th>cocoa_100g</th>\n",
       "      <th>chlorophyl_100g</th>\n",
       "      <th>carbon-footprint_100g</th>\n",
       "      <th>nutrition-score-fr_100g</th>\n",
       "      <th>nutrition-score-uk_100g</th>\n",
       "      <th>glycemic-index_100g</th>\n",
       "      <th>water-hardness_100g</th>\n",
       "    </tr>\n",
       "  </thead>\n",
       "  <tbody>\n",
       "    <tr>\n",
       "      <th>0</th>\n",
       "      <td>0000000003087</td>\n",
       "      <td>http://world-fr.openfoodfacts.org/produit/0000...</td>\n",
       "      <td>openfoodfacts-contributors</td>\n",
       "      <td>1474103866</td>\n",
       "      <td>2016-09-17T09:17:46Z</td>\n",
       "      <td>1474103893</td>\n",
       "      <td>2016-09-17T09:18:13Z</td>\n",
       "      <td>Farine de blé noir</td>\n",
       "      <td>NaN</td>\n",
       "      <td>1kg</td>\n",
       "      <td>...</td>\n",
       "      <td>NaN</td>\n",
       "      <td>NaN</td>\n",
       "      <td>NaN</td>\n",
       "      <td>NaN</td>\n",
       "      <td>NaN</td>\n",
       "      <td>NaN</td>\n",
       "      <td>NaN</td>\n",
       "      <td>NaN</td>\n",
       "      <td>NaN</td>\n",
       "      <td>NaN</td>\n",
       "    </tr>\n",
       "    <tr>\n",
       "      <th>1</th>\n",
       "      <td>0000000004530</td>\n",
       "      <td>http://world-fr.openfoodfacts.org/produit/0000...</td>\n",
       "      <td>usda-ndb-import</td>\n",
       "      <td>1489069957</td>\n",
       "      <td>2017-03-09T14:32:37Z</td>\n",
       "      <td>1489069957</td>\n",
       "      <td>2017-03-09T14:32:37Z</td>\n",
       "      <td>Banana Chips Sweetened (Whole)</td>\n",
       "      <td>NaN</td>\n",
       "      <td>NaN</td>\n",
       "      <td>...</td>\n",
       "      <td>NaN</td>\n",
       "      <td>NaN</td>\n",
       "      <td>NaN</td>\n",
       "      <td>NaN</td>\n",
       "      <td>NaN</td>\n",
       "      <td>NaN</td>\n",
       "      <td>14.0</td>\n",
       "      <td>14.0</td>\n",
       "      <td>NaN</td>\n",
       "      <td>NaN</td>\n",
       "    </tr>\n",
       "    <tr>\n",
       "      <th>2</th>\n",
       "      <td>0000000004559</td>\n",
       "      <td>http://world-fr.openfoodfacts.org/produit/0000...</td>\n",
       "      <td>usda-ndb-import</td>\n",
       "      <td>1489069957</td>\n",
       "      <td>2017-03-09T14:32:37Z</td>\n",
       "      <td>1489069957</td>\n",
       "      <td>2017-03-09T14:32:37Z</td>\n",
       "      <td>Peanuts</td>\n",
       "      <td>NaN</td>\n",
       "      <td>NaN</td>\n",
       "      <td>...</td>\n",
       "      <td>NaN</td>\n",
       "      <td>NaN</td>\n",
       "      <td>NaN</td>\n",
       "      <td>NaN</td>\n",
       "      <td>NaN</td>\n",
       "      <td>NaN</td>\n",
       "      <td>0.0</td>\n",
       "      <td>0.0</td>\n",
       "      <td>NaN</td>\n",
       "      <td>NaN</td>\n",
       "    </tr>\n",
       "    <tr>\n",
       "      <th>3</th>\n",
       "      <td>0000000016087</td>\n",
       "      <td>http://world-fr.openfoodfacts.org/produit/0000...</td>\n",
       "      <td>usda-ndb-import</td>\n",
       "      <td>1489055731</td>\n",
       "      <td>2017-03-09T10:35:31Z</td>\n",
       "      <td>1489055731</td>\n",
       "      <td>2017-03-09T10:35:31Z</td>\n",
       "      <td>Organic Salted Nut Mix</td>\n",
       "      <td>NaN</td>\n",
       "      <td>NaN</td>\n",
       "      <td>...</td>\n",
       "      <td>NaN</td>\n",
       "      <td>NaN</td>\n",
       "      <td>NaN</td>\n",
       "      <td>NaN</td>\n",
       "      <td>NaN</td>\n",
       "      <td>NaN</td>\n",
       "      <td>12.0</td>\n",
       "      <td>12.0</td>\n",
       "      <td>NaN</td>\n",
       "      <td>NaN</td>\n",
       "    </tr>\n",
       "    <tr>\n",
       "      <th>4</th>\n",
       "      <td>0000000016094</td>\n",
       "      <td>http://world-fr.openfoodfacts.org/produit/0000...</td>\n",
       "      <td>usda-ndb-import</td>\n",
       "      <td>1489055653</td>\n",
       "      <td>2017-03-09T10:34:13Z</td>\n",
       "      <td>1489055653</td>\n",
       "      <td>2017-03-09T10:34:13Z</td>\n",
       "      <td>Organic Polenta</td>\n",
       "      <td>NaN</td>\n",
       "      <td>NaN</td>\n",
       "      <td>...</td>\n",
       "      <td>NaN</td>\n",
       "      <td>NaN</td>\n",
       "      <td>NaN</td>\n",
       "      <td>NaN</td>\n",
       "      <td>NaN</td>\n",
       "      <td>NaN</td>\n",
       "      <td>NaN</td>\n",
       "      <td>NaN</td>\n",
       "      <td>NaN</td>\n",
       "      <td>NaN</td>\n",
       "    </tr>\n",
       "  </tbody>\n",
       "</table>\n",
       "<p>5 rows × 162 columns</p>\n",
       "</div>"
      ],
      "text/plain": [
       "            code                                                url  \\\n",
       "0  0000000003087  http://world-fr.openfoodfacts.org/produit/0000...   \n",
       "1  0000000004530  http://world-fr.openfoodfacts.org/produit/0000...   \n",
       "2  0000000004559  http://world-fr.openfoodfacts.org/produit/0000...   \n",
       "3  0000000016087  http://world-fr.openfoodfacts.org/produit/0000...   \n",
       "4  0000000016094  http://world-fr.openfoodfacts.org/produit/0000...   \n",
       "\n",
       "                      creator   created_t      created_datetime  \\\n",
       "0  openfoodfacts-contributors  1474103866  2016-09-17T09:17:46Z   \n",
       "1             usda-ndb-import  1489069957  2017-03-09T14:32:37Z   \n",
       "2             usda-ndb-import  1489069957  2017-03-09T14:32:37Z   \n",
       "3             usda-ndb-import  1489055731  2017-03-09T10:35:31Z   \n",
       "4             usda-ndb-import  1489055653  2017-03-09T10:34:13Z   \n",
       "\n",
       "  last_modified_t last_modified_datetime                    product_name  \\\n",
       "0      1474103893   2016-09-17T09:18:13Z              Farine de blé noir   \n",
       "1      1489069957   2017-03-09T14:32:37Z  Banana Chips Sweetened (Whole)   \n",
       "2      1489069957   2017-03-09T14:32:37Z                         Peanuts   \n",
       "3      1489055731   2017-03-09T10:35:31Z          Organic Salted Nut Mix   \n",
       "4      1489055653   2017-03-09T10:34:13Z                 Organic Polenta   \n",
       "\n",
       "  generic_name quantity  ... ph_100g fruits-vegetables-nuts_100g  \\\n",
       "0          NaN      1kg  ...     NaN                         NaN   \n",
       "1          NaN      NaN  ...     NaN                         NaN   \n",
       "2          NaN      NaN  ...     NaN                         NaN   \n",
       "3          NaN      NaN  ...     NaN                         NaN   \n",
       "4          NaN      NaN  ...     NaN                         NaN   \n",
       "\n",
       "  collagen-meat-protein-ratio_100g cocoa_100g chlorophyl_100g  \\\n",
       "0                              NaN        NaN             NaN   \n",
       "1                              NaN        NaN             NaN   \n",
       "2                              NaN        NaN             NaN   \n",
       "3                              NaN        NaN             NaN   \n",
       "4                              NaN        NaN             NaN   \n",
       "\n",
       "  carbon-footprint_100g nutrition-score-fr_100g nutrition-score-uk_100g  \\\n",
       "0                   NaN                     NaN                     NaN   \n",
       "1                   NaN                    14.0                    14.0   \n",
       "2                   NaN                     0.0                     0.0   \n",
       "3                   NaN                    12.0                    12.0   \n",
       "4                   NaN                     NaN                     NaN   \n",
       "\n",
       "  glycemic-index_100g water-hardness_100g  \n",
       "0                 NaN                 NaN  \n",
       "1                 NaN                 NaN  \n",
       "2                 NaN                 NaN  \n",
       "3                 NaN                 NaN  \n",
       "4                 NaN                 NaN  \n",
       "\n",
       "[5 rows x 162 columns]"
      ]
     },
     "metadata": {},
     "output_type": "display_data"
    }
   ],
   "source": [
    "display(foodRaw.head())"
   ]
  },
  {
   "cell_type": "markdown",
   "id": "c6b7e08a",
   "metadata": {},
   "source": [
    "Nous avons à disposition 4 types de variables :\n",
    "- Les informations générales sur la fiche du produit : nom, date de modification, etc.\n",
    "- Un ensemble de tags : catégorie du produit, localisation, origine, etc.\n",
    "- Les ingrédients composant les produits et leurs additifs éventuels.\n",
    "- Des informations nutritionnelles : \n",
    "    - quantité en grammes d’un nutriment pour 100 grammes du produit.\n",
    "    - des scores nutritionnels (comme le nutriscore)"
   ]
  },
  {
   "cell_type": "markdown",
   "id": "802c8d6a",
   "metadata": {},
   "source": [
    "## P1.3. Proposition d'application"
   ]
  },
  {
   "cell_type": "markdown",
   "id": "d1e07ae1",
   "metadata": {},
   "source": [
    "Afin d'aider à améliorer la santé de nos concitoyens, nous pourrions utiliser les données mises à notre disposition pour aider les malades et les médecins.\n",
    "\n",
    "En effet, un des principaux maux du 21$^{ème}$ est la multiplications de maladies chroniques dans nos sociétés industrialisées. Mes maladies cardiovasculaires représentent **la dépense la plus importante** pour l'Assurance Maladie.\n",
    "\n",
    "**Hypertension, Diabètes, Cholestérol, Obésites, etc.** : Toutes ses pathologies sont, à des degrès différents, liées au régime alimentaire des malades.\n",
    "\n",
    "En plus des médicaments, les médecins prescrivent également un **régime alimentaire adapté** aux pathologies chroniques des patients affectés.\n",
    "\n",
    "Mais devant le nombre de produits disponibles en grandes surfaces, chacun avec une étiquette nutritionnelle qui lui est propre, le patient peut se retrouver démuni au moment de faire ses choix.\n",
    "\n",
    "**MyHealthScore** : Une application **proposée par le médecin** à son patient pour l'aider à adapter son régime alimentaire à sa (ou ses) pathologie(s).\n",
    "\n",
    "L'idée :\n",
    "- le médecin configure le **profil** de son patient :\n",
    "    - données biométriques : sexe, age, poids, taille, etc.\n",
    "    - pathologie(s) : hypertension, diabètes, cholestérol, obésité, autre\n",
    "    \n",
    "    \n",
    "- le profil permet de créé un score nutritionnel **adapté au patient** : *MyHealthScore*\n",
    "    - ce score est basé sur les **mêmes données** nutritionnelles que le Nutri-Score :\n",
    "        - La valeur énergétique (KJ)\n",
    "        - Les lipides (g)\n",
    "        - Les acides gras saturés (g)\n",
    "        - Les sucres (g)\n",
    "        - Les protéines (g)\n",
    "        - Le sodium (mg)\n",
    "        - Les fibres (g)\n",
    "        - Fruits, légumes, etc. (%)\n",
    "        \n",
    "   mais **personnalisé** pour le profil du patient.\n",
    "\n",
    "\n",
    "- l'**application** pourrait fonctionner ainsi :\n",
    "    - le patient **scanne / rentre une référence** d'un produit\n",
    "    - l'application **lui délivre ensuite son MyHeathScore personnalisé** selon les informations renseignées par son médecin.\n",
    "\n",
    "- chaque système ayant ses propres spécificités, l'application serait dans un premier temps destinée au système de santé **français**.\n"
   ]
  },
  {
   "cell_type": "markdown",
   "id": "35625665",
   "metadata": {},
   "source": [
    "## P1.4. Réduction du champ d'étude : France"
   ]
  },
  {
   "cell_type": "markdown",
   "id": "3099cfba",
   "metadata": {},
   "source": [
    "Comme expliqué plus haut, nous allons nous concentrer sur le France dans le cadre cette étude.\n",
    "\n"
   ]
  },
  {
   "cell_type": "markdown",
   "id": "36256841",
   "metadata": {},
   "source": [
    "Le dataset comporte plusieurs colonnes contenant des informations sur le pays :"
   ]
  },
  {
   "cell_type": "code",
   "execution_count": 5,
   "id": "f0600068",
   "metadata": {},
   "outputs": [
    {
     "data": {
      "text/plain": [
       "['countries', 'countries_tags', 'countries_fr']"
      ]
     },
     "execution_count": 5,
     "metadata": {},
     "output_type": "execute_result"
    }
   ],
   "source": [
    "# create a list with \"coutries\" columns\n",
    "countriesColNames = [col for col in foodRaw.columns if \"countri\" in col]\n",
    "countriesColNames"
   ]
  },
  {
   "cell_type": "markdown",
   "id": "f10147d3",
   "metadata": {},
   "source": [
    "Avant d'en sélectionner une pour notre filtrage, regardons à quoi elles ressemblent :"
   ]
  },
  {
   "cell_type": "code",
   "execution_count": 6,
   "id": "851da233",
   "metadata": {},
   "outputs": [
    {
     "data": {
      "text/html": [
       "<div>\n",
       "<style scoped>\n",
       "    .dataframe tbody tr th:only-of-type {\n",
       "        vertical-align: middle;\n",
       "    }\n",
       "\n",
       "    .dataframe tbody tr th {\n",
       "        vertical-align: top;\n",
       "    }\n",
       "\n",
       "    .dataframe thead th {\n",
       "        text-align: right;\n",
       "    }\n",
       "</style>\n",
       "<table border=\"1\" class=\"dataframe\">\n",
       "  <thead>\n",
       "    <tr style=\"text-align: right;\">\n",
       "      <th></th>\n",
       "      <th>countries</th>\n",
       "      <th>countries_tags</th>\n",
       "      <th>countries_fr</th>\n",
       "    </tr>\n",
       "  </thead>\n",
       "  <tbody>\n",
       "    <tr>\n",
       "      <th>117539</th>\n",
       "      <td>US</td>\n",
       "      <td>en:united-states</td>\n",
       "      <td>États-Unis</td>\n",
       "    </tr>\n",
       "    <tr>\n",
       "      <th>180757</th>\n",
       "      <td>España</td>\n",
       "      <td>en:spain</td>\n",
       "      <td>Espagne</td>\n",
       "    </tr>\n",
       "    <tr>\n",
       "      <th>164204</th>\n",
       "      <td>US</td>\n",
       "      <td>en:united-states</td>\n",
       "      <td>États-Unis</td>\n",
       "    </tr>\n",
       "    <tr>\n",
       "      <th>313652</th>\n",
       "      <td>France</td>\n",
       "      <td>en:france</td>\n",
       "      <td>France</td>\n",
       "    </tr>\n",
       "    <tr>\n",
       "      <th>16367</th>\n",
       "      <td>US</td>\n",
       "      <td>en:united-states</td>\n",
       "      <td>États-Unis</td>\n",
       "    </tr>\n",
       "    <tr>\n",
       "      <th>81886</th>\n",
       "      <td>US</td>\n",
       "      <td>en:united-states</td>\n",
       "      <td>États-Unis</td>\n",
       "    </tr>\n",
       "    <tr>\n",
       "      <th>231712</th>\n",
       "      <td>France</td>\n",
       "      <td>en:france</td>\n",
       "      <td>France</td>\n",
       "    </tr>\n",
       "    <tr>\n",
       "      <th>62106</th>\n",
       "      <td>US</td>\n",
       "      <td>en:united-states</td>\n",
       "      <td>États-Unis</td>\n",
       "    </tr>\n",
       "    <tr>\n",
       "      <th>133730</th>\n",
       "      <td>US</td>\n",
       "      <td>en:united-states</td>\n",
       "      <td>États-Unis</td>\n",
       "    </tr>\n",
       "    <tr>\n",
       "      <th>88530</th>\n",
       "      <td>US</td>\n",
       "      <td>en:united-states</td>\n",
       "      <td>États-Unis</td>\n",
       "    </tr>\n",
       "  </tbody>\n",
       "</table>\n",
       "</div>"
      ],
      "text/plain": [
       "       countries    countries_tags countries_fr\n",
       "117539        US  en:united-states   États-Unis\n",
       "180757    España          en:spain      Espagne\n",
       "164204        US  en:united-states   États-Unis\n",
       "313652    France         en:france       France\n",
       "16367         US  en:united-states   États-Unis\n",
       "81886         US  en:united-states   États-Unis\n",
       "231712    France         en:france       France\n",
       "62106         US  en:united-states   États-Unis\n",
       "133730        US  en:united-states   États-Unis\n",
       "88530         US  en:united-states   États-Unis"
      ]
     },
     "execution_count": 6,
     "metadata": {},
     "output_type": "execute_result"
    }
   ],
   "source": [
    "foodRaw[countriesColNames].sample(10)"
   ]
  },
  {
   "cell_type": "markdown",
   "id": "b4bc2f30",
   "metadata": {},
   "source": [
    "Nous pouvons nous concentrer sur la colonne \"countries_fr\".\n",
    "\n",
    "Regardons le nombre de valeurs manquantes pour ces trois colonnes :"
   ]
  },
  {
   "cell_type": "code",
   "execution_count": 7,
   "id": "678a6b52",
   "metadata": {},
   "outputs": [
    {
     "data": {
      "text/plain": [
       "countries         280\n",
       "countries_tags    280\n",
       "countries_fr      280\n",
       "dtype: int64"
      ]
     },
     "execution_count": 7,
     "metadata": {},
     "output_type": "execute_result"
    }
   ],
   "source": [
    "foodRaw[countriesColNames].isna().sum()"
   ]
  },
  {
   "cell_type": "markdown",
   "id": "193292df",
   "metadata": {},
   "source": [
    "Elles n'en contiennent. Si elle ne sont pas positionnées aux mêmes endroits, nous pouvons regarder si \"countries\" et \"countries_tags\" peuvent nous aider à imputer \"countries_fr\" :"
   ]
  },
  {
   "cell_type": "code",
   "execution_count": 8,
   "id": "1f4bbaef",
   "metadata": {},
   "outputs": [
    {
     "data": {
      "text/html": [
       "<div>\n",
       "<style scoped>\n",
       "    .dataframe tbody tr th:only-of-type {\n",
       "        vertical-align: middle;\n",
       "    }\n",
       "\n",
       "    .dataframe tbody tr th {\n",
       "        vertical-align: top;\n",
       "    }\n",
       "\n",
       "    .dataframe thead th {\n",
       "        text-align: right;\n",
       "    }\n",
       "</style>\n",
       "<table border=\"1\" class=\"dataframe\">\n",
       "  <thead>\n",
       "    <tr style=\"text-align: right;\">\n",
       "      <th></th>\n",
       "      <th>countries</th>\n",
       "      <th>countries_tags</th>\n",
       "      <th>countries_fr</th>\n",
       "    </tr>\n",
       "  </thead>\n",
       "  <tbody>\n",
       "  </tbody>\n",
       "</table>\n",
       "</div>"
      ],
      "text/plain": [
       "Empty DataFrame\n",
       "Columns: [countries, countries_tags, countries_fr]\n",
       "Index: []"
      ]
     },
     "execution_count": 8,
     "metadata": {},
     "output_type": "execute_result"
    }
   ],
   "source": [
    "# create a mask for rows where \"countries_fr\" is NaN and one of the others is not\n",
    "maskCountries = (foodRaw.countries_fr.isna())&((foodRaw.countries_tags.notna())|(foodRaw.countries.notna()))\n",
    "\n",
    "foodRaw[countriesColNames].loc[maskCountries]"
   ]
  },
  {
   "cell_type": "markdown",
   "id": "37f8933f",
   "metadata": {},
   "source": [
    "Les autres colonnes ne peuvent donc pas nous aider à combler les 280 valeurs manquantes. Nous ne considérerons pas ces produits."
   ]
  },
  {
   "cell_type": "markdown",
   "id": "1588ee66",
   "metadata": {},
   "source": [
    "Regardons maintenant les différents pays contributeurs de la base de données :"
   ]
  },
  {
   "cell_type": "code",
   "execution_count": 9,
   "id": "5d7bf664",
   "metadata": {},
   "outputs": [
    {
     "data": {
      "text/plain": [
       "États-Unis                                      172998\n",
       "France                                           94392\n",
       "Suisse                                           14953\n",
       "Allemagne                                         7870\n",
       "Espagne                                           5009\n",
       "                                                 ...  \n",
       "Danemark,Suisse,en:Deutschland,en:Frankreich         1\n",
       "France,Luxembourg,Suisse                             1\n",
       "Autriche,République tchèque,Allemagne                1\n",
       "Allemagne,Hongrie                                    1\n",
       "Chine,Hong Kong                                      1\n",
       "Name: countries_fr, Length: 722, dtype: int64"
      ]
     },
     "execution_count": 9,
     "metadata": {},
     "output_type": "execute_result"
    }
   ],
   "source": [
    "# list of unique values in \"countries_fr\" and number of occurrences\n",
    "foodRaw.countries_fr.value_counts(ascending=False)"
   ]
  },
  {
   "cell_type": "markdown",
   "id": "934f40ca",
   "metadata": {},
   "source": [
    "Les valeurs de cette variable contiennent, en chaîne de caractères, la liste des pays où le produit est commercialisé.\n",
    "\n",
    "Afin de nous concentrer sur la france, nous allons donc rechercher dans ces chaînes de caractères :"
   ]
  },
  {
   "cell_type": "code",
   "execution_count": 10,
   "id": "97a615bf",
   "metadata": {},
   "outputs": [],
   "source": [
    "# create masks for french products \n",
    "maskFrance = foodRaw.countries_fr.str.find(\"France\")!=-1\n",
    "maskfrance = foodRaw.countries_fr.str.find(\"france\")!=-1\n",
    "maskFr = foodRaw.countries_fr.str.find(\"Fr\")!=-1\n",
    "maskFR = foodRaw.countries_fr.str.find(\"FR\")!=-1\n",
    "maskfr = foodRaw.countries_fr.str.find(\"fr\")!=-1"
   ]
  },
  {
   "cell_type": "markdown",
   "id": "fcdc34fe",
   "metadata": {},
   "source": [
    "Testons ces différents filtres."
   ]
  },
  {
   "cell_type": "code",
   "execution_count": 11,
   "id": "bdd329cb",
   "metadata": {},
   "outputs": [
    {
     "data": {
      "text/plain": [
       "France                                                   94392\n",
       "France,Suisse                                             1224\n",
       "France,Royaume-Uni                                         514\n",
       "Belgique,France                                            512\n",
       "France,Allemagne                                           240\n",
       "                                                         ...  \n",
       "Belgique,France,Allemagne,Roumanie                           1\n",
       "Australie,République tchèque,France,Allemagne,Hongrie        1\n",
       "Danemark,France,Allemagne,Russie,Espagne,Royaume-Uni         1\n",
       "République tchèque,Danemark,France,Allemagne                 1\n",
       "France,Hong Kong                                             1\n",
       "Name: countries_fr, Length: 305, dtype: int64"
      ]
     },
     "execution_count": 11,
     "metadata": {},
     "output_type": "execute_result"
    }
   ],
   "source": [
    "foodRaw.loc[maskFrance,\"countries_fr\"].value_counts()"
   ]
  },
  {
   "cell_type": "markdown",
   "id": "ebbb6f66",
   "metadata": {},
   "source": [
    "On obtient 305 valeurs uniques en recherchant avec \"France\". Continuons :"
   ]
  },
  {
   "cell_type": "code",
   "execution_count": 12,
   "id": "ff58fc11",
   "metadata": {},
   "outputs": [
    {
     "data": {
      "text/plain": [
       "Series([], Name: countries_fr, dtype: int64)"
      ]
     },
     "execution_count": 12,
     "metadata": {},
     "output_type": "execute_result"
    }
   ],
   "source": [
    "foodRaw.loc[maskfrance,\"countries_fr\"].value_counts()"
   ]
  },
  {
   "cell_type": "markdown",
   "id": "ccb0238b",
   "metadata": {},
   "source": [
    "Cette orthographe n'est pas utilisée. Continuons :"
   ]
  },
  {
   "cell_type": "code",
   "execution_count": 13,
   "id": "679aef3b",
   "metadata": {},
   "outputs": [
    {
     "data": {
      "text/plain": [
       "Suisse,Deutschland,Frankreich                                                                                                9\n",
       "Suisse,Frankrijk,Nederland                                                                                                   2\n",
       "Danemark,Suisse,es:Franciaorszag,es:Magyarorszag,es:Nagy-britannia,es:Portugalia,es:Spanyolorszag                            1\n",
       "Belgique,Danemark,Suisse,es:Franciaorszag,es:Magyarorszag,es:Nagy-britannia,es:Nemetorszag,es:Portugalia,es:Spanyolorszag    1\n",
       "Suisse,Deutschland,Frankreich,Spanien                                                                                        1\n",
       "Suisse,Frankrijk                                                                                                             1\n",
       "Suisse,Belgien,Deutschland,Frankreich                                                                                        1\n",
       "Danemark,Suisse,en:Deutschland,en:Frankreich                                                                                 1\n",
       "en:Denemarken,en:Finand,en:Frankrijk,en:Italiaans,en:Zwitserland                                                             1\n",
       "Italie,en:Denemarken,en:Nederland,en:Noorwegen,en:Zweden,en:Belgie,en:Duitsland,en:Frankrijk                                 1\n",
       "Finlande,en:Belgie,en:Denemarken,en:Frankrijk,en:Spanje,en:Zweden,en:Zwitserland                                             1\n",
       "Belgique,Danemark,Suisse,Deutschland,Frankreich                                                                              1\n",
       "Danemark,Espagne,en:Frankrike,en:Kina,en:Sverige                                                                             1\n",
       "Allemagne,Suisse,Frankreich                                                                                                  1\n",
       "Portugal,en:Belgie,en:Duitsland,en:Frankrijk,en:Nederland,en:Spanje,en:Zwitserland                                           1\n",
       "Name: countries_fr, dtype: int64"
      ]
     },
     "execution_count": 13,
     "metadata": {},
     "output_type": "execute_result"
    }
   ],
   "source": [
    "foodRaw.loc[maskFr&~maskFrance,\"countries_fr\"].value_counts()"
   ]
  },
  {
   "cell_type": "markdown",
   "id": "c9ed7b27",
   "metadata": {},
   "source": [
    "France est orthographié différemment."
   ]
  },
  {
   "cell_type": "code",
   "execution_count": 14,
   "id": "7cbfbcef",
   "metadata": {},
   "outputs": [
    {
     "data": {
      "text/plain": [
       "Polynésie française               52\n",
       "Afrique du Sud                    36\n",
       "en:fruit-yogurts                   8\n",
       "Polynésie française,États-Unis     3\n",
       "Polynésie française,Suisse         1\n",
       "République centrafricaine          1\n",
       "Name: countries_fr, dtype: int64"
      ]
     },
     "execution_count": 14,
     "metadata": {},
     "output_type": "execute_result"
    }
   ],
   "source": [
    "foodRaw.loc[maskfr&~maskFrance,\"countries_fr\"].value_counts()"
   ]
  },
  {
   "cell_type": "code",
   "execution_count": 15,
   "id": "1930e6e2",
   "metadata": {},
   "outputs": [],
   "source": [
    "# create a mask for \"Polynésie française\"\n",
    "maskPolyFr = foodRaw.countries_fr.str.find(\"Polynésie française\")!=-1"
   ]
  },
  {
   "cell_type": "code",
   "execution_count": 16,
   "id": "34d6373d",
   "metadata": {},
   "outputs": [
    {
     "data": {
      "text/plain": [
       "Series([], Name: countries_fr, dtype: int64)"
      ]
     },
     "execution_count": 16,
     "metadata": {},
     "output_type": "execute_result"
    }
   ],
   "source": [
    "foodRaw.loc[maskFR,\"countries_fr\"].value_counts()"
   ]
  },
  {
   "cell_type": "markdown",
   "id": "3153c70a",
   "metadata": {},
   "source": [
    "Ce dernier mask n'a rien donné. Nous pouvons donc filtrer notre dataframe pour ne conserver que les produits commercialisés en France : "
   ]
  },
  {
   "cell_type": "code",
   "execution_count": 17,
   "id": "3bab9e75",
   "metadata": {},
   "outputs": [],
   "source": [
    "foodRawFr = foodRaw.copy()\n",
    "#apply selected masks\n",
    "foodRawFr = foodRawFr.loc[maskFrance|maskFr|maskPolyFr]"
   ]
  },
  {
   "cell_type": "markdown",
   "id": "9192bc89",
   "metadata": {},
   "source": [
    "Voici les nouvelles dimensions du dataframe :"
   ]
  },
  {
   "cell_type": "code",
   "execution_count": 18,
   "id": "bc6306e1",
   "metadata": {},
   "outputs": [
    {
     "data": {
      "text/plain": [
       "(98800, 162)"
      ]
     },
     "execution_count": 18,
     "metadata": {},
     "output_type": "execute_result"
    }
   ],
   "source": [
    "foodRawFr.shape"
   ]
  },
  {
   "cell_type": "markdown",
   "id": "309ba2cf",
   "metadata": {},
   "source": [
    "## P1.5. Sélection des variables"
   ]
  },
  {
   "cell_type": "markdown",
   "id": "e3633f8c",
   "metadata": {},
   "source": [
    "Pour fonctionner, l'application ferait appel à la base de données d'OpenFoodFact pour récupérer les données nutritionnelles et calculer le MyHealthScore du patient.\n",
    "\n",
    "Il faut pour cela que les données soient présentes. Regardons visuellement le niveau de remplissage du dataset. Pour cela nous allons utiliser la librairie `missingno` :"
   ]
  },
  {
   "cell_type": "code",
   "execution_count": 19,
   "id": "b688f9bc",
   "metadata": {},
   "outputs": [
    {
     "data": {
      "image/png": "[encoded data removed]",
      "text/plain": [
       "<Figure size 2500x1000 with 1 Axes>"
      ]
     },
     "metadata": {},
     "output_type": "display_data"
    }
   ],
   "source": [
    "ms.matrix(foodRawFr,color=[0.7,0.0,0.0],sparkline=False) # dataviz of missing data\n",
    "plt.show()"
   ]
  },
  {
   "cell_type": "markdown",
   "id": "717ac259",
   "metadata": {},
   "source": [
    "Le dataset est globalement **très peu renseigné**.\n",
    "\n",
    "Nous pouvons regarder ce qu'il en est des features qui nous intéressent pour calculer, théoriquement, un MyHealthScore :"
   ]
  },
  {
   "cell_type": "code",
   "execution_count": 20,
   "id": "c94e9f0b",
   "metadata": {},
   "outputs": [
    {
     "data": {
      "image/png": "[encoded data removed]",
      "text/plain": [
       "<Figure size 2500x1000 with 1 Axes>"
      ]
     },
     "metadata": {},
     "output_type": "display_data"
    }
   ],
   "source": [
    "theoricalFeaturesNames=[\"energy_100g\",\"sugars_100g\",\"saturated-fat_100g\",\"sodium_100g\",\"fruits-vegetables-nuts_100g\",\"fiber_100g\",\"proteins_100g\"]\n",
    "ms.matrix(foodRawFr[theoricalFeaturesNames],color=[0.7,0.0,0.0],sparkline=False) # dataviz of missing data\n",
    "plt.show()"
   ]
  },
  {
   "cell_type": "markdown",
   "id": "24af751f",
   "metadata": {},
   "source": [
    "Malheureusement la feature concernant les **fruits et légumes** est **très peu renseignée**...\n",
    "\n",
    "Or celle-ci se révèle indispensable pour calculer un MyHealthScore reflétant correctement les recommandations médicales.\n",
    "\n",
    "Par exemple, si l'on regarde les **préconisations hygiéno-ditétiques pour les personnes atteinte d'hypertension**, le site internet de la **CPAM indique** :\n",
    "- sel : < 6g /j\n",
    "- perdre du poids, soit via une IMC < 25 kg/m², soit en perdant 10% du poids initial\n",
    "- activité physique, soit 30 min/j, soit 3x / semaine\n",
    "- réduire consommation d'alcool\n",
    "- augmenter la consommation de **fruits et légumes**\n",
    "- réduire la consommation de graisses saturées\n",
    "- arrêter le tabac"
   ]
  },
  {
   "cell_type": "markdown",
   "id": "8fc5ae99",
   "metadata": {},
   "source": [
    "La construction d'un MyHealthScore devra donc passer par la prise en compte d'autres colonnes. Pour les déterminer, nous pourrons nous baser dans un premier temps sur le \"taux de vide\". Regardons ce que cela donne pour les colonnes `theoricalFeaturesNames` :"
   ]
  },
  {
   "cell_type": "code",
   "execution_count": 21,
   "id": "d26140bc",
   "metadata": {},
   "outputs": [
    {
     "data": {
      "text/plain": [
       "energy_100g                    34.5 %\n",
       "sugars_100g                    36.6 %\n",
       "saturated-fat_100g             36.8 %\n",
       "sodium_100g                    36.6 %\n",
       "fruits-vegetables-nuts_100g    97.0 %\n",
       "fiber_100g                     53.7 %\n",
       "proteins_100g                  34.8 %\n",
       "dtype: object"
      ]
     },
     "execution_count": 21,
     "metadata": {},
     "output_type": "execute_result"
    }
   ],
   "source": [
    "# percentage of null values in primal selected features :\n",
    "(foodRawFr[theoricalFeaturesNames].isna().mean()*100).round(1).astype(str)+\" %\""
   ]
  },
  {
   "cell_type": "markdown",
   "id": "fa7e82b5",
   "metadata": {},
   "source": [
    "Écrivons une fonction pour filtrer les colonnes en fonction de leur taux de valeurs manquantes :"
   ]
  },
  {
   "cell_type": "code",
   "execution_count": 22,
   "id": "56f77ec0",
   "metadata": {},
   "outputs": [],
   "source": [
    "def dropEmptyCols(df,emptinessThreshold=1) :\n",
    "    \n",
    "    \"\"\"return an input pandas.DataFrame without its empty columns\n",
    "    \n",
    "    inputs\n",
    "    ------\n",
    "    df : pandas.DataFrame object\n",
    "    \n",
    "    optional inputs \n",
    "    ---------------\n",
    "    emptinessThreshold : float, defaul : = 1. Gives the limit threshold of emptiness. \n",
    "    if >=threshold, column is dropped. \n",
    "    \n",
    "    returns\n",
    "    -------\n",
    "    dfWithoutEmptyCols : pandas.DataFrame object, the same one without its empty columns\n",
    "    \n",
    "    \"\"\"\n",
    "    #select columns with percentage of null values > threshold\n",
    "    emptyColsNames=df.isna().mean().loc[df.isna().mean()>=emptinessThreshold].index \n",
    "    \n",
    "    #drop selected columns\n",
    "    dfWithoutEmptyCols=df.copy()\n",
    "    dfWithoutEmptyCols = dfWithoutEmptyCols.drop(columns=emptyColsNames)\n",
    "    \n",
    "    return dfWithoutEmptyCols"
   ]
  },
  {
   "cell_type": "markdown",
   "id": "f180a12e",
   "metadata": {},
   "source": [
    "Nous avons d'ores et déjà fait une croix sur `fruits-vegetables-nuts_100g`. Basons-nous sur le taux de `fiber_100g` :"
   ]
  },
  {
   "cell_type": "code",
   "execution_count": 23,
   "id": "0dc0cde0",
   "metadata": {},
   "outputs": [],
   "source": [
    "foodWithout_54=dropEmptyCols(foodRawFr,emptinessThreshold=0.54)"
   ]
  },
  {
   "cell_type": "code",
   "execution_count": 24,
   "id": "62a90da6",
   "metadata": {
    "scrolled": false
   },
   "outputs": [
    {
     "data": {
      "text/plain": [
       "code                                         0.0 %\n",
       "url                                          0.0 %\n",
       "creator                                      0.0 %\n",
       "created_t                                    0.0 %\n",
       "last_modified_t                              0.0 %\n",
       "last_modified_datetime                       0.0 %\n",
       "created_datetime                             0.0 %\n",
       "states                                      0.02 %\n",
       "states_tags                                 0.02 %\n",
       "states_fr                                   0.02 %\n",
       "countries                                   0.28 %\n",
       "countries_tags                              0.28 %\n",
       "countries_fr                                0.28 %\n",
       "product_name                                7.36 %\n",
       "brands                                     12.29 %\n",
       "brands_tags                                 12.3 %\n",
       "quantity                                   27.66 %\n",
       "pnns_groups_2                              31.95 %\n",
       "pnns_groups_1                              34.14 %\n",
       "energy_100g                                34.52 %\n",
       "proteins_100g                               34.8 %\n",
       "salt_100g                                  36.57 %\n",
       "sodium_100g                                36.57 %\n",
       "sugars_100g                                36.63 %\n",
       "saturated-fat_100g                         36.77 %\n",
       "categories_fr                              37.13 %\n",
       "categories                                 37.13 %\n",
       "categories_tags                            37.13 %\n",
       "main_category_fr                           37.15 %\n",
       "main_category                              37.15 %\n",
       "nutrition-score-uk_100g                    37.75 %\n",
       "nutrition-score-fr_100g                    37.75 %\n",
       "nutrition_grade_fr                         37.75 %\n",
       "packaging_tags                             40.15 %\n",
       "packaging                                  40.15 %\n",
       "ingredients_that_may_be_from_palm_oil_n    45.76 %\n",
       "additives_n                                45.76 %\n",
       "ingredients_text                           45.76 %\n",
       "ingredients_from_palm_oil_n                45.76 %\n",
       "additives                                  45.78 %\n",
       "image_url                                  46.64 %\n",
       "image_small_url                            46.64 %\n",
       "fat_100g                                   51.68 %\n",
       "carbohydrates_100g                         52.11 %\n",
       "fiber_100g                                 53.68 %\n",
       "dtype: object"
      ]
     },
     "execution_count": 24,
     "metadata": {},
     "output_type": "execute_result"
    }
   ],
   "source": [
    "# check percentage of null values in foodWithout_54\n",
    "(foodWithout_54.isna().mean().sort_values()*100).round(2).astype(str)+\" %\""
   ]
  },
  {
   "cell_type": "markdown",
   "id": "873c19cc",
   "metadata": {},
   "source": [
    "N'ayant pas à notre disposition la teneur en fruits et légumes, nous pouvons nous baser sur le Nutri-Score, qui prend en compte celle-ci dans son calcul.\n",
    "\n",
    "A partir du Nutri-Score, il sera possible dans le cadre du développement de l'application, de créer un MyHealthScore en adaptant les pondérations des autres valeurs nutritionnelles.\n",
    "\n",
    "On peut donc sélectionner les variables suivantes pour notre analyse :\n",
    "- `code`, `product_name` et `brands` pour identitifer les produits\n",
    "- `nutrition-score-fr_100g` qui correspond au socre nutritionnel\n",
    "- `nutrition_grade_fr` qui correspond au Nutri-Score, l'échelle graphique scindant le score nutritionnel en 5 classes A, B, C, D et E\n",
    "- `energy_100g`\n",
    "- `proteins_100g`\n",
    "- `fiber_100g`\n",
    "- `sodium_100g` et `salt_100g`, qui sont liées et dont l'analyse commune pourrait servir dans le traitement\n",
    "- `sugars_100g` et `carbohydrates_100g`\n",
    "- `saturated-fat_100g` et `fat_100g`\n",
    "- `pnns_groups_2` et `pnns_groups_1` qui permettent de classifier les produits dans des catégories plus ou moins précises"
   ]
  },
  {
   "cell_type": "code",
   "execution_count": 25,
   "id": "d8e95844",
   "metadata": {},
   "outputs": [],
   "source": [
    "# select work features\n",
    "workFeatures=[\"code\",\n",
    "               \"product_name\",\n",
    "               \"brands\",\n",
    "               \"pnns_groups_1\",\n",
    "               \"pnns_groups_2\",\n",
    "               \"nutrition-score-fr_100g\",\n",
    "               \"nutrition_grade_fr\",\n",
    "               \"salt_100g\",\n",
    "               \"carbohydrates_100g\",\n",
    "               \"fat_100g\"]+theoricalFeaturesNames\n",
    "workFeatures.remove(\"fruits-vegetables-nuts_100g\")"
   ]
  },
  {
   "cell_type": "code",
   "execution_count": 26,
   "id": "e842d36c",
   "metadata": {},
   "outputs": [
    {
     "data": {
      "text/html": [
       "<div>\n",
       "<style scoped>\n",
       "    .dataframe tbody tr th:only-of-type {\n",
       "        vertical-align: middle;\n",
       "    }\n",
       "\n",
       "    .dataframe tbody tr th {\n",
       "        vertical-align: top;\n",
       "    }\n",
       "\n",
       "    .dataframe thead th {\n",
       "        text-align: right;\n",
       "    }\n",
       "</style>\n",
       "<table border=\"1\" class=\"dataframe\">\n",
       "  <thead>\n",
       "    <tr style=\"text-align: right;\">\n",
       "      <th></th>\n",
       "      <th>code</th>\n",
       "      <th>product_name</th>\n",
       "      <th>brands</th>\n",
       "      <th>pnns_groups_1</th>\n",
       "      <th>pnns_groups_2</th>\n",
       "      <th>nutrition-score-fr_100g</th>\n",
       "      <th>nutrition_grade_fr</th>\n",
       "      <th>salt_100g</th>\n",
       "      <th>carbohydrates_100g</th>\n",
       "      <th>fat_100g</th>\n",
       "      <th>energy_100g</th>\n",
       "      <th>sugars_100g</th>\n",
       "      <th>saturated-fat_100g</th>\n",
       "      <th>sodium_100g</th>\n",
       "      <th>fiber_100g</th>\n",
       "      <th>proteins_100g</th>\n",
       "    </tr>\n",
       "  </thead>\n",
       "  <tbody>\n",
       "    <tr>\n",
       "      <th>0</th>\n",
       "      <td>0000000003087</td>\n",
       "      <td>Farine de blé noir</td>\n",
       "      <td>Ferme t'y R'nao</td>\n",
       "      <td>NaN</td>\n",
       "      <td>NaN</td>\n",
       "      <td>NaN</td>\n",
       "      <td>NaN</td>\n",
       "      <td>NaN</td>\n",
       "      <td>NaN</td>\n",
       "      <td>NaN</td>\n",
       "      <td>NaN</td>\n",
       "      <td>NaN</td>\n",
       "      <td>NaN</td>\n",
       "      <td>NaN</td>\n",
       "      <td>NaN</td>\n",
       "      <td>NaN</td>\n",
       "    </tr>\n",
       "    <tr>\n",
       "      <th>46</th>\n",
       "      <td>0000000024600</td>\n",
       "      <td>Filet de bœuf</td>\n",
       "      <td>NaN</td>\n",
       "      <td>unknown</td>\n",
       "      <td>unknown</td>\n",
       "      <td>NaN</td>\n",
       "      <td>NaN</td>\n",
       "      <td>NaN</td>\n",
       "      <td>NaN</td>\n",
       "      <td>NaN</td>\n",
       "      <td>NaN</td>\n",
       "      <td>NaN</td>\n",
       "      <td>NaN</td>\n",
       "      <td>NaN</td>\n",
       "      <td>NaN</td>\n",
       "      <td>NaN</td>\n",
       "    </tr>\n",
       "    <tr>\n",
       "      <th>48</th>\n",
       "      <td>0000000027205</td>\n",
       "      <td>NaN</td>\n",
       "      <td>NaN</td>\n",
       "      <td>NaN</td>\n",
       "      <td>NaN</td>\n",
       "      <td>NaN</td>\n",
       "      <td>NaN</td>\n",
       "      <td>NaN</td>\n",
       "      <td>NaN</td>\n",
       "      <td>NaN</td>\n",
       "      <td>NaN</td>\n",
       "      <td>NaN</td>\n",
       "      <td>NaN</td>\n",
       "      <td>NaN</td>\n",
       "      <td>NaN</td>\n",
       "      <td>NaN</td>\n",
       "    </tr>\n",
       "    <tr>\n",
       "      <th>106</th>\n",
       "      <td>0000000036252</td>\n",
       "      <td>Lion Peanut x2</td>\n",
       "      <td>Sunridge</td>\n",
       "      <td>unknown</td>\n",
       "      <td>unknown</td>\n",
       "      <td>22.0</td>\n",
       "      <td>e</td>\n",
       "      <td>0.09652</td>\n",
       "      <td>70.0</td>\n",
       "      <td>20.0</td>\n",
       "      <td>1883.0</td>\n",
       "      <td>57.5</td>\n",
       "      <td>12.5</td>\n",
       "      <td>0.038</td>\n",
       "      <td>2.5</td>\n",
       "      <td>2.5</td>\n",
       "    </tr>\n",
       "    <tr>\n",
       "      <th>136</th>\n",
       "      <td>0000000039259</td>\n",
       "      <td>Twix x2</td>\n",
       "      <td>NaN</td>\n",
       "      <td>unknown</td>\n",
       "      <td>unknown</td>\n",
       "      <td>NaN</td>\n",
       "      <td>NaN</td>\n",
       "      <td>NaN</td>\n",
       "      <td>NaN</td>\n",
       "      <td>NaN</td>\n",
       "      <td>NaN</td>\n",
       "      <td>NaN</td>\n",
       "      <td>NaN</td>\n",
       "      <td>NaN</td>\n",
       "      <td>NaN</td>\n",
       "      <td>NaN</td>\n",
       "    </tr>\n",
       "    <tr>\n",
       "      <th>...</th>\n",
       "      <td>...</td>\n",
       "      <td>...</td>\n",
       "      <td>...</td>\n",
       "      <td>...</td>\n",
       "      <td>...</td>\n",
       "      <td>...</td>\n",
       "      <td>...</td>\n",
       "      <td>...</td>\n",
       "      <td>...</td>\n",
       "      <td>...</td>\n",
       "      <td>...</td>\n",
       "      <td>...</td>\n",
       "      <td>...</td>\n",
       "      <td>...</td>\n",
       "      <td>...</td>\n",
       "      <td>...</td>\n",
       "    </tr>\n",
       "    <tr>\n",
       "      <th>320761</th>\n",
       "      <td>9906410000009</td>\n",
       "      <td>Roussette du Bugey (2011)</td>\n",
       "      <td>Roussette du Bugey</td>\n",
       "      <td>NaN</td>\n",
       "      <td>Alcoholic beverages</td>\n",
       "      <td>NaN</td>\n",
       "      <td>NaN</td>\n",
       "      <td>NaN</td>\n",
       "      <td>NaN</td>\n",
       "      <td>NaN</td>\n",
       "      <td>NaN</td>\n",
       "      <td>NaN</td>\n",
       "      <td>NaN</td>\n",
       "      <td>NaN</td>\n",
       "      <td>NaN</td>\n",
       "      <td>NaN</td>\n",
       "    </tr>\n",
       "    <tr>\n",
       "      <th>320763</th>\n",
       "      <td>99111250</td>\n",
       "      <td>Thé vert Earl grey</td>\n",
       "      <td>Lobodis</td>\n",
       "      <td>Beverages</td>\n",
       "      <td>Non-sugared beverages</td>\n",
       "      <td>2.0</td>\n",
       "      <td>c</td>\n",
       "      <td>0.02540</td>\n",
       "      <td>0.5</td>\n",
       "      <td>0.2</td>\n",
       "      <td>21.0</td>\n",
       "      <td>0.5</td>\n",
       "      <td>0.2</td>\n",
       "      <td>0.010</td>\n",
       "      <td>0.2</td>\n",
       "      <td>0.5</td>\n",
       "    </tr>\n",
       "    <tr>\n",
       "      <th>320764</th>\n",
       "      <td>9918</td>\n",
       "      <td>Cheese cake thé vert, yuzu</td>\n",
       "      <td>NaN</td>\n",
       "      <td>NaN</td>\n",
       "      <td>NaN</td>\n",
       "      <td>NaN</td>\n",
       "      <td>NaN</td>\n",
       "      <td>NaN</td>\n",
       "      <td>NaN</td>\n",
       "      <td>NaN</td>\n",
       "      <td>NaN</td>\n",
       "      <td>NaN</td>\n",
       "      <td>NaN</td>\n",
       "      <td>NaN</td>\n",
       "      <td>NaN</td>\n",
       "      <td>NaN</td>\n",
       "    </tr>\n",
       "    <tr>\n",
       "      <th>320765</th>\n",
       "      <td>9935010000003</td>\n",
       "      <td>Rillette d'oie</td>\n",
       "      <td>Sans marque,D.Lambert</td>\n",
       "      <td>Fish Meat Eggs</td>\n",
       "      <td>Processed meat</td>\n",
       "      <td>NaN</td>\n",
       "      <td>NaN</td>\n",
       "      <td>NaN</td>\n",
       "      <td>NaN</td>\n",
       "      <td>NaN</td>\n",
       "      <td>NaN</td>\n",
       "      <td>NaN</td>\n",
       "      <td>NaN</td>\n",
       "      <td>NaN</td>\n",
       "      <td>NaN</td>\n",
       "      <td>NaN</td>\n",
       "    </tr>\n",
       "    <tr>\n",
       "      <th>320770</th>\n",
       "      <td>9980282863788</td>\n",
       "      <td>Tomates aux Vermicelles</td>\n",
       "      <td>Knorr</td>\n",
       "      <td>NaN</td>\n",
       "      <td>NaN</td>\n",
       "      <td>NaN</td>\n",
       "      <td>NaN</td>\n",
       "      <td>NaN</td>\n",
       "      <td>NaN</td>\n",
       "      <td>NaN</td>\n",
       "      <td>NaN</td>\n",
       "      <td>NaN</td>\n",
       "      <td>NaN</td>\n",
       "      <td>NaN</td>\n",
       "      <td>NaN</td>\n",
       "      <td>NaN</td>\n",
       "    </tr>\n",
       "  </tbody>\n",
       "</table>\n",
       "<p>98800 rows × 16 columns</p>\n",
       "</div>"
      ],
      "text/plain": [
       "                 code                product_name                 brands  \\\n",
       "0       0000000003087          Farine de blé noir        Ferme t'y R'nao   \n",
       "46      0000000024600               Filet de bœuf                    NaN   \n",
       "48      0000000027205                         NaN                    NaN   \n",
       "106     0000000036252              Lion Peanut x2               Sunridge   \n",
       "136     0000000039259                     Twix x2                    NaN   \n",
       "...               ...                         ...                    ...   \n",
       "320761  9906410000009   Roussette du Bugey (2011)     Roussette du Bugey   \n",
       "320763       99111250          Thé vert Earl grey                Lobodis   \n",
       "320764           9918  Cheese cake thé vert, yuzu                    NaN   \n",
       "320765  9935010000003              Rillette d'oie  Sans marque,D.Lambert   \n",
       "320770  9980282863788    Tomates aux Vermicelles                   Knorr   \n",
       "\n",
       "         pnns_groups_1          pnns_groups_2  nutrition-score-fr_100g  \\\n",
       "0                  NaN                    NaN                      NaN   \n",
       "46             unknown                unknown                      NaN   \n",
       "48                 NaN                    NaN                      NaN   \n",
       "106            unknown                unknown                     22.0   \n",
       "136            unknown                unknown                      NaN   \n",
       "...                ...                    ...                      ...   \n",
       "320761             NaN    Alcoholic beverages                      NaN   \n",
       "320763       Beverages  Non-sugared beverages                      2.0   \n",
       "320764             NaN                    NaN                      NaN   \n",
       "320765  Fish Meat Eggs         Processed meat                      NaN   \n",
       "320770             NaN                    NaN                      NaN   \n",
       "\n",
       "       nutrition_grade_fr  salt_100g  carbohydrates_100g  fat_100g  \\\n",
       "0                     NaN        NaN                 NaN       NaN   \n",
       "46                    NaN        NaN                 NaN       NaN   \n",
       "48                    NaN        NaN                 NaN       NaN   \n",
       "106                     e    0.09652                70.0      20.0   \n",
       "136                   NaN        NaN                 NaN       NaN   \n",
       "...                   ...        ...                 ...       ...   \n",
       "320761                NaN        NaN                 NaN       NaN   \n",
       "320763                  c    0.02540                 0.5       0.2   \n",
       "320764                NaN        NaN                 NaN       NaN   \n",
       "320765                NaN        NaN                 NaN       NaN   \n",
       "320770                NaN        NaN                 NaN       NaN   \n",
       "\n",
       "        energy_100g  sugars_100g  saturated-fat_100g  sodium_100g  fiber_100g  \\\n",
       "0               NaN          NaN                 NaN          NaN         NaN   \n",
       "46              NaN          NaN                 NaN          NaN         NaN   \n",
       "48              NaN          NaN                 NaN          NaN         NaN   \n",
       "106          1883.0         57.5                12.5        0.038         2.5   \n",
       "136             NaN          NaN                 NaN          NaN         NaN   \n",
       "...             ...          ...                 ...          ...         ...   \n",
       "320761          NaN          NaN                 NaN          NaN         NaN   \n",
       "320763         21.0          0.5                 0.2        0.010         0.2   \n",
       "320764          NaN          NaN                 NaN          NaN         NaN   \n",
       "320765          NaN          NaN                 NaN          NaN         NaN   \n",
       "320770          NaN          NaN                 NaN          NaN         NaN   \n",
       "\n",
       "        proteins_100g  \n",
       "0                 NaN  \n",
       "46                NaN  \n",
       "48                NaN  \n",
       "106               2.5  \n",
       "136               NaN  \n",
       "...               ...  \n",
       "320761            NaN  \n",
       "320763            0.5  \n",
       "320764            NaN  \n",
       "320765            NaN  \n",
       "320770            NaN  \n",
       "\n",
       "[98800 rows x 16 columns]"
      ]
     },
     "execution_count": 26,
     "metadata": {},
     "output_type": "execute_result"
    }
   ],
   "source": [
    "foodRawLight = foodRawFr.copy()\n",
    "foodRawLight = foodRawLight[workFeatures]\n",
    "foodRawLight"
   ]
  },
  {
   "cell_type": "markdown",
   "id": "42590b0c",
   "metadata": {},
   "source": [
    "# Partie 2 - Nettoyage"
   ]
  },
  {
   "cell_type": "markdown",
   "id": "8beb9a4b",
   "metadata": {},
   "source": [
    "## P2.1. Nommage des colonnes"
   ]
  },
  {
   "cell_type": "markdown",
   "id": "0e6a16bb",
   "metadata": {},
   "source": [
    "Pour faciliter le traitement, nous renommons certaines colonnes pour supprimer les \"-\" et les remplacer par des \"_\" :"
   ]
  },
  {
   "cell_type": "code",
   "execution_count": 27,
   "id": "1b0d618b",
   "metadata": {},
   "outputs": [],
   "source": [
    "# use only underscore for column names\n",
    "\n",
    "foodRawLightUnder=foodRawLight.copy() # create a copy\n",
    "foodRawLightUnder.rename(columns={col : col.replace(\"-\",\"_\") for col in foodRawLightUnder.columns}, # replace \"-\" by \"_\"\n",
    "                         inplace=True\n",
    "                        )\n",
    "workFeatures=foodRawLightUnder.columns.tolist()"
   ]
  },
  {
   "cell_type": "markdown",
   "id": "52c4a675",
   "metadata": {},
   "source": [
    "## P2.2. Éliminer les doublons\n",
    "\n",
    "Pour repérer les produit présents deux fois, nous pouvons dans un premier temps regarder la colonne \"code\".\n",
    "\n",
    "### P2.2.1. Des produits en double ? \"code\""
   ]
  },
  {
   "cell_type": "code",
   "execution_count": 28,
   "id": "376010f6",
   "metadata": {},
   "outputs": [
    {
     "data": {
      "text/plain": [
       "237042    3538280031515\n",
       "221798    3276650102228\n",
       "207698    3250392122737\n",
       "196074    3165440002414\n",
       "274378    5060042641413\n",
       "Name: code, dtype: object"
      ]
     },
     "execution_count": 28,
     "metadata": {},
     "output_type": "execute_result"
    }
   ],
   "source": [
    "foodRawLightUnder.code.sample(5)"
   ]
  },
  {
   "cell_type": "markdown",
   "id": "e68ffaca",
   "metadata": {},
   "source": [
    "le format du code à l'air d'être une suite de 13 chiffres.\n",
    "Cependant le type \"object\" de la Series interroge."
   ]
  },
  {
   "cell_type": "code",
   "execution_count": 29,
   "id": "3ae3d7c8",
   "metadata": {},
   "outputs": [
    {
     "data": {
      "text/plain": [
       "1         2\n",
       "2         1\n",
       "3         2\n",
       "4         6\n",
       "5        10\n",
       "6        32\n",
       "7        38\n",
       "8      6186\n",
       "9         6\n",
       "10       33\n",
       "11       30\n",
       "12       36\n",
       "13    92329\n",
       "14       51\n",
       "15       23\n",
       "16        3\n",
       "17        1\n",
       "22        1\n",
       "24        4\n",
       "25        1\n",
       "31        1\n",
       "32        2\n",
       "40        1\n",
       "41        1\n",
       "Name: code, dtype: int64"
      ]
     },
     "execution_count": 29,
     "metadata": {},
     "output_type": "execute_result"
    }
   ],
   "source": [
    "# looking to the lenght of \"code\" values for formatting issues\n",
    "foodRawLightUnder.code.str.len().value_counts(dropna=False).sort_index()"
   ]
  },
  {
   "cell_type": "markdown",
   "id": "01d3b8c6",
   "metadata": {},
   "source": [
    "Après quelques recherches, les deux formats les plus représentés correspondent aux systèmes EAN 8 et EAN 13 (EAN pour *European Article Numbering*). Ces deux systèmes sont les plus utilisés en Europe.\n",
    "\n",
    "Nous faisons le choix de nous séparer des 285 produits aux codes barres non formatés EAN 8 ou 13 : l'usage principal du MyHealthScore se fera via l'application et le scan de code barre."
   ]
  },
  {
   "cell_type": "code",
   "execution_count": 30,
   "id": "3cc1d6b0",
   "metadata": {},
   "outputs": [],
   "source": [
    "foodClean01=foodRawLightUnder.copy()\n",
    "# keep only the values of \"code\" whose length is 8 or 13\n",
    "foodClean01=foodClean01.loc[(foodClean01.code.str.len()==8)|(foodClean01.code.str.len()==13)]"
   ]
  },
  {
   "cell_type": "markdown",
   "id": "4b1710b7",
   "metadata": {},
   "source": [
    "Nous pouvons maintenant regarder s'il y a des produits en double :"
   ]
  },
  {
   "cell_type": "code",
   "execution_count": 31,
   "id": "6cfda0d3",
   "metadata": {},
   "outputs": [
    {
     "data": {
      "text/html": [
       "<div>\n",
       "<style scoped>\n",
       "    .dataframe tbody tr th:only-of-type {\n",
       "        vertical-align: middle;\n",
       "    }\n",
       "\n",
       "    .dataframe tbody tr th {\n",
       "        vertical-align: top;\n",
       "    }\n",
       "\n",
       "    .dataframe thead th {\n",
       "        text-align: right;\n",
       "    }\n",
       "</style>\n",
       "<table border=\"1\" class=\"dataframe\">\n",
       "  <thead>\n",
       "    <tr style=\"text-align: right;\">\n",
       "      <th></th>\n",
       "      <th>code</th>\n",
       "      <th>product_name</th>\n",
       "      <th>brands</th>\n",
       "      <th>pnns_groups_1</th>\n",
       "      <th>pnns_groups_2</th>\n",
       "      <th>nutrition_score_fr_100g</th>\n",
       "      <th>nutrition_grade_fr</th>\n",
       "      <th>salt_100g</th>\n",
       "      <th>carbohydrates_100g</th>\n",
       "      <th>fat_100g</th>\n",
       "      <th>energy_100g</th>\n",
       "      <th>sugars_100g</th>\n",
       "      <th>saturated_fat_100g</th>\n",
       "      <th>sodium_100g</th>\n",
       "      <th>fiber_100g</th>\n",
       "      <th>proteins_100g</th>\n",
       "    </tr>\n",
       "  </thead>\n",
       "  <tbody>\n",
       "  </tbody>\n",
       "</table>\n",
       "</div>"
      ],
      "text/plain": [
       "Empty DataFrame\n",
       "Columns: [code, product_name, brands, pnns_groups_1, pnns_groups_2, nutrition_score_fr_100g, nutrition_grade_fr, salt_100g, carbohydrates_100g, fat_100g, energy_100g, sugars_100g, saturated_fat_100g, sodium_100g, fiber_100g, proteins_100g]\n",
       "Index: []"
      ]
     },
     "execution_count": 31,
     "metadata": {},
     "output_type": "execute_result"
    }
   ],
   "source": [
    "#look for duplicates in column \"code\"\n",
    "foodClean01.loc[foodClean01.code.duplicated(keep=False)]"
   ]
  },
  {
   "cell_type": "markdown",
   "id": "cc6b26be",
   "metadata": {},
   "source": [
    "Il ne semble pas y avoir de produits différents utilisant le même code-barre.\n",
    "\n",
    "Une autre manière de repérer les doublons et de regarder la colonne \"product_name\"."
   ]
  },
  {
   "cell_type": "markdown",
   "id": "6787e055",
   "metadata": {},
   "source": [
    "### P2.2.2. Des produits en double ? \"product_name\" \n",
    "\n",
    "Nous n'avons que des produits au code-barre unique. Mais le même produit a pu être étiqueté avec 2 code-barres différents. Regardons."
   ]
  },
  {
   "cell_type": "code",
   "execution_count": 32,
   "id": "d8b42dca",
   "metadata": {},
   "outputs": [
    {
     "data": {
      "text/plain": [
       "Huile d'olive vierge extra        62\n",
       "Mayonnaise                        54\n",
       "Moutarde de Dijon                 49\n",
       "Orange                            46\n",
       "Spaghetti                         46\n",
       "                                  ..\n",
       "3 Œufs avec surprise               1\n",
       "20 saucisses de Strasbourg         1\n",
       "Gelée extra Mûre                   1\n",
       "noir Eclats de fèves 72% cacao     1\n",
       "Tomates aux Vermicelles            1\n",
       "Name: product_name, Length: 74413, dtype: int64"
      ]
     },
     "execution_count": 32,
     "metadata": {},
     "output_type": "execute_result"
    }
   ],
   "source": [
    "foodClean01.product_name.value_counts()"
   ]
  },
  {
   "cell_type": "markdown",
   "id": "d56e0fc8",
   "metadata": {},
   "source": [
    "Nous ne sommes pas assez précis. Nous ne pouvons pas considérer seulement \"product_name\" pour rechercher les doublons. Regardons également \"brands\"."
   ]
  },
  {
   "cell_type": "markdown",
   "id": "81f2cf22",
   "metadata": {},
   "source": [
    "### P2.2.3. Des produits en double ? \"product_name\" ET \"brands\"\n",
    "\n",
    "Regardons si des noms de produits sont présents plusieurs fois sous la même marque :"
   ]
  },
  {
   "cell_type": "code",
   "execution_count": 33,
   "id": "2f13348d",
   "metadata": {
    "scrolled": true
   },
   "outputs": [
    {
     "data": {
      "text/html": [
       "<div>\n",
       "<style scoped>\n",
       "    .dataframe tbody tr th:only-of-type {\n",
       "        vertical-align: middle;\n",
       "    }\n",
       "\n",
       "    .dataframe tbody tr th {\n",
       "        vertical-align: top;\n",
       "    }\n",
       "\n",
       "    .dataframe thead th {\n",
       "        text-align: right;\n",
       "    }\n",
       "</style>\n",
       "<table border=\"1\" class=\"dataframe\">\n",
       "  <thead>\n",
       "    <tr style=\"text-align: right;\">\n",
       "      <th></th>\n",
       "      <th></th>\n",
       "      <th>code</th>\n",
       "    </tr>\n",
       "    <tr>\n",
       "      <th>product_name</th>\n",
       "      <th>brands</th>\n",
       "      <th></th>\n",
       "    </tr>\n",
       "  </thead>\n",
       "  <tbody>\n",
       "    <tr>\n",
       "      <th>Coca-Cola</th>\n",
       "      <th>Coca-Cola</th>\n",
       "      <td>20</td>\n",
       "    </tr>\n",
       "    <tr>\n",
       "      <th>Pom'potes</th>\n",
       "      <th>Materne</th>\n",
       "      <td>15</td>\n",
       "    </tr>\n",
       "    <tr>\n",
       "      <th>Nutella</th>\n",
       "      <th>Ferrero,Nutella</th>\n",
       "      <td>14</td>\n",
       "    </tr>\n",
       "    <tr>\n",
       "      <th>Orangina</th>\n",
       "      <th>Orangina</th>\n",
       "      <td>14</td>\n",
       "    </tr>\n",
       "    <tr>\n",
       "      <th>Nesquik</th>\n",
       "      <th>Nestlé,Nesquik</th>\n",
       "      <td>11</td>\n",
       "    </tr>\n",
       "    <tr>\n",
       "      <th>Perrier</th>\n",
       "      <th>Perrier</th>\n",
       "      <td>11</td>\n",
       "    </tr>\n",
       "    <tr>\n",
       "      <th>Auchan</th>\n",
       "      <th>Auchan</th>\n",
       "      <td>10</td>\n",
       "    </tr>\n",
       "    <tr>\n",
       "      <th>Nutella</th>\n",
       "      <th>Ferrero</th>\n",
       "      <td>10</td>\n",
       "    </tr>\n",
       "    <tr>\n",
       "      <th>Mousline</th>\n",
       "      <th>Maggi</th>\n",
       "      <td>9</td>\n",
       "    </tr>\n",
       "    <tr>\n",
       "      <th>Mayonnaise à la moutarde de Dijon</th>\n",
       "      <th>Carrefour</th>\n",
       "      <td>9</td>\n",
       "    </tr>\n",
       "  </tbody>\n",
       "</table>\n",
       "</div>"
      ],
      "text/plain": [
       "                                                   code\n",
       "product_name                      brands               \n",
       "Coca-Cola                         Coca-Cola          20\n",
       "Pom'potes                         Materne            15\n",
       "Nutella                           Ferrero,Nutella    14\n",
       "Orangina                          Orangina           14\n",
       "Nesquik                           Nestlé,Nesquik     11\n",
       "Perrier                           Perrier            11\n",
       "Auchan                            Auchan             10\n",
       "Nutella                           Ferrero            10\n",
       "Mousline                          Maggi               9\n",
       "Mayonnaise à la moutarde de Dijon Carrefour           9"
      ]
     },
     "execution_count": 33,
     "metadata": {},
     "output_type": "execute_result"
    }
   ],
   "source": [
    "# look in non null values for \"product_name\",\"brands\" and \"code\" for products with the same name and brand :\n",
    "foodClean01[[\"product_name\",\"brands\",'code']].loc[foodClean01[[\"product_name\",\"brands\",'code']].notna().all(axis=1)].groupby(['product_name',\"brands\"]).count().sort_values(\"code\",ascending=False).head(10)"
   ]
  },
  {
   "cell_type": "markdown",
   "id": "eacfaeb0",
   "metadata": {},
   "source": [
    "Il y a donc des doublons. Ceux-ci peuvent être expliqués par :\n",
    "- un même produit rentré plusieurs fois sous des codes différents\n",
    "- un même produit avec des quantités différentes (un pack de 6 bouteilles versus une bouteille seule)\n",
    "\n",
    "Le score n'a pas vocation à prendre en compte la quantité. Ce sont les qualités intrinsèques du produit, pour 100g en l'occurrence, qui nous intéressent.\n",
    "\n",
    "Nous allons donc supprimer ces doublons."
   ]
  },
  {
   "cell_type": "code",
   "execution_count": 34,
   "id": "294fee75",
   "metadata": {},
   "outputs": [],
   "source": [
    "foodClean02=foodClean01.copy()\n",
    "foodClean02=foodClean02.loc[\n",
    "    (foodClean02[[\"product_name\",\"brands\"]].isna().any(axis=1)) # be carefull to keep the rows where \"product_name\" or \"brands\" is NaN\n",
    "    | # or :\n",
    "    ~(foodClean02[[\"product_name\",\"brands\"]].duplicated(subset=[\"product_name\",\"brands\"],keep='last')) # non duplicated values for both features\n",
    "]"
   ]
  },
  {
   "cell_type": "code",
   "execution_count": 35,
   "id": "c3f1c74f",
   "metadata": {},
   "outputs": [
    {
     "name": "stdout",
     "output_type": "stream",
     "text": [
      "On a retiré  3105  produits considérés comme doublons\n"
     ]
    }
   ],
   "source": [
    "print(\"On a retiré \",foodClean01.shape[0]-foodClean02.shape[0],\" produits considérés comme doublons\")"
   ]
  },
  {
   "cell_type": "markdown",
   "id": "202bcfd2",
   "metadata": {},
   "source": [
    "### P2.2.3. BIS (A SUPPRIMER) Check avec \"quantity\"\n",
    "\n",
    "\"quantity\" n'était pas très remplie, mais réintégrons là provisoirement pour voir ce qu'il en est.\n"
   ]
  },
  {
   "cell_type": "code",
   "execution_count": 36,
   "id": "a6747871",
   "metadata": {},
   "outputs": [],
   "source": [
    "checkQtDf=foodClean01.copy()"
   ]
  },
  {
   "cell_type": "code",
   "execution_count": 37,
   "id": "c124b565",
   "metadata": {},
   "outputs": [],
   "source": [
    "checkQtDf[\"quantity\"]=foodRawFr.quantity.loc[checkQtDf.index]"
   ]
  },
  {
   "cell_type": "code",
   "execution_count": 38,
   "id": "8e1b44f8",
   "metadata": {
    "scrolled": false
   },
   "outputs": [
    {
     "data": {
      "text/html": [
       "<div>\n",
       "<style scoped>\n",
       "    .dataframe tbody tr th:only-of-type {\n",
       "        vertical-align: middle;\n",
       "    }\n",
       "\n",
       "    .dataframe tbody tr th {\n",
       "        vertical-align: top;\n",
       "    }\n",
       "\n",
       "    .dataframe thead th {\n",
       "        text-align: right;\n",
       "    }\n",
       "</style>\n",
       "<table border=\"1\" class=\"dataframe\">\n",
       "  <thead>\n",
       "    <tr style=\"text-align: right;\">\n",
       "      <th></th>\n",
       "      <th></th>\n",
       "      <th></th>\n",
       "      <th>code</th>\n",
       "    </tr>\n",
       "    <tr>\n",
       "      <th>product_name</th>\n",
       "      <th>brands</th>\n",
       "      <th>quantity</th>\n",
       "      <th></th>\n",
       "    </tr>\n",
       "  </thead>\n",
       "  <tbody>\n",
       "    <tr>\n",
       "      <th>Pâte à Sucre</th>\n",
       "      <th>Sainte Lucie</th>\n",
       "      <th>100 g</th>\n",
       "      <td>6</td>\n",
       "    </tr>\n",
       "    <tr>\n",
       "      <th>Framboises</th>\n",
       "      <th>Driscoll's</th>\n",
       "      <th>125 g</th>\n",
       "      <td>5</td>\n",
       "    </tr>\n",
       "    <tr>\n",
       "      <th>Riz long grain</th>\n",
       "      <th>Carrefour</th>\n",
       "      <th>1 kg</th>\n",
       "      <td>3</td>\n",
       "    </tr>\n",
       "    <tr>\n",
       "      <th>Thaï</th>\n",
       "      <th>Casino</th>\n",
       "      <th>500 g</th>\n",
       "      <td>3</td>\n",
       "    </tr>\n",
       "    <tr>\n",
       "      <th>Penne Rigate</th>\n",
       "      <th>Panzani</th>\n",
       "      <th>500 g</th>\n",
       "      <td>3</td>\n",
       "    </tr>\n",
       "    <tr>\n",
       "      <th>Barre énergie</th>\n",
       "      <th>FENIOUX</th>\n",
       "      <th>35g</th>\n",
       "      <td>3</td>\n",
       "    </tr>\n",
       "    <tr>\n",
       "      <th rowspan=\"2\" valign=\"top\">Coca-Cola</th>\n",
       "      <th rowspan=\"2\" valign=\"top\">Coca-Cola</th>\n",
       "      <th>4 * 250 ml</th>\n",
       "      <td>3</td>\n",
       "    </tr>\n",
       "    <tr>\n",
       "      <th>50 cl</th>\n",
       "      <td>3</td>\n",
       "    </tr>\n",
       "    <tr>\n",
       "      <th>Macaroni</th>\n",
       "      <th>Panzani</th>\n",
       "      <th>500 g</th>\n",
       "      <td>3</td>\n",
       "    </tr>\n",
       "    <tr>\n",
       "      <th>Fusilli</th>\n",
       "      <th>La Bio Idea</th>\n",
       "      <th>500 g</th>\n",
       "      <td>3</td>\n",
       "    </tr>\n",
       "    <tr>\n",
       "      <th>La Croix des Grèves Mt. St-Michel</th>\n",
       "      <th>Brasserie de la Baie</th>\n",
       "      <th>33 cl</th>\n",
       "      <td>3</td>\n",
       "    </tr>\n",
       "    <tr>\n",
       "      <th>Camembert d'Isigny (22% MG)</th>\n",
       "      <th>Isigny Ste Mère</th>\n",
       "      <th>250 g</th>\n",
       "      <td>3</td>\n",
       "    </tr>\n",
       "    <tr>\n",
       "      <th>Mayonnaise de Dijon</th>\n",
       "      <th>Amora</th>\n",
       "      <th>470 g</th>\n",
       "      <td>3</td>\n",
       "    </tr>\n",
       "    <tr>\n",
       "      <th>Le beurre tendre</th>\n",
       "      <th>Elle &amp; Vire</th>\n",
       "      <th>250 g</th>\n",
       "      <td>3</td>\n",
       "    </tr>\n",
       "    <tr>\n",
       "      <th>Pom'potes</th>\n",
       "      <th>Materne</th>\n",
       "      <th>90g</th>\n",
       "      <td>3</td>\n",
       "    </tr>\n",
       "    <tr>\n",
       "      <th>100% Mie Nature</th>\n",
       "      <th>Harrys</th>\n",
       "      <th>500 g</th>\n",
       "      <td>3</td>\n",
       "    </tr>\n",
       "    <tr>\n",
       "      <th>Haricots verts extra fins</th>\n",
       "      <th>Auchan</th>\n",
       "      <th>220 g</th>\n",
       "      <td>3</td>\n",
       "    </tr>\n",
       "    <tr>\n",
       "      <th>Confipote</th>\n",
       "      <th>Materne</th>\n",
       "      <th>350 g</th>\n",
       "      <td>3</td>\n",
       "    </tr>\n",
       "    <tr>\n",
       "      <th>Maxi Jac' Complet</th>\n",
       "      <th>Jacquet</th>\n",
       "      <th>550 g</th>\n",
       "      <td>3</td>\n",
       "    </tr>\n",
       "    <tr>\n",
       "      <th>Corn Flakes</th>\n",
       "      <th>Kellogg's</th>\n",
       "      <th>500 g</th>\n",
       "      <td>3</td>\n",
       "    </tr>\n",
       "  </tbody>\n",
       "</table>\n",
       "</div>"
      ],
      "text/plain": [
       "                                                                   code\n",
       "product_name                      brands               quantity        \n",
       "Pâte à Sucre                      Sainte Lucie         100 g          6\n",
       "Framboises                        Driscoll's           125 g          5\n",
       "Riz long grain                    Carrefour            1 kg           3\n",
       "Thaï                              Casino               500 g          3\n",
       "Penne Rigate                      Panzani              500 g          3\n",
       "Barre énergie                     FENIOUX              35g            3\n",
       "Coca-Cola                         Coca-Cola            4 * 250 ml     3\n",
       "                                                       50 cl          3\n",
       "Macaroni                          Panzani              500 g          3\n",
       "Fusilli                           La Bio Idea          500 g          3\n",
       "La Croix des Grèves Mt. St-Michel Brasserie de la Baie 33 cl          3\n",
       "Camembert d'Isigny (22% MG)       Isigny Ste Mère      250 g          3\n",
       "Mayonnaise de Dijon               Amora                470 g          3\n",
       "Le beurre tendre                  Elle & Vire          250 g          3\n",
       "Pom'potes                         Materne              90g            3\n",
       "100% Mie Nature                   Harrys               500 g          3\n",
       "Haricots verts extra fins         Auchan               220 g          3\n",
       "Confipote                         Materne              350 g          3\n",
       "Maxi Jac' Complet                 Jacquet              550 g          3\n",
       "Corn Flakes                       Kellogg's            500 g          3"
      ]
     },
     "execution_count": 38,
     "metadata": {},
     "output_type": "execute_result"
    }
   ],
   "source": [
    "checkQtDf[[\"product_name\",\"brands\",\"quantity\",\"code\"]].loc[checkQtDf[[\"product_name\",\"brands\",\"quantity\",\"code\"]].notna().all(axis=1)].groupby([\"product_name\",\"brands\",\"quantity\"]).count().sort_values(\"code\",ascending=False).head(20)"
   ]
  },
  {
   "cell_type": "markdown",
   "id": "880a1ee4",
   "metadata": {},
   "source": [
    "La quantité rentre donc bien en jeu. Les \"vrais\" doublons sont moins nombreux. Il existe des produits dans la base de données renseignés avec plusieurs quantités différentes."
   ]
  },
  {
   "cell_type": "code",
   "execution_count": 39,
   "id": "6c6fb3ed",
   "metadata": {},
   "outputs": [],
   "source": [
    "checkQtDf=checkQtDf.loc[\n",
    "    (checkQtDf[[\"product_name\",\"brands\",\"quantity\"]].isna().any(axis=1)) | # be carefull to keep the rows where \"product_name\" or \"brands\" is NaN\n",
    "    ~(checkQtDf[[\"product_name\",\"brands\",\"quantity\"]].duplicated(subset=[\"product_name\",\"brands\",\"quantity\"],keep='last')) # \n",
    "]"
   ]
  },
  {
   "cell_type": "code",
   "execution_count": 40,
   "id": "c8924a15",
   "metadata": {},
   "outputs": [
    {
     "name": "stdout",
     "output_type": "stream",
     "text": [
      "On aurait retiré  316  produits\n"
     ]
    }
   ],
   "source": [
    "print(\"On aurait retiré \",foodClean01.shape[0]-checkQtDf.shape[0],\" produits\")"
   ]
  },
  {
   "cell_type": "markdown",
   "id": "454bf2d5",
   "metadata": {},
   "source": [
    "## P2.3. Traiter les outliers\n",
    "\n",
    "On sait que les outliers ont un imppact négatif sur la moyenne et l'écart type empiriques de nos variables. Avant de nous concentrer sur l'imputation des valeurs manquantes, il faut d'abord traiter ces outliers. Regardons dans un premiers temps les valeurs min et max des variables numériques :"
   ]
  },
  {
   "cell_type": "code",
   "execution_count": 41,
   "id": "12f8f3bd",
   "metadata": {},
   "outputs": [
    {
     "data": {
      "text/html": [
       "<div>\n",
       "<style scoped>\n",
       "    .dataframe tbody tr th:only-of-type {\n",
       "        vertical-align: middle;\n",
       "    }\n",
       "\n",
       "    .dataframe tbody tr th {\n",
       "        vertical-align: top;\n",
       "    }\n",
       "\n",
       "    .dataframe thead th {\n",
       "        text-align: right;\n",
       "    }\n",
       "</style>\n",
       "<table border=\"1\" class=\"dataframe\">\n",
       "  <thead>\n",
       "    <tr style=\"text-align: right;\">\n",
       "      <th></th>\n",
       "      <th>nutrition_score_fr_100g</th>\n",
       "      <th>salt_100g</th>\n",
       "      <th>carbohydrates_100g</th>\n",
       "      <th>fat_100g</th>\n",
       "      <th>energy_100g</th>\n",
       "      <th>sugars_100g</th>\n",
       "      <th>saturated_fat_100g</th>\n",
       "      <th>sodium_100g</th>\n",
       "      <th>fiber_100g</th>\n",
       "      <th>proteins_100g</th>\n",
       "    </tr>\n",
       "  </thead>\n",
       "  <tbody>\n",
       "    <tr>\n",
       "      <th>count</th>\n",
       "      <td>59076.000000</td>\n",
       "      <td>60197.000000</td>\n",
       "      <td>45154.000000</td>\n",
       "      <td>45585.000000</td>\n",
       "      <td>6.215600e+04</td>\n",
       "      <td>60145.000000</td>\n",
       "      <td>60007.000000</td>\n",
       "      <td>60194.000000</td>\n",
       "      <td>44059.000000</td>\n",
       "      <td>61881.000000</td>\n",
       "    </tr>\n",
       "    <tr>\n",
       "      <th>mean</th>\n",
       "      <td>8.676366</td>\n",
       "      <td>1.162005</td>\n",
       "      <td>27.839665</td>\n",
       "      <td>13.293629</td>\n",
       "      <td>1.174376e+03</td>\n",
       "      <td>13.396842</td>\n",
       "      <td>5.451226</td>\n",
       "      <td>0.457503</td>\n",
       "      <td>2.576606</td>\n",
       "      <td>7.787648</td>\n",
       "    </tr>\n",
       "    <tr>\n",
       "      <th>std</th>\n",
       "      <td>9.038369</td>\n",
       "      <td>4.261100</td>\n",
       "      <td>27.348395</td>\n",
       "      <td>16.752498</td>\n",
       "      <td>1.308400e+04</td>\n",
       "      <td>19.010655</td>\n",
       "      <td>8.554641</td>\n",
       "      <td>1.677578</td>\n",
       "      <td>4.682310</td>\n",
       "      <td>7.889584</td>\n",
       "    </tr>\n",
       "    <tr>\n",
       "      <th>min</th>\n",
       "      <td>-15.000000</td>\n",
       "      <td>0.000000</td>\n",
       "      <td>0.000000</td>\n",
       "      <td>0.000000</td>\n",
       "      <td>0.000000e+00</td>\n",
       "      <td>-0.100000</td>\n",
       "      <td>0.000000</td>\n",
       "      <td>0.000000</td>\n",
       "      <td>0.000000</td>\n",
       "      <td>0.000000</td>\n",
       "    </tr>\n",
       "    <tr>\n",
       "      <th>25%</th>\n",
       "      <td>1.000000</td>\n",
       "      <td>0.080000</td>\n",
       "      <td>4.100000</td>\n",
       "      <td>1.400000</td>\n",
       "      <td>4.310000e+02</td>\n",
       "      <td>1.000000</td>\n",
       "      <td>0.300000</td>\n",
       "      <td>0.031496</td>\n",
       "      <td>0.000000</td>\n",
       "      <td>1.900000</td>\n",
       "    </tr>\n",
       "    <tr>\n",
       "      <th>50%</th>\n",
       "      <td>9.000000</td>\n",
       "      <td>0.560000</td>\n",
       "      <td>14.900000</td>\n",
       "      <td>7.000000</td>\n",
       "      <td>1.037000e+03</td>\n",
       "      <td>4.000000</td>\n",
       "      <td>2.000000</td>\n",
       "      <td>0.220472</td>\n",
       "      <td>1.400000</td>\n",
       "      <td>6.000000</td>\n",
       "    </tr>\n",
       "    <tr>\n",
       "      <th>75%</th>\n",
       "      <td>15.000000</td>\n",
       "      <td>1.250000</td>\n",
       "      <td>53.000000</td>\n",
       "      <td>21.000000</td>\n",
       "      <td>1.648000e+03</td>\n",
       "      <td>17.860000</td>\n",
       "      <td>7.500000</td>\n",
       "      <td>0.492126</td>\n",
       "      <td>3.200000</td>\n",
       "      <td>11.000000</td>\n",
       "    </tr>\n",
       "    <tr>\n",
       "      <th>max</th>\n",
       "      <td>40.000000</td>\n",
       "      <td>211.000000</td>\n",
       "      <td>190.000000</td>\n",
       "      <td>380.000000</td>\n",
       "      <td>3.251373e+06</td>\n",
       "      <td>105.000000</td>\n",
       "      <td>210.000000</td>\n",
       "      <td>83.000000</td>\n",
       "      <td>178.000000</td>\n",
       "      <td>100.000000</td>\n",
       "    </tr>\n",
       "  </tbody>\n",
       "</table>\n",
       "</div>"
      ],
      "text/plain": [
       "       nutrition_score_fr_100g     salt_100g  carbohydrates_100g  \\\n",
       "count             59076.000000  60197.000000        45154.000000   \n",
       "mean                  8.676366      1.162005           27.839665   \n",
       "std                   9.038369      4.261100           27.348395   \n",
       "min                 -15.000000      0.000000            0.000000   \n",
       "25%                   1.000000      0.080000            4.100000   \n",
       "50%                   9.000000      0.560000           14.900000   \n",
       "75%                  15.000000      1.250000           53.000000   \n",
       "max                  40.000000    211.000000          190.000000   \n",
       "\n",
       "           fat_100g   energy_100g   sugars_100g  saturated_fat_100g  \\\n",
       "count  45585.000000  6.215600e+04  60145.000000        60007.000000   \n",
       "mean      13.293629  1.174376e+03     13.396842            5.451226   \n",
       "std       16.752498  1.308400e+04     19.010655            8.554641   \n",
       "min        0.000000  0.000000e+00     -0.100000            0.000000   \n",
       "25%        1.400000  4.310000e+02      1.000000            0.300000   \n",
       "50%        7.000000  1.037000e+03      4.000000            2.000000   \n",
       "75%       21.000000  1.648000e+03     17.860000            7.500000   \n",
       "max      380.000000  3.251373e+06    105.000000          210.000000   \n",
       "\n",
       "        sodium_100g    fiber_100g  proteins_100g  \n",
       "count  60194.000000  44059.000000   61881.000000  \n",
       "mean       0.457503      2.576606       7.787648  \n",
       "std        1.677578      4.682310       7.889584  \n",
       "min        0.000000      0.000000       0.000000  \n",
       "25%        0.031496      0.000000       1.900000  \n",
       "50%        0.220472      1.400000       6.000000  \n",
       "75%        0.492126      3.200000      11.000000  \n",
       "max       83.000000    178.000000     100.000000  "
      ]
     },
     "execution_count": 41,
     "metadata": {},
     "output_type": "execute_result"
    }
   ],
   "source": [
    "foodClean02.describe()"
   ]
  },
  {
   "cell_type": "markdown",
   "id": "0e14783f",
   "metadata": {},
   "source": [
    "On peut remarquer que :\n",
    "- il y a des valeurs **négatives** pour les features \"nutrition_score_fr_100g\", ce qui est normal, et pour **\"sugars_100g\"**, ce qui devra être traîté\n",
    "- les valeurs maximales pour les valeurs nutritionnelles \" *..._100g* \" classiques (hors score nutritionnel et énergie) comportent des irrégularités car **certaines sont supérieures à 100g**...\n",
    "- après quelques recherches, la quantité maximale d'énergie pour 1g est de 37 kJ/g. Donc théoriquement les valeurs de la colonne **\"energy_100g\" ne peuvent pas dépasser 3700**, là où le maximum est de 3 251 373... L'écart-type est du coup vraiment impacté : 13084...\n",
    "\n",
    "Pour la suite de l'étude, on ne considérera pas ces observations.\n",
    "\n",
    "D'autres opérations de nettoyage seront également menées, cette fois basées sur le contexte métier."
   ]
  },
  {
   "cell_type": "markdown",
   "id": "127780c9",
   "metadata": {},
   "source": [
    "### P2.3.1. Poids en sucre négatif\n"
   ]
  },
  {
   "cell_type": "code",
   "execution_count": 42,
   "id": "fa3b44a9",
   "metadata": {},
   "outputs": [],
   "source": [
    "# exclude products whose \"sugars_100g\" <0\n",
    "\n",
    "foodClean03=foodClean02.copy()\n",
    "foodClean03=foodClean03.loc[~(foodClean03.sugars_100g<0)]"
   ]
  },
  {
   "cell_type": "code",
   "execution_count": 43,
   "id": "1c44ce41",
   "metadata": {},
   "outputs": [
    {
     "name": "stdout",
     "output_type": "stream",
     "text": [
      "On a retiré  1  produits dont un des composants pesait plus de 100g\n"
     ]
    }
   ],
   "source": [
    "print(\"On a retiré \",foodClean02.shape[0]-foodClean03.shape[0],\" produits dont un des composants pesait plus de 100g\")"
   ]
  },
  {
   "cell_type": "markdown",
   "id": "a56b1fd4",
   "metadata": {},
   "source": [
    "### P2.3.2. Poids des constituants pour 100g supérieurs à 100g \n"
   ]
  },
  {
   "cell_type": "markdown",
   "id": "cb3c16b5",
   "metadata": {},
   "source": [
    "Sélectionnons tout d'abord les features à traiter :"
   ]
  },
  {
   "cell_type": "code",
   "execution_count": 44,
   "id": "7841cb55",
   "metadata": {},
   "outputs": [
    {
     "data": {
      "text/plain": [
       "array([dtype('O'), dtype('float64')], dtype=object)"
      ]
     },
     "execution_count": 44,
     "metadata": {},
     "output_type": "execute_result"
    }
   ],
   "source": [
    "# first, look a columns types\n",
    "foodClean03.dtypes.unique()"
   ]
  },
  {
   "cell_type": "code",
   "execution_count": 45,
   "id": "c3a4f2c2",
   "metadata": {},
   "outputs": [
    {
     "data": {
      "text/plain": [
       "['nutrition_score_fr_100g',\n",
       " 'salt_100g',\n",
       " 'carbohydrates_100g',\n",
       " 'fat_100g',\n",
       " 'energy_100g',\n",
       " 'sugars_100g',\n",
       " 'saturated_fat_100g',\n",
       " 'sodium_100g',\n",
       " 'fiber_100g',\n",
       " 'proteins_100g']"
      ]
     },
     "execution_count": 45,
     "metadata": {},
     "output_type": "execute_result"
    }
   ],
   "source": [
    "# select numerical columns\n",
    "componentFeatures=foodClean03.select_dtypes(\"float64\").columns.tolist()\n",
    "componentFeatures"
   ]
  },
  {
   "cell_type": "code",
   "execution_count": 46,
   "id": "0383a835",
   "metadata": {},
   "outputs": [],
   "source": [
    "# exclude \"non component\" columns\n",
    "componentFeatures.remove(\"nutrition_score_fr_100g\")\n",
    "componentFeatures.remove(\"energy_100g\")"
   ]
  },
  {
   "cell_type": "code",
   "execution_count": 47,
   "id": "c1e7e1fc",
   "metadata": {},
   "outputs": [],
   "source": [
    "# exclude products whose component \"..._100g\" is above 100 :\n",
    "foodClean04=foodClean03.copy()\n",
    "foodClean04=foodClean04.loc[~((foodClean03[componentFeatures]>100).any(axis=1))]"
   ]
  },
  {
   "cell_type": "code",
   "execution_count": 48,
   "id": "49aeb92d",
   "metadata": {},
   "outputs": [
    {
     "name": "stdout",
     "output_type": "stream",
     "text": [
      "On a retiré  12  produits dont un des composants pesait plus de 100g\n"
     ]
    }
   ],
   "source": [
    "print(\"On a retiré \",foodClean03.shape[0]-foodClean04.shape[0],\" produits dont un des composants pesait plus de 100g\")"
   ]
  },
  {
   "cell_type": "markdown",
   "id": "94f038ba",
   "metadata": {},
   "source": [
    "### P2.3.3. Énergie pour 100g supérieure à 3700 kJ.\n"
   ]
  },
  {
   "cell_type": "code",
   "execution_count": 49,
   "id": "07e901db",
   "metadata": {},
   "outputs": [],
   "source": [
    "# exclude product with energy_100g > 3700\n",
    "\n",
    "foodClean05=foodClean04.copy()\n",
    "foodClean05=foodClean05.loc[~(foodClean04.energy_100g>3700)]"
   ]
  },
  {
   "cell_type": "code",
   "execution_count": 50,
   "id": "1ff9e3c0",
   "metadata": {},
   "outputs": [
    {
     "name": "stdout",
     "output_type": "stream",
     "text": [
      "On a retiré  252  produits dont l'énergie était supérieure à 3700 kJ\n"
     ]
    }
   ],
   "source": [
    "print(\"On a retiré \",foodClean04.shape[0]-foodClean05.shape[0],\" produits dont l'énergie était supérieure à 3700 kJ\")"
   ]
  },
  {
   "cell_type": "markdown",
   "id": "2a642996",
   "metadata": {},
   "source": [
    "### P2.3.4. Sommes des masses des constituants PRINCIPAUX VS 100g"
   ]
  },
  {
   "cell_type": "markdown",
   "id": "5a00b120",
   "metadata": {},
   "source": [
    "On peut aussi s'interroger sur les constituants dans leur ensemble. En effet, la somme des différents constituants \"..._100g\" ne devrait pas faire plus de 100g.\n",
    "\n",
    "La question est de savoir quels constituants sommer. En effet certains sont des sous-produits d'autres constituants...\n",
    "\n",
    "Après un peu de recherche (source https://ciqual.anses.fr/#/cms/questions-reponses/node/23), les \"macro-constituants\", dont la somme est censée être égale à 100, sont les suivant : **protéines, glucides totaux, lipides, alcool, cendres et eau**. Balayons ces différents éléments :\n",
    "\n",
    "- proteins_100g : ok\n",
    "- carbohydrates_100g : ok\n",
    "- fat_100g : ok\n",
    "- alcohol_100g : a été retiré du dataframe... Nous pouvons le réintégrer provisoirement\n",
    "- cendres : correspondent au minéraux. Il ne nous reste que le sodium (sel)\n",
    "- eau : ne fait pas partie de nos données\n",
    "\n",
    "Nous allons nous concentrer sur les composants principaux à notre disposition. **Si la somme de ces masses est supérieure à 100g, et ce même sans les informations manquantes (on pense notamment à l'eau), alors nous écarterons le produit en question.**"
   ]
  },
  {
   "cell_type": "code",
   "execution_count": 51,
   "id": "40151316",
   "metadata": {},
   "outputs": [],
   "source": [
    "# main nutrients column names \n",
    "macroNutCols=[\n",
    "    'alcohol_100g',\n",
    "    'proteins_100g',\n",
    "    'carbohydrates_100g',\n",
    "    'fat_100g',\n",
    "    'salt_100g'\n",
    "]\n",
    "\n",
    "# create a dataframe with \"alcohol_100g\" back in\n",
    "foodClean_WithAlcohol=foodClean05.copy()\n",
    "foodClean_WithAlcohol['alcohol_100g']=foodRaw.loc[foodClean_WithAlcohol.index,\"alcohol_100g\"]"
   ]
  },
  {
   "cell_type": "code",
   "execution_count": 52,
   "id": "b129f27b",
   "metadata": {},
   "outputs": [],
   "source": [
    "# create a mask with sum of macroNutCols > 100\n",
    "mask_MacroAbove100=foodClean_WithAlcohol[macroNutCols].sum(axis=1)>100"
   ]
  },
  {
   "cell_type": "code",
   "execution_count": 53,
   "id": "a6a80f53",
   "metadata": {},
   "outputs": [],
   "source": [
    "# exclude products\n",
    "foodClean06=foodClean05.copy()\n",
    "foodClean06=foodClean06.loc[~mask_MacroAbove100]"
   ]
  },
  {
   "cell_type": "code",
   "execution_count": 54,
   "id": "f5589b74",
   "metadata": {},
   "outputs": [
    {
     "name": "stdout",
     "output_type": "stream",
     "text": [
      "On a retiré  124  produits dont la somme des ..._100g faisait plus de 100g\n"
     ]
    }
   ],
   "source": [
    "print(\"On a retiré \",foodClean05.shape[0]-foodClean06.shape[0],\" produits dont la somme des ..._100g faisait plus de 100g\")"
   ]
  },
  {
   "cell_type": "markdown",
   "id": "aa365b92",
   "metadata": {},
   "source": [
    "### P2.3.5. Masse d'un sous-composant > macro-composant\n",
    "\n",
    "Sur le même principe, un sous-produit ne devrait pas avoir une masse supérieure à celle du produit principal.\n",
    "\n",
    "Si l'on se concentre sur nos features, voici les comparaisons à mener :\n",
    "- \"sugars_100g\" > \"carbohydrates_100g\"\n",
    "- \"saturated_fat_100g\" > \"fat_100g\"\n",
    "- \"sodium_100g\" > \"salt_100g\""
   ]
  },
  {
   "cell_type": "code",
   "execution_count": 298,
   "id": "96c52af2",
   "metadata": {},
   "outputs": [],
   "source": [
    "# create a mask with subcomponent > main component\n",
    "\n",
    "thresholdRate=1.05\n",
    "mask_MicroAboveMacro=(\n",
    "    ((foodClean06['saturated_fat_100g']>foodClean06[\"fat_100g\"]*thresholdRate)&(foodClean06[\"fat_100g\"].notna()))\n",
    "    |\n",
    "    ((foodClean06['sugars_100g']>foodClean06['carbohydrates_100g']*thresholdRate)&(foodClean06['carbohydrates_100g'].notna()))\n",
    "    |\n",
    "    ((foodClean06['sodium_100g']>foodClean06['salt_100g']*thresholdRate)&(foodClean06['salt_100g'].notna()))\n",
    ")"
   ]
  },
  {
   "cell_type": "code",
   "execution_count": 299,
   "id": "89f7333d",
   "metadata": {},
   "outputs": [],
   "source": [
    "# exclude products\n",
    "foodClean07=foodClean06.copy()\n",
    "foodClean07=foodClean07.loc[~mask_MicroAboveMacro]"
   ]
  },
  {
   "cell_type": "code",
   "execution_count": 300,
   "id": "f761b560",
   "metadata": {},
   "outputs": [
    {
     "name": "stdout",
     "output_type": "stream",
     "text": [
      "On a retiré  150  produits dont la masse d'un sous-constituant dépassait celle du constituant principal\n"
     ]
    }
   ],
   "source": [
    "print(\"On a retiré \",foodClean06.shape[0]-foodClean07.shape[0],\" produits dont la masse d'un sous-constituant dépassait celle du constituant principal\")"
   ]
  },
  {
   "cell_type": "markdown",
   "id": "9812c30d",
   "metadata": {},
   "source": [
    "### P2.3.6. Traitement des outliers, impact sur la moyenne et l'écart-type\n",
    "\n",
    "La moyenne est l'écart-type sont sensibles aux outliers. Nous pouvons regarder si les traitements précédents ont eu un effet positif.\n",
    "\n",
    "Pour cela nous allons étudier l'évolution de ces statistiques au fil des étapes de nettoyage."
   ]
  },
  {
   "cell_type": "code",
   "execution_count": 359,
   "id": "6af7d7d2",
   "metadata": {},
   "outputs": [],
   "source": [
    "# put the different foodClean## in a list\n",
    "listFoodCleanDfs = [\n",
    "    foodClean02,\n",
    "    foodClean03,\n",
    "    foodClean04,\n",
    "    foodClean05,\n",
    "    foodClean06,\n",
    "    foodClean07\n",
    "]\n",
    "\n",
    "# list of names of numerical features\n",
    "numericalFeatureNames=foodClean03.select_dtypes(\"float64\").columns.tolist()\n",
    "numericalFeatureNames.remove(\"energy_100g\")\n",
    "numericalFeatureNames.append(\"energy_100g\") # put \"energy_100g\" at the end of the list\n",
    "\n",
    "# list of lists to store the empirical means of each numerical feature, for each cleaned dataframe\n",
    "listOfMeans=[\n",
    "    [listFoodCleanDfs[i][col].mean() for col in  numericalFeatureNames] \n",
    "    for i in range(len(listFoodCleanDfs))\n",
    "]\n",
    "\n",
    "# list of lists to store the empirical stds of each numerical feature, for each cleaned dataframe\n",
    "listOfStds=[\n",
    "    [listFoodCleanDfs[i][col].std(ddof=1) for col in  numericalFeatureNames] \n",
    "    for i in range(len(listFoodCleanDfs))\n",
    "] "
   ]
  },
  {
   "cell_type": "code",
   "execution_count": 351,
   "id": "2c9a4139",
   "metadata": {},
   "outputs": [],
   "source": [
    "# lists to store the evolution between each cleaning stage\n",
    "listEvolOfStd=[\n",
    "    [(listOfStds[i+1][col]-listOfStds[i][col])/listOfStds[i][col] for col in range(len(numericalFeatureNames))] \n",
    "    for i in range(len(listFoodCleanDfs)-1)\n",
    "]\n",
    "\n",
    "listEvolOfMean=[\n",
    "    [(listOfMeans[i+1][col]-listOfMeans[i][col])/listOfMeans[i][col] for col in range(len(numericalFeatureNames))] \n",
    "    for i in range(len(listOfMeans)-1)\n",
    "]\n",
    "\n",
    "# cum sum\n",
    "cumSumEvolOfStd=np.cumsum(listEvolOfStd,axis=0)\n",
    "cumSumEvolOfMean=np.cumsum(listEvolOfMean,axis=0)"
   ]
  },
  {
   "cell_type": "markdown",
   "id": "eb1b1e42",
   "metadata": {},
   "source": [
    "Pour une meilleure interprétation, nous allons représenter ces évolutions sur des graphiques :"
   ]
  },
  {
   "cell_type": "code",
   "execution_count": 362,
   "id": "eaeab9ca",
   "metadata": {
    "scrolled": false
   },
   "outputs": [
    {
     "data": {
      "image/png": "[encoded data removed]",
      "text/plain": [
       "<Figure size 1700x1700 with 4 Axes>"
      ]
     },
     "metadata": {},
     "output_type": "display_data"
    }
   ],
   "source": [
    "# visualisations of empirical mean and std evolution for each cleaning stage\n",
    "\n",
    "sns.set_palette(\"Paired\") # set color palette\n",
    "fig,axs=plt.subplots(2,2,sharex=False,figsize=(17,17)) # 4 plots \n",
    "\n",
    "axs=axs.reshape(axs.size) # reshape for easier iteration\n",
    "\n",
    "\n",
    "\n",
    "for idxCol in range(len(numericalFeatureNames)) :\n",
    "    \n",
    "    if idxCol!=numericalFeatureNames.index(\"energy_100g\") : # cleaning on \"energy_100g\" had more impact --> separate plots\n",
    "        \n",
    "        sns.lineplot(\n",
    "            ax=axs[0],\n",
    "            x=[i+3 for i in range(6-1)],\n",
    "            y=[cumSumEvolOfMean[i][idxCol] for i in range(6-1)],\n",
    "            linewidth = 3\n",
    "        )\n",
    "        \n",
    "        sns.lineplot(\n",
    "            ax=axs[1],\n",
    "            x=[i+3 for i in range(6-1)],\n",
    "            y=[cumSumEvolOfStd[i][idxCol] for i in range(6-1)],\n",
    "            linewidth = 3\n",
    "        )\n",
    "        \n",
    "    else :\n",
    "        sns.lineplot(\n",
    "            ax=axs[2],\n",
    "            x=[i+3 for i in range(6-1)],\n",
    "            y=[cumSumEvolOfMean[i][idxCol] for i in range(6-1)],\n",
    "            linewidth = 3\n",
    "        )\n",
    "        \n",
    "        sns.lineplot(\n",
    "            ax=axs[3],\n",
    "            x=[i+3 for i in range(6-1)],\n",
    "            y=[cumSumEvolOfStd[i][idxCol] for i in range(6-1)],\n",
    "            linewidth = 3\n",
    "        )\n",
    "\n",
    "# axs titles\n",
    "axs[0].set_title(\"Moyennes (hors 'energy_100g')\", fontweight=\"bold\",fontsize=18) \n",
    "axs[1].set_title(\"Écart-types (hors 'energy_100g')\", fontweight=\"bold\",fontsize=18) \n",
    "axs[2].set_title(\"Moyenne 'energy_100g'\", fontweight=\"bold\",fontsize=14) \n",
    "axs[3].set_title(\"Écart-type 'energy_100g'\", fontweight=\"bold\",fontsize=14) \n",
    "\n",
    "# for each plot\n",
    "for i in range(len(axs)) :\n",
    "    axs[i].set_xticks([3,4,5,6,7]) # 1 tick for 1 cleaning stage \n",
    "    axs[i].set_xticklabels([\"foodClean0\"+str(i+3) for i in range(5)]) # name xticks with names of dataframes\n",
    "    axs[i].set_ylabel(\"evolution %\",fontsize=15) # set y label\n",
    "    axs[i].yaxis.set_major_formatter(mtick.PercentFormatter(xmax=1)) # use matplotlib.ticker to format y axis as percent\n",
    "    \n",
    "fig.legend(numericalFeatureNames[:-1],bbox_to_anchor=(1.1,0.87),fontsize=15) # set legend - each numerical feature name...\n",
    "fig.legend([numericalFeatureNames[-1]],bbox_to_anchor=(1.04,0.45),fontsize=15) # ... except for \"energy_100g\", on a different legend\n",
    "fig.suptitle(\"Traitements successifs des outliers - Évolution de la moyenne et de l'écart type\", fontweight=\"bold\",fontsize=24) # main title\n",
    "\n",
    "plt.show()\n"
   ]
  },
  {
   "cell_type": "markdown",
   "id": "19c66208",
   "metadata": {},
   "source": [
    "Les différents étapes de nettoyage sur les outliers ont globalement :\n",
    "- diminuer les moyennes empiriques des features numériques (mis à part \"proteins_100g\")\n",
    "- diminuer les écart-types empririques"
   ]
  },
  {
   "cell_type": "markdown",
   "id": "5f7aa15f",
   "metadata": {},
   "source": [
    "# Partie 3 - Exploration"
   ]
  },
  {
   "cell_type": "markdown",
   "id": "32a00b89",
   "metadata": {},
   "source": [
    "# Tests -  score nutritionnel et nutrigrade"
   ]
  },
  {
   "cell_type": "code",
   "execution_count": 66,
   "id": "cdf4ba04",
   "metadata": {},
   "outputs": [],
   "source": [
    "testNutri=foodClean02[[\"nutrition_grade_fr\",\"nutrition_score_fr_100g\"]].copy()\n",
    "testNutri=testNutri.loc[testNutri.notna().any(axis=1)]\n",
    "testNutri=testNutri.sort_values(\"nutrition_grade_fr\")"
   ]
  },
  {
   "cell_type": "code",
   "execution_count": 67,
   "id": "a29c335c",
   "metadata": {},
   "outputs": [
    {
     "data": {
      "image/png": "[encoded data removed]",
      "text/plain": [
       "<Figure size 640x480 with 1 Axes>"
      ]
     },
     "metadata": {},
     "output_type": "display_data"
    }
   ],
   "source": [
    "sns.set(style=\"darkgrid\")\n",
    "myPalette= {\"a\": \"#02663B\",\n",
    "           \"b\": \"#8DC83E\",\n",
    "           \"c\" : \"#F4E300\",\n",
    "           \"d\" : \"#F7941D\",\n",
    "           \"e\" : \"#C31D2A\",\n",
    "           }\n",
    "sns.boxplot(data=testNutri,x=\"nutrition_grade_fr\",y=\"nutrition_score_fr_100g\",palette=myPalette);"
   ]
  },
  {
   "cell_type": "markdown",
   "id": "aac17f94",
   "metadata": {},
   "source": [
    "# Tests -  énergie et nutrigrade"
   ]
  },
  {
   "cell_type": "code",
   "execution_count": 68,
   "id": "8dbb3988",
   "metadata": {},
   "outputs": [],
   "source": [
    "testEnerNut=foodClean02[[\"nutrition_grade_fr\",\"energy_100g\"]].copy()"
   ]
  },
  {
   "cell_type": "code",
   "execution_count": 69,
   "id": "f81695f5",
   "metadata": {},
   "outputs": [],
   "source": [
    "testEnerNut=testEnerNut.loc[testEnerNut.notna().any(axis=1)]\n",
    "testEnerNut=testEnerNut.loc[testEnerNut[\"energy_100g\"]<3700]\n",
    "testEnerNut=testEnerNut.sort_values(\"nutrition_grade_fr\")"
   ]
  },
  {
   "cell_type": "code",
   "execution_count": 70,
   "id": "f12c0ad0",
   "metadata": {},
   "outputs": [
    {
     "data": {
      "text/plain": [
       "<AxesSubplot:xlabel='nutrition_grade_fr', ylabel='energy_100g'>"
      ]
     },
     "execution_count": 70,
     "metadata": {},
     "output_type": "execute_result"
    },
    {
     "data": {
      "image/png": "[encoded data removed]",
      "text/plain": [
       "<Figure size 640x480 with 1 Axes>"
      ]
     },
     "metadata": {},
     "output_type": "display_data"
    }
   ],
   "source": [
    "sns.boxplot(data=testEnerNut,x=\"nutrition_grade_fr\",y=\"energy_100g\",palette=myPalette)"
   ]
  },
  {
   "cell_type": "markdown",
   "id": "b040e03e",
   "metadata": {},
   "source": [
    "# Tests -  énergie et nutrigrade"
   ]
  },
  {
   "cell_type": "code",
   "execution_count": 71,
   "id": "eb462cf3",
   "metadata": {},
   "outputs": [
    {
     "data": {
      "text/plain": [
       "unknown                             22624\n",
       "One-dish meals                       5546\n",
       "Sweets                               4698\n",
       "Biscuits and cakes                   4561\n",
       "Non-sugared beverages                4302\n",
       "Cereals                              4106\n",
       "Cheese                               4024\n",
       "Dressings and sauces                 3602\n",
       "Milk and yogurt                      3297\n",
       "Processed meat                       3247\n",
       "Chocolate products                   3109\n",
       "Alcoholic beverages                  2909\n",
       "Vegetables                           2840\n",
       "Fish and seafood                     2638\n",
       "Sweetened beverages                  2170\n",
       "Appetizers                           2101\n",
       "Fruits                               2068\n",
       "Fruit juices                         1924\n",
       "Bread                                1838\n",
       "Meat                                 1694\n",
       "Fats                                 1614\n",
       "Breakfast cereals                    1408\n",
       "vegetables                            934\n",
       "Legumes                               925\n",
       "Dairy desserts                        783\n",
       "Ice cream                             721\n",
       "Nuts                                  689\n",
       "Sandwich                              686\n",
       "Pizza pies and quiche                 515\n",
       "Soups                                 503\n",
       "Dried fruits                          497\n",
       "pastries                              496\n",
       "Eggs                                  462\n",
       "Fruit nectars                         376\n",
       "Artificially sweetened beverages      261\n",
       "Potatoes                              165\n",
       "Tripe dishes                           69\n",
       "fruits                                 53\n",
       "Salty and fatty products               19\n",
       "cereals                                12\n",
       "legumes                                 4\n",
       "nuts                                    1\n",
       "Name: pnns_groups_2, dtype: int64"
      ]
     },
     "execution_count": 71,
     "metadata": {},
     "output_type": "execute_result"
    }
   ],
   "source": [
    "foodRaw.pnns_groups_2.value_counts()"
   ]
  },
  {
   "cell_type": "code",
   "execution_count": 72,
   "id": "e0755be3",
   "metadata": {},
   "outputs": [
    {
     "data": {
      "text/plain": [
       "'C:\\\\Users\\\\cleme\\\\OneDrive\\\\Documents\\\\8. TRAVAIL CLEMENT\\\\2.3. Reconversion Data\\\\1. OpenClassRooms\\\\2. Projets\\\\2.3. Préparez données pour organisme santé publique'"
      ]
     },
     "execution_count": 72,
     "metadata": {},
     "output_type": "execute_result"
    }
   ],
   "source": [
    "%pwd"
   ]
  },
  {
   "cell_type": "markdown",
   "id": "80e8dcbd",
   "metadata": {},
   "source": [
    "# Tests -  salt et sodium"
   ]
  },
  {
   "cell_type": "code",
   "execution_count": 358,
   "id": "42b2ea09",
   "metadata": {},
   "outputs": [
    {
     "data": {
      "text/html": [
       "<div>\n",
       "<style scoped>\n",
       "    .dataframe tbody tr th:only-of-type {\n",
       "        vertical-align: middle;\n",
       "    }\n",
       "\n",
       "    .dataframe tbody tr th {\n",
       "        vertical-align: top;\n",
       "    }\n",
       "\n",
       "    .dataframe thead th {\n",
       "        text-align: right;\n",
       "    }\n",
       "</style>\n",
       "<table border=\"1\" class=\"dataframe\">\n",
       "  <thead>\n",
       "    <tr style=\"text-align: right;\">\n",
       "      <th></th>\n",
       "      <th>sodium_100g</th>\n",
       "      <th>salt_100g</th>\n",
       "    </tr>\n",
       "  </thead>\n",
       "  <tbody>\n",
       "    <tr>\n",
       "      <th>192840</th>\n",
       "      <td>NaN</td>\n",
       "      <td>0.1016</td>\n",
       "    </tr>\n",
       "    <tr>\n",
       "      <th>254025</th>\n",
       "      <td>NaN</td>\n",
       "      <td>0.0000</td>\n",
       "    </tr>\n",
       "    <tr>\n",
       "      <th>282383</th>\n",
       "      <td>NaN</td>\n",
       "      <td>0.0254</td>\n",
       "    </tr>\n",
       "  </tbody>\n",
       "</table>\n",
       "</div>"
      ],
      "text/plain": [
       "        sodium_100g  salt_100g\n",
       "192840          NaN     0.1016\n",
       "254025          NaN     0.0000\n",
       "282383          NaN     0.0254"
      ]
     },
     "execution_count": 358,
     "metadata": {},
     "output_type": "execute_result"
    }
   ],
   "source": [
    "foodClean07.loc[(foodClean07.sodium_100g.isna())^(foodClean07.salt_100g.isna())][[\"sodium_100g\",\"salt_100g\"]]"
   ]
  }
 ],
 "metadata": {
  "kernelspec": {
   "display_name": "envP3",
   "language": "python",
   "name": "envp3"
  },
  "language_info": {
   "codemirror_mode": {
    "name": "ipython",
    "version": 3
   },
   "file_extension": ".py",
   "mimetype": "text/x-python",
   "name": "python",
   "nbconvert_exporter": "python",
   "pygments_lexer": "ipython3",
   "version": "3.9.13"
  }
 },
 "nbformat": 4,
 "nbformat_minor": 5
}
